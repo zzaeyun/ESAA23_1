{
  "nbformat": 4,
  "nbformat_minor": 0,
  "metadata": {
    "colab": {
      "provenance": [],
      "authorship_tag": "ABX9TyM/7Mi1ToYCb4uYIZZL5joD",
      "include_colab_link": true
    },
    "kernelspec": {
      "name": "python3",
      "display_name": "Python 3"
    },
    "language_info": {
      "name": "python"
    }
  },
  "cells": [
    {
      "cell_type": "markdown",
      "metadata": {
        "id": "view-in-github",
        "colab_type": "text"
      },
      "source": [
        "<a href=\"https://colab.research.google.com/github/zzaeyun/ESAA23_1/blob/main/OB%EB%B3%B5%EC%8A%B5_%EB%A9%9C%EB%A1%A0%EA%B0%80%EC%82%AC_%ED%95%84%EC%82%AC.ipynb\" target=\"_parent\"><img src=\"https://colab.research.google.com/assets/colab-badge.svg\" alt=\"Open In Colab\"/></a>"
      ]
    },
    {
      "cell_type": "markdown",
      "source": [
        "출처 https://rahites.tistory.com/103\n",
        "\n"
      ],
      "metadata": {
        "id": "wPMsdgoTTpYm"
      }
    },
    {
      "cell_type": "markdown",
      "source": [
        "멜론 플랫폼의 1990~2021년까지 연도별 Top30 곡의 노래 가사를 크롤링하여 텍스트 분석 후 Top10 여부 예측\n",
        "\n",
        "> 현재 2022년까지 데이터를 가져올 수 있으므로 1990~2022년을 기준으로\n",
        "\n",
        "> 크롤링 코드가 잘 안돌아가서.. 코드는 돌리지 않았습니다 .."
      ],
      "metadata": {
        "id": "odu2aNjQTzaZ"
      }
    },
    {
      "cell_type": "code",
      "source": [
        "!pip install selenium\n",
        "!apt-get update\n",
        "!apt install chromium-chromedriver\n",
        "!cp /usr/lib/chromium-browser/chromedriver /usr/bin"
      ],
      "metadata": {
        "colab": {
          "base_uri": "https://localhost:8080/"
        },
        "id": "lO0MCQFREti1",
        "outputId": "f25b76e6-0fd0-4ec0-ebfc-772ba1992c19"
      },
      "execution_count": 2,
      "outputs": [
        {
          "output_type": "stream",
          "name": "stdout",
          "text": [
            "Collecting selenium\n",
            "  Downloading selenium-4.11.2-py3-none-any.whl (7.2 MB)\n",
            "\u001b[2K     \u001b[90m━━━━━━━━━━━━━━━━━━━━━━━━━━━━━━━━━━━━━━━━\u001b[0m \u001b[32m7.2/7.2 MB\u001b[0m \u001b[31m14.4 MB/s\u001b[0m eta \u001b[36m0:00:00\u001b[0m\n",
            "\u001b[?25hRequirement already satisfied: urllib3[socks]<3,>=1.26 in /usr/local/lib/python3.10/dist-packages (from selenium) (2.0.4)\n",
            "Collecting trio~=0.17 (from selenium)\n",
            "  Downloading trio-0.22.2-py3-none-any.whl (400 kB)\n",
            "\u001b[2K     \u001b[90m━━━━━━━━━━━━━━━━━━━━━━━━━━━━━━━━━━━━━━\u001b[0m \u001b[32m400.2/400.2 kB\u001b[0m \u001b[31m19.8 MB/s\u001b[0m eta \u001b[36m0:00:00\u001b[0m\n",
            "\u001b[?25hCollecting trio-websocket~=0.9 (from selenium)\n",
            "  Downloading trio_websocket-0.10.3-py3-none-any.whl (17 kB)\n",
            "Requirement already satisfied: certifi>=2021.10.8 in /usr/local/lib/python3.10/dist-packages (from selenium) (2023.7.22)\n",
            "Requirement already satisfied: attrs>=20.1.0 in /usr/local/lib/python3.10/dist-packages (from trio~=0.17->selenium) (23.1.0)\n",
            "Requirement already satisfied: sortedcontainers in /usr/local/lib/python3.10/dist-packages (from trio~=0.17->selenium) (2.4.0)\n",
            "Requirement already satisfied: idna in /usr/local/lib/python3.10/dist-packages (from trio~=0.17->selenium) (3.4)\n",
            "Collecting outcome (from trio~=0.17->selenium)\n",
            "  Downloading outcome-1.2.0-py2.py3-none-any.whl (9.7 kB)\n",
            "Requirement already satisfied: sniffio in /usr/local/lib/python3.10/dist-packages (from trio~=0.17->selenium) (1.3.0)\n",
            "Requirement already satisfied: exceptiongroup>=1.0.0rc9 in /usr/local/lib/python3.10/dist-packages (from trio~=0.17->selenium) (1.1.3)\n",
            "Collecting wsproto>=0.14 (from trio-websocket~=0.9->selenium)\n",
            "  Downloading wsproto-1.2.0-py3-none-any.whl (24 kB)\n",
            "Requirement already satisfied: pysocks!=1.5.7,<2.0,>=1.5.6 in /usr/local/lib/python3.10/dist-packages (from urllib3[socks]<3,>=1.26->selenium) (1.7.1)\n",
            "Collecting h11<1,>=0.9.0 (from wsproto>=0.14->trio-websocket~=0.9->selenium)\n",
            "  Downloading h11-0.14.0-py3-none-any.whl (58 kB)\n",
            "\u001b[2K     \u001b[90m━━━━━━━━━━━━━━━━━━━━━━━━━━━━━━━━━━━━━━━━\u001b[0m \u001b[32m58.3/58.3 kB\u001b[0m \u001b[31m5.5 MB/s\u001b[0m eta \u001b[36m0:00:00\u001b[0m\n",
            "\u001b[?25hInstalling collected packages: outcome, h11, wsproto, trio, trio-websocket, selenium\n",
            "Successfully installed h11-0.14.0 outcome-1.2.0 selenium-4.11.2 trio-0.22.2 trio-websocket-0.10.3 wsproto-1.2.0\n",
            "Hit:1 http://archive.ubuntu.com/ubuntu jammy InRelease\n",
            "Get:2 http://security.ubuntu.com/ubuntu jammy-security InRelease [110 kB]\n",
            "Get:3 http://archive.ubuntu.com/ubuntu jammy-updates InRelease [119 kB]\n",
            "Get:4 https://cloud.r-project.org/bin/linux/ubuntu jammy-cran40/ InRelease [3,626 B]\n",
            "Get:5 https://developer.download.nvidia.com/compute/cuda/repos/ubuntu2204/x86_64  InRelease [1,581 B]\n",
            "Get:6 http://archive.ubuntu.com/ubuntu jammy-backports InRelease [109 kB]\n",
            "Get:7 https://developer.download.nvidia.com/compute/cuda/repos/ubuntu2204/x86_64  Packages [458 kB]\n",
            "Hit:8 https://ppa.launchpadcontent.net/c2d4u.team/c2d4u4.0+/ubuntu jammy InRelease\n",
            "Get:9 http://security.ubuntu.com/ubuntu jammy-security/main amd64 Packages [860 kB]\n",
            "Get:10 http://archive.ubuntu.com/ubuntu jammy-updates/main amd64 Packages [1,136 kB]\n",
            "Get:11 http://security.ubuntu.com/ubuntu jammy-security/universe amd64 Packages [980 kB]\n",
            "Get:12 http://archive.ubuntu.com/ubuntu jammy-updates/universe amd64 Packages [1,241 kB]\n",
            "Hit:13 https://ppa.launchpadcontent.net/deadsnakes/ppa/ubuntu jammy InRelease\n",
            "Hit:14 https://ppa.launchpadcontent.net/graphics-drivers/ppa/ubuntu jammy InRelease\n",
            "Hit:15 https://ppa.launchpadcontent.net/ubuntugis/ppa/ubuntu jammy InRelease\n",
            "Fetched 5,017 kB in 2s (2,802 kB/s)\n",
            "Reading package lists... Done\n",
            "Reading package lists... Done\n",
            "Building dependency tree... Done\n",
            "Reading state information... Done\n",
            "The following additional packages will be installed:\n",
            "  apparmor chromium-browser libfuse3-3 liblzo2-2 snapd squashfs-tools\n",
            "  systemd-hwe-hwdb udev\n",
            "Suggested packages:\n",
            "  apparmor-profiles-extra apparmor-utils fuse3 zenity | kdialog\n",
            "The following NEW packages will be installed:\n",
            "  apparmor chromium-browser chromium-chromedriver libfuse3-3 liblzo2-2 snapd\n",
            "  squashfs-tools systemd-hwe-hwdb udev\n",
            "0 upgraded, 9 newly installed, 0 to remove and 16 not upgraded.\n",
            "Need to get 26.3 MB of archives.\n",
            "After this operation, 116 MB of additional disk space will be used.\n",
            "Get:1 http://archive.ubuntu.com/ubuntu jammy-updates/main amd64 apparmor amd64 3.0.4-2ubuntu2.2 [595 kB]\n",
            "Get:2 http://archive.ubuntu.com/ubuntu jammy/main amd64 liblzo2-2 amd64 2.10-2build3 [53.7 kB]\n",
            "Get:3 http://archive.ubuntu.com/ubuntu jammy/main amd64 squashfs-tools amd64 1:4.5-3build1 [159 kB]\n",
            "Get:4 http://archive.ubuntu.com/ubuntu jammy-updates/main amd64 udev amd64 249.11-0ubuntu3.9 [1,557 kB]\n",
            "Get:5 http://archive.ubuntu.com/ubuntu jammy/main amd64 libfuse3-3 amd64 3.10.5-1build1 [81.2 kB]\n",
            "Get:6 http://archive.ubuntu.com/ubuntu jammy-updates/main amd64 snapd amd64 2.58+22.04.1 [23.8 MB]\n",
            "Get:7 http://archive.ubuntu.com/ubuntu jammy-updates/universe amd64 chromium-browser amd64 1:85.0.4183.83-0ubuntu2.22.04.1 [49.2 kB]\n",
            "Get:8 http://archive.ubuntu.com/ubuntu jammy-updates/universe amd64 chromium-chromedriver amd64 1:85.0.4183.83-0ubuntu2.22.04.1 [2,308 B]\n",
            "Get:9 http://archive.ubuntu.com/ubuntu jammy-updates/main amd64 systemd-hwe-hwdb all 249.11.3 [2,908 B]\n",
            "Fetched 26.3 MB in 1s (30.1 MB/s)\n",
            "Preconfiguring packages ...\n",
            "Selecting previously unselected package apparmor.\n",
            "(Reading database ... 120831 files and directories currently installed.)\n",
            "Preparing to unpack .../0-apparmor_3.0.4-2ubuntu2.2_amd64.deb ...\n",
            "Unpacking apparmor (3.0.4-2ubuntu2.2) ...\n",
            "Selecting previously unselected package liblzo2-2:amd64.\n",
            "Preparing to unpack .../1-liblzo2-2_2.10-2build3_amd64.deb ...\n",
            "Unpacking liblzo2-2:amd64 (2.10-2build3) ...\n",
            "Selecting previously unselected package squashfs-tools.\n",
            "Preparing to unpack .../2-squashfs-tools_1%3a4.5-3build1_amd64.deb ...\n",
            "Unpacking squashfs-tools (1:4.5-3build1) ...\n",
            "Selecting previously unselected package udev.\n",
            "Preparing to unpack .../3-udev_249.11-0ubuntu3.9_amd64.deb ...\n",
            "Unpacking udev (249.11-0ubuntu3.9) ...\n",
            "Selecting previously unselected package libfuse3-3:amd64.\n",
            "Preparing to unpack .../4-libfuse3-3_3.10.5-1build1_amd64.deb ...\n",
            "Unpacking libfuse3-3:amd64 (3.10.5-1build1) ...\n",
            "Selecting previously unselected package snapd.\n",
            "Preparing to unpack .../5-snapd_2.58+22.04.1_amd64.deb ...\n",
            "Unpacking snapd (2.58+22.04.1) ...\n",
            "Setting up apparmor (3.0.4-2ubuntu2.2) ...\n",
            "Created symlink /etc/systemd/system/sysinit.target.wants/apparmor.service → /lib/systemd/system/apparmor.service.\n",
            "Setting up liblzo2-2:amd64 (2.10-2build3) ...\n",
            "Setting up squashfs-tools (1:4.5-3build1) ...\n",
            "Setting up udev (249.11-0ubuntu3.9) ...\n",
            "invoke-rc.d: could not determine current runlevel\n",
            "invoke-rc.d: policy-rc.d denied execution of start.\n",
            "Setting up libfuse3-3:amd64 (3.10.5-1build1) ...\n",
            "Setting up snapd (2.58+22.04.1) ...\n",
            "Created symlink /etc/systemd/system/multi-user.target.wants/snapd.aa-prompt-listener.service → /lib/systemd/system/snapd.aa-prompt-listener.service.\n",
            "Created symlink /etc/systemd/system/multi-user.target.wants/snapd.apparmor.service → /lib/systemd/system/snapd.apparmor.service.\n",
            "Created symlink /etc/systemd/system/multi-user.target.wants/snapd.autoimport.service → /lib/systemd/system/snapd.autoimport.service.\n",
            "Created symlink /etc/systemd/system/multi-user.target.wants/snapd.core-fixup.service → /lib/systemd/system/snapd.core-fixup.service.\n",
            "Created symlink /etc/systemd/system/multi-user.target.wants/snapd.recovery-chooser-trigger.service → /lib/systemd/system/snapd.recovery-chooser-trigger.service.\n",
            "Created symlink /etc/systemd/system/multi-user.target.wants/snapd.seeded.service → /lib/systemd/system/snapd.seeded.service.\n",
            "Created symlink /etc/systemd/system/cloud-final.service.wants/snapd.seeded.service → /lib/systemd/system/snapd.seeded.service.\n",
            "Unit /lib/systemd/system/snapd.seeded.service is added as a dependency to a non-existent unit cloud-final.service.\n",
            "Created symlink /etc/systemd/system/multi-user.target.wants/snapd.service → /lib/systemd/system/snapd.service.\n",
            "Created symlink /etc/systemd/system/timers.target.wants/snapd.snap-repair.timer → /lib/systemd/system/snapd.snap-repair.timer.\n",
            "Created symlink /etc/systemd/system/sockets.target.wants/snapd.socket → /lib/systemd/system/snapd.socket.\n",
            "Created symlink /etc/systemd/system/final.target.wants/snapd.system-shutdown.service → /lib/systemd/system/snapd.system-shutdown.service.\n",
            "Selecting previously unselected package chromium-browser.\n",
            "(Reading database ... 121271 files and directories currently installed.)\n",
            "Preparing to unpack .../chromium-browser_1%3a85.0.4183.83-0ubuntu2.22.04.1_amd64.deb ...\n",
            "=> Installing the chromium snap\n",
            "==> Checking connectivity with the snap store\n",
            "===> System doesn't have a working snapd, skipping\n",
            "Unpacking chromium-browser (1:85.0.4183.83-0ubuntu2.22.04.1) ...\n",
            "Selecting previously unselected package chromium-chromedriver.\n",
            "Preparing to unpack .../chromium-chromedriver_1%3a85.0.4183.83-0ubuntu2.22.04.1_amd64.deb ...\n",
            "Unpacking chromium-chromedriver (1:85.0.4183.83-0ubuntu2.22.04.1) ...\n",
            "Selecting previously unselected package systemd-hwe-hwdb.\n",
            "Preparing to unpack .../systemd-hwe-hwdb_249.11.3_all.deb ...\n",
            "Unpacking systemd-hwe-hwdb (249.11.3) ...\n",
            "Setting up systemd-hwe-hwdb (249.11.3) ...\n",
            "Setting up chromium-browser (1:85.0.4183.83-0ubuntu2.22.04.1) ...\n",
            "update-alternatives: using /usr/bin/chromium-browser to provide /usr/bin/x-www-browser (x-www-browser) in auto mode\n",
            "update-alternatives: using /usr/bin/chromium-browser to provide /usr/bin/gnome-www-browser (gnome-www-browser) in auto mode\n",
            "Setting up chromium-chromedriver (1:85.0.4183.83-0ubuntu2.22.04.1) ...\n",
            "Processing triggers for udev (249.11-0ubuntu3.9) ...\n",
            "Processing triggers for hicolor-icon-theme (0.17-2) ...\n",
            "Processing triggers for libc-bin (2.35-0ubuntu3.1) ...\n",
            "/sbin/ldconfig.real: /usr/local/lib/libtbb.so.12 is not a symbolic link\n",
            "\n",
            "/sbin/ldconfig.real: /usr/local/lib/libtbbmalloc.so.2 is not a symbolic link\n",
            "\n",
            "/sbin/ldconfig.real: /usr/local/lib/libtbbmalloc_proxy.so.2 is not a symbolic link\n",
            "\n",
            "/sbin/ldconfig.real: /usr/local/lib/libtbbbind_2_5.so.3 is not a symbolic link\n",
            "\n",
            "/sbin/ldconfig.real: /usr/local/lib/libtbbbind_2_0.so.3 is not a symbolic link\n",
            "\n",
            "/sbin/ldconfig.real: /usr/local/lib/libtbbbind.so.3 is not a symbolic link\n",
            "\n",
            "Processing triggers for man-db (2.10.2-1) ...\n",
            "Processing triggers for dbus (1.12.20-2ubuntu4.1) ...\n",
            "cp: '/usr/lib/chromium-browser/chromedriver' and '/usr/bin/chromedriver' are the same file\n"
          ]
        }
      ]
    },
    {
      "cell_type": "code",
      "source": [
        "from selenium import webdriver\n",
        "from selenium.webdriver.common.by import By"
      ],
      "metadata": {
        "id": "bc0WnM1PEuRV"
      },
      "execution_count": 1,
      "outputs": []
    },
    {
      "cell_type": "code",
      "execution_count": 2,
      "metadata": {
        "id": "xOaFBAomTjO7"
      },
      "outputs": [],
      "source": [
        "import pandas as pd\n",
        "import numpy as np\n",
        "import time\n",
        "from selenium import webdriver\n",
        "from selenium.webdriver.chrome.options import Options\n",
        "from selenium.webdriver.chrome.service import Service\n",
        "from selenium.webdriver.common.by import By\n",
        "import re\n",
        "from bs4 import BeautifulSoup"
      ]
    },
    {
      "cell_type": "code",
      "source": [
        "options = webdriver.ChromeOptions()\n",
        "options.add_argument('—headless')        # Head-less 설정\n",
        "options.add_argument('—no-sandbox')\n",
        "options.add_argument('—disable-dev-shm-usage')\n",
        "driver = webdriver.Chrome(options=options)"
      ],
      "metadata": {
        "colab": {
          "base_uri": "https://localhost:8080/",
          "height": 687
        },
        "id": "9wwdkWKQEvIk",
        "outputId": "5e189e9b-5ce1-4b4e-9431-a5a6da7367f2"
      },
      "execution_count": 4,
      "outputs": [
        {
          "output_type": "error",
          "ename": "WebDriverException",
          "evalue": "ignored",
          "traceback": [
            "\u001b[0;31m---------------------------------------------------------------------------\u001b[0m",
            "\u001b[0;31mWebDriverException\u001b[0m                        Traceback (most recent call last)",
            "\u001b[0;32m<ipython-input-4-0b724b8161f8>\u001b[0m in \u001b[0;36m<cell line: 5>\u001b[0;34m()\u001b[0m\n\u001b[1;32m      3\u001b[0m \u001b[0moptions\u001b[0m\u001b[0;34m.\u001b[0m\u001b[0madd_argument\u001b[0m\u001b[0;34m(\u001b[0m\u001b[0;34m'—no-sandbox'\u001b[0m\u001b[0;34m)\u001b[0m\u001b[0;34m\u001b[0m\u001b[0;34m\u001b[0m\u001b[0m\n\u001b[1;32m      4\u001b[0m \u001b[0moptions\u001b[0m\u001b[0;34m.\u001b[0m\u001b[0madd_argument\u001b[0m\u001b[0;34m(\u001b[0m\u001b[0;34m'—disable-dev-shm-usage'\u001b[0m\u001b[0;34m)\u001b[0m\u001b[0;34m\u001b[0m\u001b[0;34m\u001b[0m\u001b[0m\n\u001b[0;32m----> 5\u001b[0;31m \u001b[0mdriver\u001b[0m \u001b[0;34m=\u001b[0m \u001b[0mwebdriver\u001b[0m\u001b[0;34m.\u001b[0m\u001b[0mChrome\u001b[0m\u001b[0;34m(\u001b[0m\u001b[0moptions\u001b[0m\u001b[0;34m=\u001b[0m\u001b[0moptions\u001b[0m\u001b[0;34m)\u001b[0m\u001b[0;34m\u001b[0m\u001b[0;34m\u001b[0m\u001b[0m\n\u001b[0m",
            "\u001b[0;32m/usr/local/lib/python3.10/dist-packages/selenium/webdriver/chrome/webdriver.py\u001b[0m in \u001b[0;36m__init__\u001b[0;34m(self, options, service, keep_alive)\u001b[0m\n\u001b[1;32m     43\u001b[0m         \u001b[0moptions\u001b[0m \u001b[0;34m=\u001b[0m \u001b[0moptions\u001b[0m \u001b[0;32mif\u001b[0m \u001b[0moptions\u001b[0m \u001b[0;32melse\u001b[0m \u001b[0mOptions\u001b[0m\u001b[0;34m(\u001b[0m\u001b[0;34m)\u001b[0m\u001b[0;34m\u001b[0m\u001b[0;34m\u001b[0m\u001b[0m\n\u001b[1;32m     44\u001b[0m \u001b[0;34m\u001b[0m\u001b[0m\n\u001b[0;32m---> 45\u001b[0;31m         super().__init__(\n\u001b[0m\u001b[1;32m     46\u001b[0m             \u001b[0mDesiredCapabilities\u001b[0m\u001b[0;34m.\u001b[0m\u001b[0mCHROME\u001b[0m\u001b[0;34m[\u001b[0m\u001b[0;34m\"browserName\"\u001b[0m\u001b[0;34m]\u001b[0m\u001b[0;34m,\u001b[0m\u001b[0;34m\u001b[0m\u001b[0;34m\u001b[0m\u001b[0m\n\u001b[1;32m     47\u001b[0m             \u001b[0;34m\"goog\"\u001b[0m\u001b[0;34m,\u001b[0m\u001b[0;34m\u001b[0m\u001b[0;34m\u001b[0m\u001b[0m\n",
            "\u001b[0;32m/usr/local/lib/python3.10/dist-packages/selenium/webdriver/chromium/webdriver.py\u001b[0m in \u001b[0;36m__init__\u001b[0;34m(self, browser_name, vendor_prefix, options, service, keep_alive)\u001b[0m\n\u001b[1;32m     54\u001b[0m \u001b[0;34m\u001b[0m\u001b[0m\n\u001b[1;32m     55\u001b[0m         \u001b[0;32mtry\u001b[0m\u001b[0;34m:\u001b[0m\u001b[0;34m\u001b[0m\u001b[0;34m\u001b[0m\u001b[0m\n\u001b[0;32m---> 56\u001b[0;31m             super().__init__(\n\u001b[0m\u001b[1;32m     57\u001b[0m                 command_executor=ChromiumRemoteConnection(\n\u001b[1;32m     58\u001b[0m                     \u001b[0mremote_server_addr\u001b[0m\u001b[0;34m=\u001b[0m\u001b[0mself\u001b[0m\u001b[0;34m.\u001b[0m\u001b[0mservice\u001b[0m\u001b[0;34m.\u001b[0m\u001b[0mservice_url\u001b[0m\u001b[0;34m,\u001b[0m\u001b[0;34m\u001b[0m\u001b[0;34m\u001b[0m\u001b[0m\n",
            "\u001b[0;32m/usr/local/lib/python3.10/dist-packages/selenium/webdriver/remote/webdriver.py\u001b[0m in \u001b[0;36m__init__\u001b[0;34m(self, command_executor, keep_alive, file_detector, options)\u001b[0m\n\u001b[1;32m    204\u001b[0m         \u001b[0mself\u001b[0m\u001b[0;34m.\u001b[0m\u001b[0m_authenticator_id\u001b[0m \u001b[0;34m=\u001b[0m \u001b[0;32mNone\u001b[0m\u001b[0;34m\u001b[0m\u001b[0;34m\u001b[0m\u001b[0m\n\u001b[1;32m    205\u001b[0m         \u001b[0mself\u001b[0m\u001b[0;34m.\u001b[0m\u001b[0mstart_client\u001b[0m\u001b[0;34m(\u001b[0m\u001b[0;34m)\u001b[0m\u001b[0;34m\u001b[0m\u001b[0;34m\u001b[0m\u001b[0m\n\u001b[0;32m--> 206\u001b[0;31m         \u001b[0mself\u001b[0m\u001b[0;34m.\u001b[0m\u001b[0mstart_session\u001b[0m\u001b[0;34m(\u001b[0m\u001b[0mcapabilities\u001b[0m\u001b[0;34m)\u001b[0m\u001b[0;34m\u001b[0m\u001b[0;34m\u001b[0m\u001b[0m\n\u001b[0m\u001b[1;32m    207\u001b[0m \u001b[0;34m\u001b[0m\u001b[0m\n\u001b[1;32m    208\u001b[0m     \u001b[0;32mdef\u001b[0m \u001b[0m__repr__\u001b[0m\u001b[0;34m(\u001b[0m\u001b[0mself\u001b[0m\u001b[0;34m)\u001b[0m\u001b[0;34m:\u001b[0m\u001b[0;34m\u001b[0m\u001b[0;34m\u001b[0m\u001b[0m\n",
            "\u001b[0;32m/usr/local/lib/python3.10/dist-packages/selenium/webdriver/remote/webdriver.py\u001b[0m in \u001b[0;36mstart_session\u001b[0;34m(self, capabilities)\u001b[0m\n\u001b[1;32m    288\u001b[0m \u001b[0;34m\u001b[0m\u001b[0m\n\u001b[1;32m    289\u001b[0m         \u001b[0mcaps\u001b[0m \u001b[0;34m=\u001b[0m \u001b[0m_create_caps\u001b[0m\u001b[0;34m(\u001b[0m\u001b[0mcapabilities\u001b[0m\u001b[0;34m)\u001b[0m\u001b[0;34m\u001b[0m\u001b[0;34m\u001b[0m\u001b[0m\n\u001b[0;32m--> 290\u001b[0;31m         \u001b[0mresponse\u001b[0m \u001b[0;34m=\u001b[0m \u001b[0mself\u001b[0m\u001b[0;34m.\u001b[0m\u001b[0mexecute\u001b[0m\u001b[0;34m(\u001b[0m\u001b[0mCommand\u001b[0m\u001b[0;34m.\u001b[0m\u001b[0mNEW_SESSION\u001b[0m\u001b[0;34m,\u001b[0m \u001b[0mcaps\u001b[0m\u001b[0;34m)\u001b[0m\u001b[0;34m[\u001b[0m\u001b[0;34m\"value\"\u001b[0m\u001b[0;34m]\u001b[0m\u001b[0;34m\u001b[0m\u001b[0;34m\u001b[0m\u001b[0m\n\u001b[0m\u001b[1;32m    291\u001b[0m         \u001b[0mself\u001b[0m\u001b[0;34m.\u001b[0m\u001b[0msession_id\u001b[0m \u001b[0;34m=\u001b[0m \u001b[0mresponse\u001b[0m\u001b[0;34m.\u001b[0m\u001b[0mget\u001b[0m\u001b[0;34m(\u001b[0m\u001b[0;34m\"sessionId\"\u001b[0m\u001b[0;34m)\u001b[0m\u001b[0;34m\u001b[0m\u001b[0;34m\u001b[0m\u001b[0m\n\u001b[1;32m    292\u001b[0m         \u001b[0mself\u001b[0m\u001b[0;34m.\u001b[0m\u001b[0mcaps\u001b[0m \u001b[0;34m=\u001b[0m \u001b[0mresponse\u001b[0m\u001b[0;34m.\u001b[0m\u001b[0mget\u001b[0m\u001b[0;34m(\u001b[0m\u001b[0;34m\"capabilities\"\u001b[0m\u001b[0;34m)\u001b[0m\u001b[0;34m\u001b[0m\u001b[0;34m\u001b[0m\u001b[0m\n",
            "\u001b[0;32m/usr/local/lib/python3.10/dist-packages/selenium/webdriver/remote/webdriver.py\u001b[0m in \u001b[0;36mexecute\u001b[0;34m(self, driver_command, params)\u001b[0m\n\u001b[1;32m    343\u001b[0m         \u001b[0mresponse\u001b[0m \u001b[0;34m=\u001b[0m \u001b[0mself\u001b[0m\u001b[0;34m.\u001b[0m\u001b[0mcommand_executor\u001b[0m\u001b[0;34m.\u001b[0m\u001b[0mexecute\u001b[0m\u001b[0;34m(\u001b[0m\u001b[0mdriver_command\u001b[0m\u001b[0;34m,\u001b[0m \u001b[0mparams\u001b[0m\u001b[0;34m)\u001b[0m\u001b[0;34m\u001b[0m\u001b[0;34m\u001b[0m\u001b[0m\n\u001b[1;32m    344\u001b[0m         \u001b[0;32mif\u001b[0m \u001b[0mresponse\u001b[0m\u001b[0;34m:\u001b[0m\u001b[0;34m\u001b[0m\u001b[0;34m\u001b[0m\u001b[0m\n\u001b[0;32m--> 345\u001b[0;31m             \u001b[0mself\u001b[0m\u001b[0;34m.\u001b[0m\u001b[0merror_handler\u001b[0m\u001b[0;34m.\u001b[0m\u001b[0mcheck_response\u001b[0m\u001b[0;34m(\u001b[0m\u001b[0mresponse\u001b[0m\u001b[0;34m)\u001b[0m\u001b[0;34m\u001b[0m\u001b[0;34m\u001b[0m\u001b[0m\n\u001b[0m\u001b[1;32m    346\u001b[0m             \u001b[0mresponse\u001b[0m\u001b[0;34m[\u001b[0m\u001b[0;34m\"value\"\u001b[0m\u001b[0;34m]\u001b[0m \u001b[0;34m=\u001b[0m \u001b[0mself\u001b[0m\u001b[0;34m.\u001b[0m\u001b[0m_unwrap_value\u001b[0m\u001b[0;34m(\u001b[0m\u001b[0mresponse\u001b[0m\u001b[0;34m.\u001b[0m\u001b[0mget\u001b[0m\u001b[0;34m(\u001b[0m\u001b[0;34m\"value\"\u001b[0m\u001b[0;34m,\u001b[0m \u001b[0;32mNone\u001b[0m\u001b[0;34m)\u001b[0m\u001b[0;34m)\u001b[0m\u001b[0;34m\u001b[0m\u001b[0;34m\u001b[0m\u001b[0m\n\u001b[1;32m    347\u001b[0m             \u001b[0;32mreturn\u001b[0m \u001b[0mresponse\u001b[0m\u001b[0;34m\u001b[0m\u001b[0;34m\u001b[0m\u001b[0m\n",
            "\u001b[0;32m/usr/local/lib/python3.10/dist-packages/selenium/webdriver/remote/errorhandler.py\u001b[0m in \u001b[0;36mcheck_response\u001b[0;34m(self, response)\u001b[0m\n\u001b[1;32m    227\u001b[0m                 \u001b[0malert_text\u001b[0m \u001b[0;34m=\u001b[0m \u001b[0mvalue\u001b[0m\u001b[0;34m[\u001b[0m\u001b[0;34m\"alert\"\u001b[0m\u001b[0;34m]\u001b[0m\u001b[0;34m.\u001b[0m\u001b[0mget\u001b[0m\u001b[0;34m(\u001b[0m\u001b[0;34m\"text\"\u001b[0m\u001b[0;34m)\u001b[0m\u001b[0;34m\u001b[0m\u001b[0;34m\u001b[0m\u001b[0m\n\u001b[1;32m    228\u001b[0m             \u001b[0;32mraise\u001b[0m \u001b[0mexception_class\u001b[0m\u001b[0;34m(\u001b[0m\u001b[0mmessage\u001b[0m\u001b[0;34m,\u001b[0m \u001b[0mscreen\u001b[0m\u001b[0;34m,\u001b[0m \u001b[0mstacktrace\u001b[0m\u001b[0;34m,\u001b[0m \u001b[0malert_text\u001b[0m\u001b[0;34m)\u001b[0m  \u001b[0;31m# type: ignore[call-arg]  # mypy is not smart enough here\u001b[0m\u001b[0;34m\u001b[0m\u001b[0;34m\u001b[0m\u001b[0m\n\u001b[0;32m--> 229\u001b[0;31m         \u001b[0;32mraise\u001b[0m \u001b[0mexception_class\u001b[0m\u001b[0;34m(\u001b[0m\u001b[0mmessage\u001b[0m\u001b[0;34m,\u001b[0m \u001b[0mscreen\u001b[0m\u001b[0;34m,\u001b[0m \u001b[0mstacktrace\u001b[0m\u001b[0;34m)\u001b[0m\u001b[0;34m\u001b[0m\u001b[0;34m\u001b[0m\u001b[0m\n\u001b[0m",
            "\u001b[0;31mWebDriverException\u001b[0m: Message: unknown error: Chrome failed to start: exited abnormally.\n  (unknown error: DevToolsActivePort file doesn't exist)\n  (The process started from chrome location /root/.cache/selenium/chrome/linux64/116.0.5845.96/chrome is no longer running, so ChromeDriver is assuming that Chrome has crashed.)\nStacktrace:\n#0 0x567fb6594e23 <unknown>\n#1 0x567fb62bd7a7 <unknown>\n#2 0x567fb62e850a <unknown>\n#3 0x567fb62e5a25 <unknown>\n#4 0x567fb6325d92 <unknown>\n#5 0x567fb63253af <unknown>\n#6 0x567fb631cde3 <unknown>\n#7 0x567fb62f0a7b <unknown>\n#8 0x567fb62f181e <unknown>\n#9 0x567fb6556638 <unknown>\n#10 0x567fb655a507 <unknown>\n#11 0x567fb6564c4c <unknown>\n#12 0x567fb655b136 <unknown>\n#13 0x567fb65299cf <unknown>\n#14 0x567fb657eb98 <unknown>\n#15 0x567fb657ed68 <unknown>\n#16 0x567fb658dcb3 <unknown>\n#17 0x7e0a763bab43 <unknown>\n"
          ]
        }
      ]
    },
    {
      "cell_type": "code",
      "source": [
        "driver.get('https://www.melon.com/chart/age/index.htm?chartType=YE&chartGenre=KPOP&chartDate=2022')\n",
        "html=driver.page_source\n",
        "soup=BeautifulSoup(html, 'html.parser')"
      ],
      "metadata": {
        "id": "kU8_alo6Xaby"
      },
      "execution_count": null,
      "outputs": []
    },
    {
      "cell_type": "code",
      "source": [
        "def melon_collector(url):\n",
        "  time.sleep(5)\n",
        "  driver.get(url)\n",
        "  html=driver.page_source\n",
        "  soup=BeautifulSoup(html,'html.parse')\n",
        "\n",
        "  title=driver.find_elements(by=By.CLASS_NAME, value='ellipsis.rank01')\n",
        "\n",
        "  title2=[]\n",
        "  for i in title:\n",
        "    title2.append(i.text)\n",
        "\n",
        "  del title2[30:]\n",
        "\n",
        "  singer=driver.find_elements(by=By.CLASS_NAME, value='ellipsis.rank02')\n",
        "\n",
        "  singer2=[]\n",
        "  for i in singer:\n",
        "    singer2.append(i.text)\n",
        "\n",
        "  del singer2[30:]\n",
        "\n",
        "  song_info=soup.find_all('div', attrs={'class':'elelipsis rank01'})\n",
        "\n",
        "  songid=[]\n",
        "\n",
        "  for i in range(30):\n",
        "    try:\n",
        "      songid.append(re.sub(r'[^0-9]', '', song_info[i].find('a')['href'][43:]))\n",
        "\n",
        "    except:\n",
        "      songid.append('')\n",
        "      continue\n",
        "\n",
        "    lyrics=[]\n",
        "\n",
        "    for i in songid:\n",
        "      try:\n",
        "        driver.get('https://www.melon.com/song/detail.htm?songId=' + i)\n",
        "        time.sleep(2)\n",
        "        lyric=driver.find_element(by=By.CLASS_NAME, value='lyric')\n",
        "        lyrics.append(lyric.text)\n",
        "\n",
        "      except:\n",
        "        lyrics.append('')\n",
        "        continue\n",
        "\n",
        "\n",
        "    lyrics2=[]\n",
        "\n",
        "    for i in lyrics:\n",
        "      lyrics2.append(i.replace('\\n', ' '))\n",
        "      df=pd.DataFrame({'제목':title2, '가수':singer2, '가사':lyrics2})\n",
        "\n",
        "      df.to_csv(f'멜론{start}.csv', index=False)"
      ],
      "metadata": {
        "id": "_KEiFNFxXaZa"
      },
      "execution_count": null,
      "outputs": []
    },
    {
      "cell_type": "code",
      "source": [
        "start=1990\n",
        "url='https://www.melon.com/chart/age/index.htm?chartType=YE&chartGenre=KPOP&chartDate='\n",
        "\n",
        "while start<=2021:\n",
        "  new_url=url+str(start)\n",
        "  melon_collector(new_url)\n",
        "  print(start,'완료')\n",
        "  start+=1"
      ],
      "metadata": {
        "id": "M5rOXnUiXaW5"
      },
      "execution_count": null,
      "outputs": []
    },
    {
      "cell_type": "markdown",
      "source": [
        "2. 가사 텍스트 분석 & 피처 생성"
      ],
      "metadata": {
        "id": "Ma9A6EhYKqyk"
      }
    },
    {
      "cell_type": "code",
      "source": [
        "# Top10인지 아닌지 여부 column 생성\n",
        "for melon_year in melon_total:\n",
        "    melon_year['Top10'] = 0\n",
        "\n",
        "\n",
        "for melon_year in melon_total:\n",
        "    for i in melon_year.index:\n",
        "        if i<=10:\n",
        "            melon_year['Top10'][i] += 1\n",
        "        else:\n",
        "            continue\n",
        "\n",
        "\n",
        "\n",
        "# 가사 column을 따로 지정\n",
        "gasa_1990s = melon_1990s.가사\n",
        "gasa_2000s = melon_2000s.가사\n",
        "gasa_2010s = melon_2010s.가사\n",
        "gasa_2020s = melon_2020s.가사\n",
        "\n",
        "# Komoran\n",
        "from konlpy.tag import Komoran\n",
        "\n",
        "Komoran = Komoran()\n",
        "\n",
        "noun2_1990s = []\n",
        "noun2_2000s = []\n",
        "noun2_2010s = []\n",
        "noun2_2020s = []\n",
        "\n",
        "for i in gasa_1990s:\n",
        "    try:\n",
        "        noun2_1990s.append(Komoran.nouns(i))\n",
        "    except:\n",
        "        continue\n",
        "\n",
        "for i in gasa_2000s:\n",
        "    try:\n",
        "        noun2_2000s.append(Komoran.nouns(i))\n",
        "    except:\n",
        "        continue\n",
        "\n",
        "for i in gasa_2010s:\n",
        "    try:\n",
        "        noun2_2010s.append(Komoran.nouns(i))\n",
        "    except:\n",
        "        continue\n",
        "\n",
        "for i in gasa_2020s:\n",
        "    try:\n",
        "        noun2_2020s.append(Komoran.nouns(i))\n",
        "    except:\n",
        "        continue"
      ],
      "metadata": {
        "id": "bUoz5A5bXaUS"
      },
      "execution_count": null,
      "outputs": []
    },
    {
      "cell_type": "code",
      "source": [
        "with open('stopword.txt', 'r', encoding='utf-8') as f:\n",
        "    text = f.read()\n",
        "\n",
        "stopwords = text.split()\n",
        "\n",
        "# 불용어 처리\n",
        "noun2_1990s_sw = []; noun2_2000s_sw = []; noun2_2010s_sw=[]; noun2_2020s_sw =[]\n",
        "\n",
        "\n",
        "# 2\n",
        "for text in noun2_1990s:\n",
        "    temp = []\n",
        "    for word in text:\n",
        "        if word not in stopwords:\n",
        "            temp.append(word)\n",
        "    noun2_1990s_sw.append(temp)\n",
        "\n",
        "for text in noun2_2000s:\n",
        "    temp = []\n",
        "    for word in text:\n",
        "        if word not in stopwords:\n",
        "            temp.append(word)\n",
        "    noun2_2000s_sw.append(temp)\n",
        "\n",
        "for text in noun2_2010s:\n",
        "    temp = []\n",
        "    for word in text:\n",
        "        if word not in stopwords:\n",
        "            temp.append(word)\n",
        "    noun2_2010s_sw.append(temp)\n",
        "\n",
        "for text in noun2_2020s:\n",
        "    temp = []\n",
        "    for word in text:\n",
        "        if word not in stopwords:\n",
        "            temp.append(word)\n",
        "    noun2_2020s_sw.append(temp)"
      ],
      "metadata": {
        "id": "BsCzFmtlXaRr"
      },
      "execution_count": null,
      "outputs": []
    },
    {
      "cell_type": "markdown",
      "source": [
        "2.1 빈도 분석"
      ],
      "metadata": {
        "id": "VW814aXwL0UE"
      }
    },
    {
      "cell_type": "code",
      "source": [
        "# Top 30 노래 가사에서 등장한 단어의 빈도\n",
        "# Komoran\n",
        "# 가장 많이 등장한 Top10 단어들의 빈도를 Feature로 사용\n",
        "from collections import Counter\n",
        "\n",
        "mostwords_1990s = []\n",
        "mostwords_2000s = []\n",
        "mostwords_2010s = []\n",
        "mostwords_2020s = []\n",
        "\n",
        "for document in noun2_1990s_sw:\n",
        "    mostwords_1990s.append([y for x,y in Counter(document).most_common(10)])\n",
        "for document in noun2_2000s_sw:\n",
        "    mostwords_2000s.append([y for x,y in Counter(document).most_common(10)])\n",
        "for document in noun2_2010s_sw:\n",
        "    mostwords_2010s.append([y for x,y in Counter(document).most_common(10)])\n",
        "for document in noun2_2020s_sw:\n",
        "    mostwords_2020s.append([y for x,y in Counter(document).most_common(10)])\n",
        "\n",
        "# DataFrame 형태로 변경\n",
        "mostwords_1990s = pd.DataFrame(mostwords_1990s).fillna(0)\n",
        "mostwords_1990s.columns = mostwords_1990s.columns.map(lambda x : '빈도_'+str(x+1)+'등')\n",
        "mostwords_2000s = pd.DataFrame(mostwords_2000s).fillna(0)\n",
        "mostwords_2000s.columns = mostwords_2000s.columns.map(lambda x : '빈도_'+str(x+1)+'등')\n",
        "mostwords_2010s = pd.DataFrame(mostwords_2010s).fillna(0)\n",
        "mostwords_2010s.columns = mostwords_2010s.columns.map(lambda x : '빈도_'+str(x+1)+'등')\n",
        "mostwords_2020s = pd.DataFrame(mostwords_2020s).fillna(0)\n",
        "mostwords_2020s.columns = mostwords_2020s.columns.map(lambda x : '빈도_'+str(x+1)+'등')\n",
        "\n",
        "# melon dataframe에 가사가 없는 행 제거\n",
        "melon_1990s.dropna(inplace=True)\n",
        "melon_2000s.dropna(inplace=True)\n",
        "melon_2010s.dropna(inplace=True)\n",
        "melon_2020s.dropna(inplace=True)"
      ],
      "metadata": {
        "id": "JwzGERNhE-0G"
      },
      "execution_count": null,
      "outputs": []
    },
    {
      "cell_type": "code",
      "source": [
        "feature = []\n",
        "feature_te = []\n",
        "\n",
        "# train\n",
        "bindo_train = pd.concat([mostwords_1990s, mostwords_2000s, mostwords_2010s], axis=0).reset_index(drop=True)\n",
        "feature.append(bindo_train)\n",
        "\n",
        "# test\n",
        "feature_te.append(mostwords_2020s)"
      ],
      "metadata": {
        "id": "2hOoNvQSE-xs"
      },
      "execution_count": null,
      "outputs": []
    },
    {
      "cell_type": "markdown",
      "source": [
        "2.2 TF-IDF 분석"
      ],
      "metadata": {
        "id": "YNUu0hDFL5eE"
      }
    },
    {
      "cell_type": "code",
      "source": [
        "tf_noun_1990s = []\n",
        "tf_noun_2000s = []\n",
        "tf_noun_2010s = []\n",
        "tf_noun_2020s = []\n",
        "\n",
        "for i in noun2_1990s_sw:\n",
        "    tf_noun_1990s.append(\" \".join(i))\n",
        "for i in noun2_2000s_sw:\n",
        "    tf_noun_2000s.append(\" \".join(i))\n",
        "for i in noun2_2010s_sw:\n",
        "    tf_noun_2010s.append(\" \".join(i))\n",
        "for i in noun2_2020s_sw:\n",
        "    tf_noun_2020s.append(\" \".join(i))"
      ],
      "metadata": {
        "id": "zYsKCrFqE-vU"
      },
      "execution_count": null,
      "outputs": []
    },
    {
      "cell_type": "code",
      "source": [
        "# 1990년대에 주로 사용된 단어 Top 10으로\n",
        "from sklearn.feature_extraction.text import TfidfVectorizer\n",
        "\n",
        "vectorizer_1990s = TfidfVectorizer(max_features =10)  # 1글자 사용x, L2 정규화\n",
        "#vectorizer_2000s = TfidfVectorizer()\n",
        "#vectorizer_2010s = TfidfVectorizer()\n",
        "#vectorizer_2020s = TfidfVectorizer()\n",
        "\n",
        "doc_term_mat_1990s_90 = vectorizer_1990s.fit_transform(tf_noun_1990s)\n",
        "doc_term_mat_d_1990s_90 = doc_term_mat_1990s_90.toarray() # 희소행렬\n",
        "\n",
        "doc_term_mat_2000s_90 = vectorizer_1990s.transform(tf_noun_2000s)\n",
        "doc_term_mat_d_2000s_90 = doc_term_mat_2000s_90.toarray()\n",
        "\n",
        "doc_term_mat_2010s_90 = vectorizer_1990s.transform(tf_noun_2010s)\n",
        "doc_term_mat_d_2010s_90 = doc_term_mat_2010s_90.toarray()\n",
        "\n",
        "doc_term_mat_2020s_90 = vectorizer_1990s.transform(tf_noun_2020s)\n",
        "doc_term_mat_d_2020s_90 = doc_term_mat_2020s_90.toarray()\n",
        "\n",
        "tfidf_1990s = pd.DataFrame(doc_term_mat_d_1990s_90)\n",
        "tfidf_2000s = pd.DataFrame(doc_term_mat_d_2000s_90)\n",
        "tfidf_2010s = pd.DataFrame(doc_term_mat_d_2010s_90)\n",
        "tfidf_2020s = pd.DataFrame(doc_term_mat_d_2020s_90)\n",
        "# tfidf_1990s.columns = vectorizer_1990s.get_feature_names_out()\n",
        "tfidf_1990s.columns = tfidf_1990s.columns.map(lambda x : '1990_' + str(x))\n",
        "tfidf_2000s.columns = tfidf_2000s.columns.map(lambda x : '1990_' + str(x))\n",
        "tfidf_2010s.columns = tfidf_2010s.columns.map(lambda x : '1990_' + str(x))\n",
        "tfidf_2020s.columns = tfidf_2020s.columns.map(lambda x : '1990_' + str(x))"
      ],
      "metadata": {
        "id": "agT52AArE-s0"
      },
      "execution_count": null,
      "outputs": []
    },
    {
      "cell_type": "code",
      "source": [
        "#TF-IDF 분석 결과도 피처로 활용하기 위해 10개의 column을 추가합니다.\n",
        "tfidf_90_train = pd.concat([tfidf_1990s, tfidf_2000s, tfidf_2010s], axis=0).reset_index(drop=True)\n",
        "feature.append(tfidf_90_train)\n",
        "\n",
        "# test\n",
        "feature_te.append(tfidf_2020s)"
      ],
      "metadata": {
        "id": "X5BDzQnjE-qW"
      },
      "execution_count": null,
      "outputs": []
    },
    {
      "cell_type": "markdown",
      "source": [
        "2.3 토픽 모델링"
      ],
      "metadata": {
        "id": "MSxO7ZQ0ML-t"
      }
    },
    {
      "cell_type": "code",
      "source": [
        "# Perplexity(혼란도) 확률 모델이 결과를 얼마나 정확하게 예측하는지.낮을수록 정확하게 예측\n",
        "# Coherence Score 을 판단, 토픽이 얼마나 의미론적으로 일관성 있는지, 높을수록 의미론적 일관성 높음\n",
        "\n",
        "TOPICS_W_NUM =20 # 출력할 토픽별 단어의 개수\n",
        "save_lda_model=0\n",
        "RANDOM_STATE = 2020\n",
        "UPDATE_EVERY = 1\n",
        "CHUNKSIZE = 100\n",
        "PASSES = 10\n",
        "ALPHA = 'auto'\n",
        "PER_WORD_TOPICS = True\n",
        "print('NUM_TOPICS', 'perplexity', 'coherence')\n",
        "for i in range(1,30):\n",
        "    NUM_TOPICS=i\n",
        "\n",
        "    lda_model = gensim.models.ldamodel.LdaModel(corpus=corpus, id2word=id2word,\n",
        "                                              num_topics=NUM_TOPICS, random_state=RANDOM_STATE,\n",
        "                                              update_every=UPDATE_EVERY, chunksize=CHUNKSIZE,\n",
        "                                              passes=PASSES, alpha=ALPHA, per_word_topics=PER_WORD_TOPICS)\n",
        "\n",
        "    doc_lda = lda_model[corpus]\n",
        "\n",
        "    # Coherence Score\n",
        "    coherence_model_lda = CoherenceModel(model=lda_model, texts=result_data, dictionary=id2word, coherence='c_v')\n",
        "    coherence_lda = coherence_model_lda.get_coherence()\n",
        "\n",
        "\tprint('T',NUM_TOPICS, lda_model.log_perplexity(corpus), coherence_lda)"
      ],
      "metadata": {
        "id": "j15R1QzFE-nt"
      },
      "execution_count": null,
      "outputs": []
    },
    {
      "cell_type": "code",
      "source": [
        "# 시각화\n",
        "# pyLDAvis.enable_notebook() # 주피터 노트북 실행시\n",
        "def create_vis(model):\n",
        "    pyLDAvis.enable_notebook()\n",
        "    vis = pyLDAvis.gensim_models.prepare(model, corpus, id2word, sort_topics=False)\n",
        "    # pyLDAvis.save_html(vis, './Result_lda_vis.html')\n",
        "    return vis\n",
        "\n",
        "create_vis(lda_model12) # 12개로 토픽 모델링한 모델"
      ],
      "metadata": {
        "id": "6RUt8ArME-k-"
      },
      "execution_count": null,
      "outputs": []
    },
    {
      "cell_type": "markdown",
      "source": [
        "2.4 W2V( Word2Vector )\n",
        "\n",
        "- W2V 분석 결과를 Feature로 사용.\n",
        "- 기존 텍스트를 3배 oversampling해 사용하였고 vector_size는 30으로 지정하였습니다.\n",
        "\n",
        "- 결측치는 0으로"
      ],
      "metadata": {
        "id": "xDkQS-u7Matc"
      }
    },
    {
      "cell_type": "code",
      "source": [
        "w2v_90 = word2vec.Word2Vec(sentences = w2v_input_90,\n",
        "                        vector_size = 30,\n",
        "                        window = 3,\n",
        "                        min_count = 1,\n",
        "                        sg = 1).wv\n",
        "w2v_00 = word2vec.Word2Vec(sentences = w2v_input_00,\n",
        "                        vector_size = 30,\n",
        "                        window = 3,\n",
        "                        min_count = 1,\n",
        "                        sg = 1).wv\n",
        "w2v_10 = word2vec.Word2Vec(sentences = w2v_input_10,\n",
        "                        vector_size = 30,\n",
        "                        window = 3,\n",
        "                        min_count = 1,\n",
        "                        sg = 1).wv\n",
        "w2v_20 = word2vec.Word2Vec(sentences = w2v_input_20,\n",
        "                        vector_size = 30,\n",
        "                        window = 3,\n",
        "                        min_count = 1,\n",
        "                        sg = 1).wv"
      ],
      "metadata": {
        "id": "VzL81up9MZZU"
      },
      "execution_count": null,
      "outputs": []
    },
    {
      "cell_type": "code",
      "source": [
        "# train\n",
        "w2v_train = pd.concat([train_w2v_90, train_w2v_00, train_w2v_10], axis=0).reset_index(drop=True)\n",
        "w2v_train.columns = w2v_train.columns.map(lambda x : 'w2v_' + str(x))\n",
        "feature.append(w2v_train)\n",
        "\n",
        "# test\n",
        "train_w2v_20.columns = train_w2v_20.columns.map(lambda x : 'w2v_' + str(x))\n",
        "feature_te.append(train_w2v_20)"
      ],
      "metadata": {
        "id": "1KgVN7aVMZW9"
      },
      "execution_count": null,
      "outputs": []
    },
    {
      "cell_type": "markdown",
      "source": [
        "### 지금까지 만든 Feature Merge ( 빈도분석 10 columns, TF-IDF 30 columns, W2V 30 columns )"
      ],
      "metadata": {
        "id": "xm7hXeRXMlx8"
      }
    },
    {
      "cell_type": "code",
      "source": [
        "# X_train\n",
        "melon_train = pd.concat([melon_1990s,melon_2000s, melon_2010s], axis=0)\n",
        "data = pd.DataFrame(melon_train.제목).reset_index(drop=True)\n",
        "\n",
        "for f in feature :\n",
        "    data = pd.concat([data, f], axis = 1)\n",
        "\n",
        "data = data.fillna(round(data.mean(),4)) # 평균으로 결측치 채우기\n",
        "\n",
        "# X_test\n",
        "melon_test = melon_2020s\n",
        "data_te = pd.DataFrame(melon_test.제목).reset_index(drop=True)\n",
        "\n",
        "for f_te in feature_te :\n",
        "    data_te = pd.concat([data_te, f_te], axis = 1)\n",
        "\n",
        "data_te = data_te.fillna(round(data_te.mean(),4))\n",
        "\n",
        "# y_train\n",
        "y_train = melon_train.reset_index(drop=True).Top10\n",
        "\n",
        "# y_test\n",
        "y_test = melon_test.Top10"
      ],
      "metadata": {
        "id": "SGA3EwMmMZUU"
      },
      "execution_count": null,
      "outputs": []
    },
    {
      "cell_type": "markdown",
      "source": [
        "3. 모델링\n",
        "- Top10 여부 에측\n",
        "- LGBM, RandomForest, LogisticRegression, KNN, ExtraTree"
      ],
      "metadata": {
        "id": "rECdz9JZNs1k"
      }
    },
    {
      "cell_type": "code",
      "source": [
        "from sklearn.linear_model import LogisticRegression\n",
        "from sklearn.ensemble import RandomForestClassifier\n",
        "from sklearn.neighbors import KNeighborsClassifier\n",
        "from sklearn.ensemble import ExtraTreesClassifier\n",
        "from lightgbm import LGBMClassifier\n",
        "\n",
        "from sklearn.model_selection import StratifiedKFold\n",
        "skf = StratifiedKFold(n_splits=4, shuffle=True, random_state=2020)\n",
        "from sklearn.model_selection import train_test_split\n",
        "X_train2, X_dev, y_train2, y_dev = train_test_split(train, y_train, test_size=0.3, random_state=2020, shuffle=True, stratify=y_train)\n",
        "\n",
        "lgbm = LGBMClassifier(random_state=2020,n_jobs= -1)\n",
        "rf = RandomForestClassifier(random_state = 2020)\n",
        "lr = LogisticRegression(random_state=2020,n_jobs= -1)\n",
        "knn = KNeighborsClassifier(n_jobs= -1)\n",
        "et = ExtraTreesClassifier(random_state=2020,n_jobs= -1)\n",
        "\n",
        "lgbm.fit(X_train2, y_train2)\n",
        "rf.fit(X_train2, y_train2)\n",
        "lr.fit(X_train2, y_train2)\n",
        "knn.fit(X_train2, y_train2)\n",
        "et.fit(X_train2, y_train2)\n",
        "\n",
        "# 튜닝하지 않고 기본 모델의 결과 확인\n",
        "# accuracy의 경우 전부 0으로 예측하더라도 0.667 score가 나오기 때문에 ROC-AUC 평가지표를 활용\n",
        "from sklearn.model_selection import cross_val_score\n",
        "print('#### 만들어진 피처의 결과는....? ####')\n",
        "cv_score1 = cross_val_score(lgbm, X_dev, y_dev, cv=skf, scoring = 'roc_auc')\n",
        "print('lgbm : ',cv_score1)\n",
        "print('평균 : ',np.mean(cv_score1))\n",
        "cv_score2 = cross_val_score(rf, X_dev, y_dev, cv=skf, scoring = 'roc_auc')\n",
        "print('rf : ',cv_score2)\n",
        "print('평균 : ',np.mean(cv_score2))\n",
        "cv_score3 = cross_val_score(lr, X_dev, y_dev, cv=skf, scoring = 'roc_auc')\n",
        "print('lr : ',cv_score3)\n",
        "print('평균 : ',np.mean(cv_score3))\n",
        "cv_score4 = cross_val_score(knn, X_dev, y_dev, cv=skf, scoring = 'roc_auc')\n",
        "print('knn : ',cv_score4)\n",
        "print('평균 : ',np.mean(cv_score4))\n",
        "cv_score5 = cross_val_score(et, X_dev, y_dev, cv=skf, scoring = 'roc_auc')\n",
        "print('et : ',cv_score5)\n",
        "print('평균 : ',np.mean(cv_score5))"
      ],
      "metadata": {
        "id": "mhSbr0ZXMZRc"
      },
      "execution_count": null,
      "outputs": []
    }
  ]
}