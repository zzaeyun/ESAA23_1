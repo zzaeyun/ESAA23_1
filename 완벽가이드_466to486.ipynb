{
  "nbformat": 4,
  "nbformat_minor": 0,
  "metadata": {
    "colab": {
      "provenance": [],
      "authorship_tag": "ABX9TyPjQwss/+frf2tKb5Lk7+3q",
      "include_colab_link": true
    },
    "kernelspec": {
      "name": "python3",
      "display_name": "Python 3"
    },
    "language_info": {
      "name": "python"
    }
  },
  "cells": [
    {
      "cell_type": "markdown",
      "metadata": {
        "id": "view-in-github",
        "colab_type": "text"
      },
      "source": [
        "<a href=\"https://colab.research.google.com/github/zzaeyun/ESAA23_1/blob/main/%EC%99%84%EB%B2%BD%EA%B0%80%EC%9D%B4%EB%93%9C_466to486.ipynb\" target=\"_parent\"><img src=\"https://colab.research.google.com/assets/colab-badge.svg\" alt=\"Open In Colab\"/></a>"
      ]
    },
    {
      "cell_type": "markdown",
      "source": [
        "\n",
        "\n",
        "> **CHAPTER 08 텍스트분석**\n",
        "\n",
        "##**NLP이냐 텍스트 분석이냐?**\n",
        "\n",
        "- NLP(National Language Processing)\n",
        "  - 머신이 인간의 언어를 이해하고 해석하는 데 더 중점을 둠\n",
        "- 텍스트 분석(Text Analytics, TA)\n",
        "  - (=텍스트 마이닝 Text Mining)\n",
        "  - 비정형 텍스트에서 의미 있는 정보를 추출하는 것에 좀 더 중점을 둠\n",
        "\n",
        "<br>\n",
        "\n",
        "머신러닝의 텍스트 데이터를 기반으로 모델을 학습하고 예측하는 기반으로 변경되면서 NLP와 텍스트 분석의 발전이 이루어짐.\n",
        "\n",
        "<br>\n",
        "\n",
        "텍스트 분석은 머신러닝, 언어 이해, 통계등을 활용해 모델을 수립하고 정보를 추출해 비즈니스 인텔리전스나 예측 분석 등의 분석 작업을 주로 수행\n",
        "- 텍스트 분류(Text Classification)\n",
        "- 감성 분석(Sentiment Analysis)\n",
        "- 텍스트 요약(Summarization)\n",
        "- 텍스트 군집화(Clustering)와 유사도 측정\n",
        "\n"
      ],
      "metadata": {
        "id": "VkKHUbJ1nqs0"
      }
    },
    {
      "cell_type": "markdown",
      "source": [
        "## **01 텍스트 분석 이해**\n",
        "\n",
        "- 텍스트 분석은 비정형 데이터인 텍스트를 분석\n",
        "- 머신러닝 알고리즘은 숫자형의 피처 기반 데이터만 입력받을 수 있기 때문에 텍스트를 머신러닝에 적용하기 위해서는 비정형 텍스트 데이터를 어떻게 피처 형태로 추출하고 추출된 피처에 의미 있는 값을 부여하는가 하는 것이 매우 중요한 요소\n",
        "- 피처 벡터화(Feature Vectorization) 또는 피처 추출(Feature Extraction)\n",
        "  - 텍스트를 word 기반의 다수의 피처로 추출하고 이 피처에 단어 빈도수와 같은 숫자 값을 부여하면 텍스트는 단어의 조합인 벡터값으로 표현\n",
        "  - BOW(Bag of Words)와 WordVec 방법\n",
        "\n",
        "### **텍스트 분석 수행 프로세스**\n",
        "1. 텍스트 사전 준비작업(텍스트 전처리): 미리 클렌징, 대/소문자 변경, 특수문자 삭제 등의 클렌징 작업, 단어(Word) 등의 토큰화 작업, 의미없는 단어(Stop word) 제거 작업, 어근 추출 등의 텍스트 정규화 작업을 수행하는 것\n",
        "2. 피처 벡터화/추출\n",
        "3. ML 모델 수립 및 학습/예측/평가\n",
        "\n",
        "### **파이썬 기반의 NLP, 텍스트 분석 패키지**\n",
        "- NLTK(Natural Language Toolkit for Python: 파이썬의 가장 대표적인 NLP 패키지. 방대한 데이터 세트와 서브 모듈을 가지고 있으며 NLP의 거의 모든 영역을 커버. 하지만 수행 속도 측면에서 아쉬운 부분이 있어서 실제 대량의 데이터 기반에서는 제대로 활용되지 못하고 있음\n",
        "- Gensim: 토픽 모델링 분야에서 가장 두각을 나타내는 패키지. 오래전부터 토픽 모델링을 쉽게 구현할 수 있는 기능을 제공, Word2Vec 구현 등의 다양한 신기능 제공\n",
        "- SpaCy: 뛰어난 수행 성능으로 최근 가장 주목받는 NLP 패키지\n",
        "\n",
        "*사이킷런은 머신러닝 위주의 라이브러리로 NLP를 위한 다양한 라이브러리를 가지고 있지 않지만 텍스트 데이터를 피처로 처리하기 위한 편리한 기능을 제공\n",
        "\n"
      ],
      "metadata": {
        "id": "m5-2fIStprKD"
      }
    },
    {
      "cell_type": "markdown",
      "source": [
        "## **02 텍스트 사전 준비 작업(텍스트 전처리) - 텍스트 정규화**\n",
        "\n",
        "텍스트 자체를 바로 피처로 만들 수는 없으므로 사전에 텍스트를 가공하는 준비 작업이 필요\n",
        "\n",
        "**텍스트 정규화 작업**\n",
        "- 클렌징(Cleansing)\n",
        "- 토큰화(Tokenization)\n",
        "- 필터링/스톱 워드 제거/철자 수정\n",
        "- Stemming\n",
        "- Lemmatization\n",
        "\n",
        "###**클렌징**\n",
        "텍스트에서 분석에 오히려 방해가 되는 불필요한 문자, 기호 등을 사전에 제거. ex) HTML, XML\n",
        "\n",
        "###**텍스트 토큰화**\n",
        "**토큰화의 유형**\n",
        "- 문장 토큰화: 문서에서 문장을 분리\n",
        "- 단어 토큰화: 문장에서 단어를 토큰으로 분리\n",
        "\n",
        "**문장 토큰화**\n",
        "- 문장의 마침표(.), 개행문자(\\n) 등 문장의 마지막을 뜻하는 기호에 따라 분리하는 것이 일반적\n",
        "- 정규 표현식에 따른 문장 토큰화도 가능\n",
        "\n",
        "\n",
        "<br>\n",
        "\n",
        "NTLK에서 sent_tokenize를 이용해 토큰화 수행\n",
        "- 3개의 문장으로 이루어진 텍스트 문서를 문장으로 분리"
      ],
      "metadata": {
        "id": "Eq7Abo9Ps0db"
      }
    },
    {
      "cell_type": "code",
      "execution_count": 1,
      "metadata": {
        "colab": {
          "base_uri": "https://localhost:8080/"
        },
        "id": "iA8jRBmjm1sf",
        "outputId": "9971683c-fa6a-4626-e20f-65c615d38d94"
      },
      "outputs": [
        {
          "output_type": "stream",
          "name": "stderr",
          "text": [
            "[nltk_data] Downloading package punkt to /root/nltk_data...\n",
            "[nltk_data]   Unzipping tokenizers/punkt.zip.\n"
          ]
        },
        {
          "output_type": "stream",
          "name": "stdout",
          "text": [
            "<class 'list'> 3\n",
            "['The Matrix is everywhere its all around us, here even in this room.', 'You can see it out your window or on your television.', 'You feel it when you go to work, or go to church or pay your taxes.']\n"
          ]
        }
      ],
      "source": [
        "from nltk import sent_tokenize\n",
        "import nltk\n",
        "nltk.download('punkt')\n",
        "\n",
        "text_sample='The Matrix is everywhere its all around us, here even in this room. \\\n",
        "            You can see it out your window or on your television. \\\n",
        "            You feel it when you go to work, or go to church or pay your taxes.'\n",
        "\n",
        "sentences=sent_tokenize(text=text_sample)\n",
        "print(type(sentences), len(sentences))\n",
        "print(sentences)"
      ]
    },
    {
      "cell_type": "markdown",
      "source": [
        "**단어 토큰화**\n",
        "- 공백, 콤마(,), 마침표(.), 개행문자 등으로 단어를 분리\n",
        "- 정규 표현식을 이용해 다양한 유형으로 투큰화를 수행 가능"
      ],
      "metadata": {
        "id": "1pdE4urFxifw"
      }
    },
    {
      "cell_type": "code",
      "source": [
        "from nltk import word_tokenize\n",
        "\n",
        "sentence='The Matrix is everywhere its all around us, here even in this room.'\n",
        "words=word_tokenize(sentence)\n",
        "print(type(words), len(words))\n",
        "print(words)"
      ],
      "metadata": {
        "colab": {
          "base_uri": "https://localhost:8080/"
        },
        "id": "30LNDL-YxtL4",
        "outputId": "1677deda-63f7-4368-890d-88fee9199c14"
      },
      "execution_count": 2,
      "outputs": [
        {
          "output_type": "stream",
          "name": "stdout",
          "text": [
            "<class 'list'> 15\n",
            "['The', 'Matrix', 'is', 'everywhere', 'its', 'all', 'around', 'us', ',', 'here', 'even', 'in', 'this', 'room', '.']\n"
          ]
        }
      ]
    },
    {
      "cell_type": "markdown",
      "source": [
        "- sent_tokenize와 word_tokenize를 조합해 문서에 대해서 모든 단어를 토큰화"
      ],
      "metadata": {
        "id": "ujaqemsdx9xZ"
      }
    },
    {
      "cell_type": "code",
      "source": [
        "from nltk import word_tokenize, sent_tokenize\n",
        "def tokenize_text(text):\n",
        "\n",
        "  sentences=sent_tokenize(text)\n",
        "  word_tokens=[word_tokenize(sentence) for sentence in sentences]\n",
        "  return word_tokens\n",
        "\n",
        "word_tokens=tokenize_text(text_sample)\n",
        "print(type(word_tokens), len(word_tokens))\n",
        "print(word_tokens)"
      ],
      "metadata": {
        "colab": {
          "base_uri": "https://localhost:8080/"
        },
        "id": "VepLdRKyyZLQ",
        "outputId": "119c8ae1-414f-485a-87f1-1974c76974ba"
      },
      "execution_count": 3,
      "outputs": [
        {
          "output_type": "stream",
          "name": "stdout",
          "text": [
            "<class 'list'> 3\n",
            "[['The', 'Matrix', 'is', 'everywhere', 'its', 'all', 'around', 'us', ',', 'here', 'even', 'in', 'this', 'room', '.'], ['You', 'can', 'see', 'it', 'out', 'your', 'window', 'or', 'on', 'your', 'television', '.'], ['You', 'feel', 'it', 'when', 'you', 'go', 'to', 'work', ',', 'or', 'go', 'to', 'church', 'or', 'pay', 'your', 'taxes', '.']]\n"
          ]
        }
      ]
    },
    {
      "cell_type": "markdown",
      "source": [
        "- 문장을 단어별로 하나씩 토큰화 할 경우 문맥적인 의미는 무시될 수 밖에 없음\n",
        "- 이러함 문제를 해결해 보고자 도입 된 것이 n-gram\n",
        "- n-gram: 연속된 n개의 단어를하나의 토큰화 단위로 분리, n개의 단어 크기 윈도우를 만들어 문장의 처음부터 오른쪽으로 움직이면서 토큰화 수행"
      ],
      "metadata": {
        "id": "WgcSLF_iy5Oo"
      }
    },
    {
      "cell_type": "markdown",
      "source": [
        "###**스톱 워드 제거**\n",
        "- 스톱워드: 분석에서 큰 의미가 없는 단어\n",
        "  - is, the, a, will 등 문장을 구성하는 필수 문법 요소지만 문맥적으로 큰 의미가 없는 단어\n",
        "- 이것들을 사전에 제거하지 않으면 그 빈번함으로 인해 오히려 중요한 단어로 인지될 수 있음\n",
        "- NLTK의 경우 다양한 언어의 스톱 워드를 제공"
      ],
      "metadata": {
        "id": "_NJZxAHxzHtf"
      }
    },
    {
      "cell_type": "code",
      "source": [
        "import nltk\n",
        "nltk.download('stopwords')"
      ],
      "metadata": {
        "colab": {
          "base_uri": "https://localhost:8080/"
        },
        "id": "ikiGmfd70Hd3",
        "outputId": "bf5b3c5f-4ff0-4d2e-b41b-8788532acd60"
      },
      "execution_count": 4,
      "outputs": [
        {
          "output_type": "stream",
          "name": "stderr",
          "text": [
            "[nltk_data] Downloading package stopwords to /root/nltk_data...\n",
            "[nltk_data]   Unzipping corpora/stopwords.zip.\n"
          ]
        },
        {
          "output_type": "execute_result",
          "data": {
            "text/plain": [
              "True"
            ]
          },
          "metadata": {},
          "execution_count": 4
        }
      ]
    },
    {
      "cell_type": "code",
      "source": [
        "print('영어  stop words 개수: ', len(nltk.corpus.stopwords.words('english')))\n",
        "print(nltk.corpus.stopwords.words('english')[:20])"
      ],
      "metadata": {
        "colab": {
          "base_uri": "https://localhost:8080/"
        },
        "id": "urm8CWul0L42",
        "outputId": "6e22a8ce-d91a-4cd8-c61e-66461a24ef7f"
      },
      "execution_count": 5,
      "outputs": [
        {
          "output_type": "stream",
          "name": "stdout",
          "text": [
            "영어  stop words 개수:  179\n",
            "['i', 'me', 'my', 'myself', 'we', 'our', 'ours', 'ourselves', 'you', \"you're\", \"you've\", \"you'll\", \"you'd\", 'your', 'yours', 'yourself', 'yourselves', 'he', 'him', 'his']\n"
          ]
        }
      ]
    },
    {
      "cell_type": "code",
      "source": [
        "import nltk\n",
        "\n",
        "stopwords=nltk.corpus.stopwords.words('english')\n",
        "all_tokens=[]\n",
        "\n",
        "for sentence in word_tokens:\n",
        "  filtered_words=[]\n",
        "  for word in sentence:\n",
        "    word=word.lower()\n",
        "    if word not in stopwords:\n",
        "      filtered_words.append(word)\n",
        "  all_tokens.append(filtered_words)\n",
        "\n",
        "print(all_tokens)"
      ],
      "metadata": {
        "colab": {
          "base_uri": "https://localhost:8080/"
        },
        "id": "6glW-TSH0c0Z",
        "outputId": "eae9cb9a-85f9-49eb-d1a6-9396e05ef65c"
      },
      "execution_count": 6,
      "outputs": [
        {
          "output_type": "stream",
          "name": "stdout",
          "text": [
            "[['matrix', 'everywhere', 'around', 'us', ',', 'even', 'room', '.'], ['see', 'window', 'television', '.'], ['feel', 'go', 'work', ',', 'go', 'church', 'pay', 'taxes', '.']]\n"
          ]
        }
      ]
    },
    {
      "cell_type": "markdown",
      "source": [
        "###**Stemming과 Lemmatization**\n",
        "\n",
        "- 문법적 또는 의미적으로 변화하는 단어의 원형을 찾는 것\n",
        "- Lemmatization: 정교하며 의미론적인 기반에서 단어의 원형을 찾음, 품사와 같은 문법적인 요소와 더 의미적인 부분을 감안해 정확한 철자로 된 어근 단어를 찾아줌. 그래서 변환에 더 오랜 시간이 필요\n",
        "- Stemming: 원형 단어로 변환 시 일반적인 방법을 적용하거나 더 단순화된 방법을 적용해 원래 단어에서 일부 철자가 훼손된 어근 단어를 추출하는 경향이 있음"
      ],
      "metadata": {
        "id": "i9bwj4nD1SZn"
      }
    },
    {
      "cell_type": "code",
      "source": [
        "from nltk.stem import LancasterStemmer\n",
        "stemmer=LancasterStemmer()\n",
        "\n",
        "print(stemmer.stem('working'), stemmer.stem('works'), stemmer.stem('worked'))\n",
        "print(stemmer.stem('amusing'), stemmer.stem('amuses'), stemmer.stem('amused'))\n",
        "print(stemmer.stem('happier'), stemmer.stem('happiest'))\n",
        "print(stemmer.stem('fancier'), stemmer.stem('fanciest'))"
      ],
      "metadata": {
        "colab": {
          "base_uri": "https://localhost:8080/"
        },
        "id": "bRPK-FwS0cx3",
        "outputId": "96b3b05e-147c-4276-d447-8f4d50e2a9b4"
      },
      "execution_count": 7,
      "outputs": [
        {
          "output_type": "stream",
          "name": "stdout",
          "text": [
            "work work work\n",
            "amus amus amus\n",
            "happy happiest\n",
            "fant fanciest\n"
          ]
        }
      ]
    },
    {
      "cell_type": "markdown",
      "source": [
        "amuse의 경우 amus를 원형 단어로 인식"
      ],
      "metadata": {
        "id": "n2DJUpdi2Jzf"
      }
    },
    {
      "cell_type": "markdown",
      "source": [
        "\n",
        "\n",
        "---\n",
        "\n",
        "Lemmatization은 보다 정확한 원형 단어 추출을 위해 단어의 **품사**를 입력해줘야 함"
      ],
      "metadata": {
        "id": "3cjluxrj2cRf"
      }
    },
    {
      "cell_type": "code",
      "source": [
        "from nltk.stem import WordNetLemmatizer\n",
        "import nltk\n",
        "nltk.download('wordnet')\n",
        "\n",
        "lemma=WordNetLemmatizer()\n",
        "print(lemma.lemmatize('amusing', 'v'), lemma.lemmatize('amuses', 'v'), lemma.lemmatize('amused', 'v'))\n",
        "print(lemma.lemmatize('happier', 'a'), lemma.lemmatize('happiest', 'a'))\n",
        "print(lemma.lemmatize('fancier', 'a'), lemma.lemmatize('fanciest', 'a'))"
      ],
      "metadata": {
        "colab": {
          "base_uri": "https://localhost:8080/"
        },
        "id": "3yXaACFI0cvL",
        "outputId": "6d01ccf3-cb68-47bd-99e6-cd02065838e8"
      },
      "execution_count": 8,
      "outputs": [
        {
          "output_type": "stream",
          "name": "stderr",
          "text": [
            "[nltk_data] Downloading package wordnet to /root/nltk_data...\n"
          ]
        },
        {
          "output_type": "stream",
          "name": "stdout",
          "text": [
            "amuse amuse amuse\n",
            "happy happy\n",
            "fancy fancy\n"
          ]
        }
      ]
    },
    {
      "cell_type": "markdown",
      "source": [
        "## **Bag of Words - BOW**\n",
        "\n",
        "**Bag of Words**\n",
        "- 모든 단어를 문맥이나 순서를 무시하고 일괄적으로 단어에 대한 빈도 값을 부여해 피처 값을 추출하는 모델\n",
        "- 모든 단어를 한꺼번에 봉투 안에 넣은 뒤에 흔들어서 섞는다는 의미\n",
        "\n",
        "<br>\n",
        "\n",
        "1. 문장1과 문장2에 있는 모든 단어에서 중복을 제거하고 각 단어를 칼럼 형태로 나열. 각 단어에 고유 인덱스를 다음과 같이 부여\n",
        "2. 개별 문장에 해당 단어가 나타나는 획수를 단어에 기재. "
      ],
      "metadata": {
        "id": "J8ov8ODk2kT2"
      }
    },
    {
      "cell_type": "markdown",
      "source": [
        "![image.png](data:image/png;base64,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)"
      ],
      "metadata": {
        "id": "Uc47xF273GHY"
      }
    },
    {
      "cell_type": "markdown",
      "source": [
        "**BOW 모델 장점**\n",
        "- 쉽고 빠른 구축\n",
        "- 예상보다 문서의 특징을 잘 나타낼 수 있는 모델로 활용도가 높음\n",
        "\n",
        "**BOW 모델 단점**\n",
        "- 문맥 의미(Semantic Context) 반영 부족: 단어의 순서를 고려하지 않으므로 단어의 문맥적인 의미가 무시\n",
        "- 희소 행렬 문제(희소성, 희소 행렬): BOW로 피처 벡터화를 수행하면 희소 행렬 형태의 데이터 세트가 만들어지기 쉬움: 희소 행렬은 일반적으로 ML 알고리즘의 수행 시간과 예측 성능을 떨어뜨리기 때문에 희소 행렬을 위한 특별한 기법이 마련\n",
        "\n",
        "---\n",
        "\n",
        "**BOW 피처 벡터화**\n",
        "\n",
        "머신러닝 알고리즘은 일반적으로 숫자형 피처를 데이터로 입력받아 동작하기 때문에 텍스트와 같은 데이터는 머신러닝 알고리즘에 바로 입력할 수 없음. 따라서 텍스트는 특정 의미를 가지는 숫자형 값인 벡터 값으로 변환해야 하는데, 이러한 변환을 피처 벡터화\n",
        "\n",
        "- BOW 모델에서 피처 벡터화를 수행한다는 것은 모든 문서에서 모든 단어를 칼럼 형태로 나열하고 각 문서에서 해당 단어의 횟수나 정규화된 빈도를 값으로 부여하는 데이터 세트 모델로 변경하는 것\n",
        "- 예를 들어 M개의 텍스트 문서가 있고, 이 문서에서 모든 단어를 추출해 나열했을 때 N개의 단어가 있다고 가정하면 문서의 피처 벡터화를 수행하면 M개의 문서는 각각 N개의 값이 할당된 피처의 벡터 세트가 됨: M X N 개의 단어 피처로 이뤄진 행렬을 구성\n",
        "\n",
        "<br>\n",
        "\n",
        "BOW의 피처 벡터화 방식\n",
        "- 카운트 기반의 벡터화: 해당 단어가 나타나는 횟수\n",
        "- TF-IDF 기반의 벡터화: 자주 나타나는 단어에 높은 가중치를 주되, 모든 문서에서 전반적으로 자주 나타나는 단어에 대해서는 패널티를 주는 방식\n",
        "\n",
        "\n",
        "\n",
        "\n",
        "---\n",
        "\n",
        "### **사이킷런의 Count 및 TF-IDF 벡터화 구현: CountVectorizer, TfidfVectorizer**\n",
        "\n",
        "**Count Vectorizer**\n",
        "- 클래스는 카운트 기반의 벡터화를 구현한 클래스: 피처 벡터화 + 소문자 일괄 변환, 토큰화, 스톱 워드 필터리 등의 텍스트 전처리\n",
        "\n",
        "**CountVectorizer의 입력 파라미터**\n",
        "- max_df: 전체 문서에 걸쳐서 너무 높은 빈도수를 가지는 단어 피처를 제외하기 위한 파라미터\n",
        "- min_df: 전체 문서에 걸쳐서 너무 낮은 빈도수를 가지는 단어 피처를 제외하기 위한 파라미터\n",
        "  - 정수 값을 가지면 전체 문서에 걸쳐서 n번 이하로 나타나는 단어는 피처로 추출하지 않음\n",
        "  - 부동 소수점을 가지면 전체 문서에 걸쳐서 하위 n% 이하의 빈도수를 가지는 단어는 피처로 추출하지 않음\n",
        "- max_features: 추출하는 피처의 개수를 제한하며 정수로 값을 지정\n",
        "- stop_words: english로 지정하면 영어의 스톱 워드로 지정된 단어는 추출에서 제외\n",
        "- n_gram_range: BOW 모델의 단어 순서를 어느 정도 보강하기 위한 n_gram 범위를 설정. 튜플 형태로 (범위 최솟값, 범위 최댓값)을 지정\n",
        "- analyzer: 피처 추출을 수행한 단위를 지정\n",
        "- token_pattern: 토큰화를 수행하는 정규 표현식 패턴을 지정\n",
        "- tokenizer: 토큰화를 별도의 커스텀 함수로 이용시 적용\n",
        "\n",
        "<br>\n",
        "\n",
        "CountVectorizer 클래스 사용법\n",
        "1. 영어의 경우 모든 문자를 소문자로 변경하는 등의 전처리 작업 수행\n",
        "2. 디폴트로 단어 기준으로 n_gram_range를 반영해 각 단어를 토킄ㄴ화\n",
        "3. 텍스트 정규화 수행\n",
        "\n"
      ],
      "metadata": {
        "id": "VlwfX2UJ3GzY"
      }
    },
    {
      "cell_type": "markdown",
      "source": [
        "### **BOW 벡터화를 위한 희소 행렬**\n",
        "- 희소 행렬은 너무 많은 불필요한 0값이 메모리 공간에 할당되어 메모리 공간이 많이 필요하며, 행렬의 크기가 커서 연산 시에도 데이터 액세스를 위한 시간이 많이 소모\n",
        "- 이러한 희소 행렬을 물리적으로 적은 메모리 공간을 차지할 수 있도록 변환해야 함\n",
        "  - COO형식\n",
        "  - CSR 형식\n",
        "\n",
        "<br>\n",
        "\n",
        "### **희소 행렬-COO형식**\n",
        "- COO(Coordinate: 좌표) 형식은 0이 아닌 데이터만 별도의 데이터 배열에 저장하고, 그 데이터가 가르키는 행과 열의 윛치를 별도의 배열로 저장하는 방식\n",
        "- 주로 사이파이 Scipy를 이용\n"
      ],
      "metadata": {
        "id": "dGf_O6jM7hst"
      }
    },
    {
      "cell_type": "code",
      "source": [
        "import numpy as np\n",
        "\n",
        "dense=np.array([[3, 0, 1], [0, 2, 0]])"
      ],
      "metadata": {
        "id": "2KpCu5Az0csX"
      },
      "execution_count": 10,
      "outputs": []
    },
    {
      "cell_type": "code",
      "source": [
        "from scipy import sparse\n",
        "\n",
        "data=np.array([3, 1, 2])\n",
        "row_pos=np.array([0,0,1])\n",
        "col_pos=np.array([0,2,1])\n",
        "\n",
        "sparse_coo=sparse.coo_matrix((data, (row_pos, col_pos)))"
      ],
      "metadata": {
        "id": "0o0Yhre30cpn"
      },
      "execution_count": 12,
      "outputs": []
    },
    {
      "cell_type": "code",
      "source": [
        "sparse_coo.toarray()"
      ],
      "metadata": {
        "colab": {
          "base_uri": "https://localhost:8080/"
        },
        "id": "KaRqsuHf0cnP",
        "outputId": "61cfe7bf-4fce-4611-8353-290f7bd7c995"
      },
      "execution_count": 13,
      "outputs": [
        {
          "output_type": "execute_result",
          "data": {
            "text/plain": [
              "array([[3, 0, 1],\n",
              "       [0, 2, 0]])"
            ]
          },
          "metadata": {},
          "execution_count": 13
        }
      ]
    },
    {
      "cell_type": "markdown",
      "source": [
        "###**희소 행렬 - CSR 형식**\n",
        "\n",
        "**CSR(Compressed Sparse Row)** 형식은 COO 형식이 행과 열의 위치를 나타내기 위해서 반복적인 위치 데이터를 사용해야 하는 문제점을 해결한 방식"
      ],
      "metadata": {
        "id": "Wc2LgVsq876r"
      }
    },
    {
      "cell_type": "code",
      "source": [
        "from scipy import sparse\n",
        "\n",
        "dense2 = np.array([[0,0,1,0,0,5],\n",
        "                  [1,4,0,3,2,5],\n",
        "                  [0,6,0,3,0,0],\n",
        "                  [2,0,0,0,0,0],\n",
        "                  [0,0,0,7,0,8],\n",
        "                  [1,0,0,0,0,0]])\n",
        "\n",
        "data2=np.array([1,5,1,4,3,2,5,6,3,2,7,8,1])\n",
        "\n",
        "row_pos=np.array([0,0,1,1,1,1,1,2,2,3,4,4,5])\n",
        "col_pos=np.array([2,5,0,1,3,4,5,1,3,0,3,5,0])\n",
        "\n",
        "sparse_coo=sparse.coo_matrix((data2, (row_pos, col_pos)))\n",
        "\n",
        "row_pos_ind=np.array([0,2,7,9,10,12,13])\n",
        "\n",
        "sparse_csr=sparse.csr_matrix((data2, col_pos, row_pos_ind))\n",
        "\n",
        "print('COO 변환된 데이터가 제대로 되었는지 다시 dense로 출력 확인')\n",
        "print(sparse_coo.toarray())\n",
        "print('CSR 변환된 데이터가 제대로 되었는지 다시 dense로 출력 확인')\n",
        "print(sparse_csr.toarray())"
      ],
      "metadata": {
        "colab": {
          "base_uri": "https://localhost:8080/"
        },
        "id": "P3pHr5Lu0ckf",
        "outputId": "a5818fc5-62c9-4e5c-e4db-80e38df41889"
      },
      "execution_count": 14,
      "outputs": [
        {
          "output_type": "stream",
          "name": "stdout",
          "text": [
            "COO 변환된 데이터가 제대로 되었는지 다시 dense로 출력 확인\n",
            "[[0 0 1 0 0 5]\n",
            " [1 4 0 3 2 5]\n",
            " [0 6 0 3 0 0]\n",
            " [2 0 0 0 0 0]\n",
            " [0 0 0 7 0 8]\n",
            " [1 0 0 0 0 0]]\n",
            "CSR 변환된 데이터가 제대로 되었는지 다시 dense로 출력 확인\n",
            "[[0 0 1 0 0 5]\n",
            " [1 4 0 3 2 5]\n",
            " [0 6 0 3 0 0]\n",
            " [2 0 0 0 0 0]\n",
            " [0 0 0 7 0 8]\n",
            " [1 0 0 0 0 0]]\n"
          ]
        }
      ]
    },
    {
      "cell_type": "code",
      "source": [
        "dense3=np.array([[0,0,1,0,0,5],\n",
        "                 [1,4,0,3,2,5],\n",
        "                 [0,6,0,3,0,0],\n",
        "                 [2,0,0,0,0,0],\n",
        "                 [0,0,0,7,0,8],\n",
        "                 [1,0,0,0,0,0]])\n",
        "\n",
        "coo=sparse.coo_matrix(dense3)\n",
        "csr=sparse.csr_matrix(dense3)"
      ],
      "metadata": {
        "id": "gM5nzKuu0ch_"
      },
      "execution_count": 15,
      "outputs": []
    }
  ]
}