{
  "nbformat": 4,
  "nbformat_minor": 0,
  "metadata": {
    "colab": {
      "provenance": [],
      "authorship_tag": "ABX9TyMQukfa0kPOh1osXtJXroLH",
      "include_colab_link": true
    },
    "kernelspec": {
      "name": "python3",
      "display_name": "Python 3"
    },
    "language_info": {
      "name": "python"
    }
  },
  "cells": [
    {
      "cell_type": "markdown",
      "metadata": {
        "id": "view-in-github",
        "colab_type": "text"
      },
      "source": [
        "<a href=\"https://colab.research.google.com/github/zzaeyun/ESAA23_1/blob/main/%EC%99%84%EB%B2%BD%EA%B0%80%EC%9D%B4%EB%93%9C_607to624.ipynb\" target=\"_parent\"><img src=\"https://colab.research.google.com/assets/colab-badge.svg\" alt=\"Open In Colab\"/></a>"
      ]
    },
    {
      "cell_type": "markdown",
      "source": [
        "##**08 파이썬 추천 시스템 패키지-Surprise**\n",
        "\n",
        "###**Surprise 패키지 소개**\n",
        "- 추천 시스템은 상업적으로 가치가 크기 때문에 별도의 패키지로 제공되면 활용도가 높음\n",
        "- 이전 코드는 최적화나 수행 속도 측면에서 보완이 필요"
      ],
      "metadata": {
        "id": "Gf4XH4s38uTP"
      }
    },
    {
      "cell_type": "code",
      "execution_count": 1,
      "metadata": {
        "colab": {
          "base_uri": "https://localhost:8080/"
        },
        "id": "hF3rb5FB77sk",
        "outputId": "6242932c-f187-4df7-8c89-ef2f3d7fe52f"
      },
      "outputs": [
        {
          "output_type": "stream",
          "name": "stdout",
          "text": [
            "Looking in indexes: https://pypi.org/simple, https://us-python.pkg.dev/colab-wheels/public/simple/\n",
            "Collecting scikit-surprise\n",
            "  Downloading scikit-surprise-1.1.3.tar.gz (771 kB)\n",
            "\u001b[2K     \u001b[90m━━━━━━━━━━━━━━━━━━━━━━━━━━━━━━━━━━━━━━━\u001b[0m \u001b[32m772.0/772.0 kB\u001b[0m \u001b[31m9.7 MB/s\u001b[0m eta \u001b[36m0:00:00\u001b[0m\n",
            "\u001b[?25h  Preparing metadata (setup.py) ... \u001b[?25l\u001b[?25hdone\n",
            "Requirement already satisfied: joblib>=1.0.0 in /usr/local/lib/python3.10/dist-packages (from scikit-surprise) (1.2.0)\n",
            "Requirement already satisfied: numpy>=1.17.3 in /usr/local/lib/python3.10/dist-packages (from scikit-surprise) (1.22.4)\n",
            "Requirement already satisfied: scipy>=1.3.2 in /usr/local/lib/python3.10/dist-packages (from scikit-surprise) (1.10.1)\n",
            "Building wheels for collected packages: scikit-surprise\n",
            "  Building wheel for scikit-surprise (setup.py) ... \u001b[?25l\u001b[?25hdone\n",
            "  Created wheel for scikit-surprise: filename=scikit_surprise-1.1.3-cp310-cp310-linux_x86_64.whl size=3095456 sha256=2830aea88d6053acd6589ecf3d5a00a8dabdff953076ebeb6836967e1a101ef4\n",
            "  Stored in directory: /root/.cache/pip/wheels/a5/ca/a8/4e28def53797fdc4363ca4af740db15a9c2f1595ebc51fb445\n",
            "Successfully built scikit-surprise\n",
            "Installing collected packages: scikit-surprise\n",
            "Successfully installed scikit-surprise-1.1.3\n"
          ]
        }
      ],
      "source": [
        "!pip install scikit-surprise"
      ]
    },
    {
      "cell_type": "markdown",
      "source": [
        "**Surprise 패키지**\n",
        "- 다양한 추천 알고리즘, 예를 들어 사용자 또는 아이템 기반 최근접 이웃 협업 필터링, SVD, SVD++, NMF 기반의 잠재 요인 협업 필터링을 쉽게 적용해 추천 시스템 구축 가능\n",
        "- fit( ), predict( ) API로 추천 데이터 학습과 예측 \n",
        "- train_test_split( )으로 추천 학습 데이터와 예측 데이터 세트 분리\n",
        "- cross_validate().GridSearchCV 클래스를 통해 추천 시스템을 위한 모델 셀렉션, 평가, 하이퍼 파라미터 튜닝 등의 기능 제공"
      ],
      "metadata": {
        "id": "lb9plFOz9MPP"
      }
    },
    {
      "cell_type": "markdown",
      "source": [
        "###**Surprise를 이용한 추천 시스템 구축**\n",
        "추천 데이터를 학습용과 테스트용 데이터 세트로 분리한 뒤 SVD 행렬 분해를 통해 잠재 요인 협업 필터링 수행"
      ],
      "metadata": {
        "id": "2dcvaxnM9w2W"
      }
    },
    {
      "cell_type": "code",
      "source": [
        "from surprise import SVD\n",
        "from surprise import Dataset\n",
        "from surprise import accuracy\n",
        "from surprise.model_selection import train_test_split"
      ],
      "metadata": {
        "id": "If_o4yn498aO"
      },
      "execution_count": 2,
      "outputs": []
    },
    {
      "cell_type": "markdown",
      "source": [
        "- Surprise에서 데이터 로딩은 Dataset 클래스를 이용해서만 가능\n",
        "- Surprise는 Movie Lens 데이터 세트의 사용자-영화 평점 데이터 포맷과 같이 userId(사용자 ID), movieId(영화 ID), rating(평점)과 같은 주요 데이터가 로우 레벨 형태로 돼있는 포맷의 데이터만 처리"
      ],
      "metadata": {
        "id": "MdWShdbD-Mgn"
      }
    },
    {
      "cell_type": "code",
      "source": [
        "#무비렌즈(MovieLens) 사이트에서 제공하는 데이터 세트인 'ml-100k' (10만 개 평점 데이터)\n",
        "data=Dataset.load_builtin('ml-100k')\n",
        "trainset, testset=train_test_split(data, test_size=.25, random_state=0)"
      ],
      "metadata": {
        "colab": {
          "base_uri": "https://localhost:8080/"
        },
        "id": "ysd7KTqc-lpX",
        "outputId": "be3d16b3-25ab-445c-c5ce-1445795957fe"
      },
      "execution_count": 3,
      "outputs": [
        {
          "output_type": "stream",
          "name": "stdout",
          "text": [
            "Dataset ml-100k could not be found. Do you want to download it? [Y/n] Y\n",
            "Trying to download dataset from https://files.grouplens.org/datasets/movielens/ml-100k.zip...\n",
            "Done! Dataset ml-100k has been saved to /root/.surprise_data/ml-100k\n"
          ]
        }
      ]
    },
    {
      "cell_type": "markdown",
      "source": [
        "- Surprise가 내려받은 ml-100k, ml-1m은 과거 버전의 데이터 세트\n",
        "  - 분리 문자가 탭(\\t)\n",
        "- 무비렌즈 사이트에서 내려받은 데이터 파일과 동일하게 로우 레벨의 사용자-아이템 평점 데이터를 그대로 적용해야 함\n",
        "- Surprise는 자체적으로 로우 레벨의 데이터를 칼럼 레벨의 데이터로 변경하므로 원본인 로우 레벨의 사용자-아이템 평점 데이터를 데이터 세트로 적용"
      ],
      "metadata": {
        "id": "MguoHGIL_M2O"
      }
    },
    {
      "cell_type": "code",
      "source": [
        "algo=SVD()\n",
        "algo.fit(trainset)"
      ],
      "metadata": {
        "colab": {
          "base_uri": "https://localhost:8080/"
        },
        "id": "rdMdXwUX_1w3",
        "outputId": "096b6876-71ab-4d02-9403-ab4ea6f2c7d6"
      },
      "execution_count": 4,
      "outputs": [
        {
          "output_type": "execute_result",
          "data": {
            "text/plain": [
              "<surprise.prediction_algorithms.matrix_factorization.SVD at 0x7fd5e432ebf0>"
            ]
          },
          "metadata": {},
          "execution_count": 4
        }
      ]
    },
    {
      "cell_type": "markdown",
      "source": [
        "Surprise에서 추천을 예측하는 메서드는 test()와 predict()\n",
        "- test(): 사용자-아이템 평점 데이터 세트 전체에 대해서 추천을 예측하는 메서드, 입력된 데이터 세트에 대해 추천 데이터 세트를 만들어줌\n",
        "- predict(): 개별 사용자와 영화에 대한 추천 평점을 반환"
      ],
      "metadata": {
        "id": "C49c4HNM_8R-"
      }
    },
    {
      "cell_type": "code",
      "source": [
        "predictions=algo.test(testset)\n",
        "print('prediction type: ', type(predictions), len(predictions))\n",
        "print('prediction 결과의 최초 5개 추출')\n",
        "predictions[:5]"
      ],
      "metadata": {
        "colab": {
          "base_uri": "https://localhost:8080/"
        },
        "id": "mEJcuudqATjW",
        "outputId": "35a5731c-59fe-4929-cd59-c5da15b1f622"
      },
      "execution_count": 5,
      "outputs": [
        {
          "output_type": "stream",
          "name": "stdout",
          "text": [
            "prediction type:  <class 'list'> 25000\n",
            "prediction 결과의 최초 5개 추출\n"
          ]
        },
        {
          "output_type": "execute_result",
          "data": {
            "text/plain": [
              "[Prediction(uid='120', iid='282', r_ui=4.0, est=3.786439343718333, details={'was_impossible': False}),\n",
              " Prediction(uid='882', iid='291', r_ui=4.0, est=3.679179921881626, details={'was_impossible': False}),\n",
              " Prediction(uid='535', iid='507', r_ui=5.0, est=3.9427123742130163, details={'was_impossible': False}),\n",
              " Prediction(uid='697', iid='244', r_ui=5.0, est=3.602173872973025, details={'was_impossible': False}),\n",
              " Prediction(uid='751', iid='385', r_ui=4.0, est=3.1298014674277126, details={'was_impossible': False})]"
            ]
          },
          "metadata": {},
          "execution_count": 5
        }
      ]
    },
    {
      "cell_type": "markdown",
      "source": [
        "prediction객체\n",
        "- 개별 사용자 아이디(uid)\n",
        "- 영화(또는 아이템) 아이디(iid)\n",
        "- 실제 평점(r_ui)\n",
        "- 추천 예측 평점(est)\n",
        "- 데이터를 **튜플** 형태로 가짐\n",
        "- was_impossible이 True이면 예측값을 생성할 수 없는 데이터라는 의미"
      ],
      "metadata": {
        "id": "wF_YRjkKBEiG"
      }
    },
    {
      "cell_type": "code",
      "source": [
        "[(pred.uid, pred.iid, pred.est ) for pred in predictions[:3]]"
      ],
      "metadata": {
        "colab": {
          "base_uri": "https://localhost:8080/"
        },
        "id": "yecBrTuqBqDf",
        "outputId": "c1cda87e-e33f-4d97-8f0f-afbebd7d3243"
      },
      "execution_count": 6,
      "outputs": [
        {
          "output_type": "execute_result",
          "data": {
            "text/plain": [
              "[('120', '282', 3.786439343718333),\n",
              " ('882', '291', 3.679179921881626),\n",
              " ('535', '507', 3.9427123742130163)]"
            ]
          },
          "metadata": {},
          "execution_count": 6
        }
      ]
    },
    {
      "cell_type": "markdown",
      "source": [
        "인자로 개별 사용자 아이디, 아이템 아이디를 입력하면 추천 예측 평점을 포함한 정보 반환\n",
        "- r_ui는 선택 사항\n",
        "- 사용자 아이디, 아이템 아이디는 문자열로 입력"
      ],
      "metadata": {
        "id": "54Ag6i6cCEy9"
      }
    },
    {
      "cell_type": "code",
      "source": [
        "uid=str(196)\n",
        "iid=str(302)\n",
        "pred=algo.predict(uid,iid)\n",
        "print(pred)"
      ],
      "metadata": {
        "colab": {
          "base_uri": "https://localhost:8080/"
        },
        "id": "t3r1bqyrB9ie",
        "outputId": "c081252b-f9b1-407d-ae88-6e541cb70884"
      },
      "execution_count": 8,
      "outputs": [
        {
          "output_type": "stream",
          "name": "stdout",
          "text": [
            "user: 196        item: 302        r_ui = None   est = 4.04   {'was_impossible': False}\n"
          ]
        }
      ]
    },
    {
      "cell_type": "markdown",
      "source": [
        "**accuracy** 모듈\n",
        "- RMSE, MSE 등의 방법으로 추천 시스템의 성능 평가 정보 제공\n",
        "\n",
        "\n"
      ],
      "metadata": {
        "id": "NmKqAqafCWnm"
      }
    },
    {
      "cell_type": "code",
      "source": [
        "accuracy.rmse(predictions)"
      ],
      "metadata": {
        "colab": {
          "base_uri": "https://localhost:8080/"
        },
        "id": "KTZpUr53CdXm",
        "outputId": "d2031b43-c898-4a1a-8def-ea4fbcec7fb4"
      },
      "execution_count": 9,
      "outputs": [
        {
          "output_type": "stream",
          "name": "stdout",
          "text": [
            "RMSE: 0.9498\n"
          ]
        },
        {
          "output_type": "execute_result",
          "data": {
            "text/plain": [
              "0.9498301865128412"
            ]
          },
          "metadata": {},
          "execution_count": 9
        }
      ]
    },
    {
      "cell_type": "markdown",
      "source": [
        "###**Surprise 주요 모듈 소개**\n",
        "**Dataset**\n",
        "- Surprise는 사용자 아이디, 아이템 아이디, 평점 데이터가 로우 레벨로 된 데이터 세트만 적용 가능\n",
        "- 네 번째 칼럼부터는 아예 로딩을 수행하지 않음\n",
        "\n",
        "<br>\n",
        "\n",
        "API명과 내용\n",
        "- **Dataset.load_builtin(name='ml-100k')**\n",
        "  - 무비렌즈 아카이브 FTP 서버에서 데이터를 내려 받음\n",
        "- **Dataset.load_from_file(file_path, reader)**\n",
        "  - OS 파일에서 데이터를 로딩할 때 사용\n",
        "  - 콤마, 탭 등으로 칼럼이 분리된 포맷의 OS 파일에서 데이터를 로딩\n",
        "- **Dataset.load_from_df(df, reader)**\n",
        "  - 판다스의 DataFrame에서 데이터를 로딩\n",
        "  - 파라미터로 DataFrame을 입력받으며 DataFrame 역시 반드시 3개의 칼럼인 사용자 아이디, 아이템 아이디, 평점 순으로 칼럼 순서가 정해져 있어야 함."
      ],
      "metadata": {
        "id": "WmoPL5sWCzW2"
      }
    },
    {
      "cell_type": "markdown",
      "source": [
        "**OS 파일 데이터를 Surprise 데이터 세트로 로딩**\n",
        "- **주의** 로딩되는 데이터 파일에 칼럼명을 가지는 헤더 문자열이 있어서는 안됨"
      ],
      "metadata": {
        "id": "HHt3k-doD7Rt"
      }
    },
    {
      "cell_type": "code",
      "source": [
        "import pandas as pd\n",
        "\n",
        "ratings=pd.read_csv('/ratings.csv')\n",
        "ratings.to_csv('/ratings_noh.csv', index=False, header=False)"
      ],
      "metadata": {
        "id": "VG8bId-yCd2f"
      },
      "execution_count": 11,
      "outputs": []
    },
    {
      "cell_type": "markdown",
      "source": [
        "헤더가 삭제된 파일을 DataSet 모듈의 load_from_file()을 이용해 Dataset로 로드\n",
        "- 먼저 Reader 클래스를 이용해 데이터 파일의 파싱 포맷을 정의\n",
        "- 칼럼 헤더가 없고 4개의 칼럼이 콤마로 분리\n",
        "- Reader 클래스의 생성자에 각 필드의 칼럼명과 칼럼 분리 문자, 그리고 최소~최대 평점을 입력해 객체 생성"
      ],
      "metadata": {
        "id": "J_IyShhaFKbc"
      }
    },
    {
      "cell_type": "code",
      "source": [
        "from surprise import Reader\n",
        "\n",
        "reader=Reader(line_format='user item rating timestamp', sep=',', rating_scale=(0.5,5)) # 평점의 단위는 0.5, 최대평점은 5\n",
        "data=Dataset.load_from_file('/ratings_noh.csv', reader=reader)"
      ],
      "metadata": {
        "id": "Jtpu8SRlCd0F"
      },
      "execution_count": 12,
      "outputs": []
    },
    {
      "cell_type": "markdown",
      "source": [
        "**Reader 클래스의 주요 생성 파라미터**\n",
        "- line_format(string): 칼럼을 순서대로 나열, 입력된 문자열을 공백으로 분리해 칼럼으로 인식\n",
        "- sep(char): 칼럼을 분리하는 분리자, 디폴트는 '\\t'\n",
        "- rating_scale(tuple, optional): 평점 값의 최소~최대 평점을 설정, 디폴트는 (1,5)"
      ],
      "metadata": {
        "id": "zt4a7JpaF6UV"
      }
    },
    {
      "cell_type": "code",
      "source": [
        "trainset, testset=train_test_split(data, test_size=.25, random_state=0 )\n",
        "algo=SVD(n_factors=50, random_state=0)\n",
        "algo.fit(trainset)\n",
        "predictions=algo.test(testset)\n",
        "accuracy.rmse(predictions)"
      ],
      "metadata": {
        "colab": {
          "base_uri": "https://localhost:8080/"
        },
        "id": "fVgbFgwoGQ-k",
        "outputId": "52cdc15f-ea75-4d77-e876-f04171131866"
      },
      "execution_count": 13,
      "outputs": [
        {
          "output_type": "stream",
          "name": "stdout",
          "text": [
            "RMSE: 0.8682\n"
          ]
        },
        {
          "output_type": "execute_result",
          "data": {
            "text/plain": [
              "0.8681952927143516"
            ]
          },
          "metadata": {},
          "execution_count": 13
        }
      ]
    },
    {
      "cell_type": "markdown",
      "source": [
        "**판다스 DataFrame에서 Surprise 데이터 세트로 로딩**\n",
        "- 사용자 아이디, 아이템 아이디, 평점 칼럼 순서를 지켜야 함"
      ],
      "metadata": {
        "id": "bBP5JUXnHAnt"
      }
    },
    {
      "cell_type": "code",
      "source": [
        "import pandas as pd\n",
        "from surprise import Reader, Dataset\n",
        "\n",
        "ratings=pd.read_csv('/ratings.csv')\n",
        "reader=Reader(rating_scale=(0.5, 5.0))\n",
        "\n",
        "data=Dataset.load_from_df(ratings[['userId', 'movieId', 'rating']], reader)\n",
        "trainset, testset=train_test_split(data, test_size=.25, random_state=0)\n",
        "\n",
        "algo=SVD(n_factors=50, random_state=0)\n",
        "algo.fit(trainset)\n",
        "predictions=algo.test(testset)\n",
        "accuracy.rmse(predictions)"
      ],
      "metadata": {
        "colab": {
          "base_uri": "https://localhost:8080/"
        },
        "id": "B2Y-xreGCdxm",
        "outputId": "7bc08769-f658-4008-9211-09c2338fea18"
      },
      "execution_count": 16,
      "outputs": [
        {
          "output_type": "stream",
          "name": "stdout",
          "text": [
            "RMSE: 0.8682\n"
          ]
        },
        {
          "output_type": "execute_result",
          "data": {
            "text/plain": [
              "0.8681952927143516"
            ]
          },
          "metadata": {},
          "execution_count": 16
        }
      ]
    },
    {
      "cell_type": "markdown",
      "source": [
        "###**Surprise 추천 알고리즘 클래스**\n",
        "- SVD: 행렬 분해를 통한 잠재 요인 협업 필터링을 위한 SVD 알고리즘\n",
        "- KNNBasic: 최근접 이웃 협업 필터링을 위한 KNN 알고리즘\n",
        "- BaselineOnly: 사용자 Bias와 아이템 Bias를 감안한 SGD 베이스라인 알고리즘\n",
        "\n",
        "<br>\n",
        "\n",
        "-Suprise SVD의 비용 함수는 사용자 베이스라인 편향성을 감안한 평점 예측에 Regularization을 적용\n",
        "\n",
        "<br>\n",
        "\n",
        "**SVD 클래스의 입력 파라미터**\n",
        "- n_factors: 잠재 요인 K의 개수, 디폴트는 100, 커질수록 정확도가 높아질 수 있으나 과적합 문제가 발생할 수 있음\n",
        "- n_epochs: SGD 수행 시 반복 횟수, 디폴트는 20\n",
        "- biased(bool): 베이스라인 사용자 편향 적용 여부, 디폴트는 True\n"
      ],
      "metadata": {
        "id": "feeav8O2IEOs"
      }
    },
    {
      "cell_type": "markdown",
      "source": [
        "###**베이스라인 평점**\n",
        "**베이스라인 평점(Baseline Rating)**\n",
        "- 개인의 성향을 반영해 아이템 평가에 편향성(bias) 요소를 반영하여 평점을 부과하는 것\n",
        "- 전체 평균 평점 + 사용자 편향 점수 + 아이템 편향 점수 \n",
        "  - 전체 평균 평점= 모든 사용자의 평점에 대한 평점을 평균한 값\n",
        "  - 사용자 편향 점수= 사용자별 아이템 평점 평균 값 - 전체 평균 평점\n",
        "  - 아이템 편향 점수= 아이템별 평점 평균 값 - 전체 평균 평점 "
      ],
      "metadata": {
        "id": "pG89gg0-KCXe"
      }
    },
    {
      "cell_type": "markdown",
      "source": [
        "###**교차 검증과 하이퍼 파라미터 튜닝**\n",
        "- cross_validate(): 교차 검증\n",
        "- GridSearchCV: 하이퍼 파라미터 튜닝\n",
        "\n",
        "<br>\n",
        "\n",
        "**cross_validate()**\n",
        "- suprise.model_selection 모듈 내에 존재\n",
        "- 폴드된 데이터 세트의 개수와 성능 측정 방법을 명시해 교차 검증 수행\n",
        "- 인자로 알고리즘 객체, 데이터, 성능 평가 방법(measures), 폴드 데이터 세트 개수(cv) 입력"
      ],
      "metadata": {
        "id": "0iz7ZEXBKyh8"
      }
    },
    {
      "cell_type": "code",
      "source": [
        "from surprise.model_selection import cross_validate\n",
        "\n",
        "ratings=pd.read_csv('/ratings.csv')\n",
        "reader=Reader(rating_scale=(0.5, 5.0))\n",
        "data=Dataset.load_from_df(ratings[['userId', 'movieId', 'rating']], reader)\n",
        "\n",
        "algo=SVD(random_state=0)\n",
        "cross_validate(algo, data, measures=['RMSE', 'MAE'], cv=5, verbose=True)"
      ],
      "metadata": {
        "colab": {
          "base_uri": "https://localhost:8080/"
        },
        "id": "r202NWcoCdu1",
        "outputId": "b32448d7-f49e-4bef-8b94-2b39f64a1899"
      },
      "execution_count": 17,
      "outputs": [
        {
          "output_type": "stream",
          "name": "stdout",
          "text": [
            "Evaluating RMSE, MAE of algorithm SVD on 5 split(s).\n",
            "\n",
            "                  Fold 1  Fold 2  Fold 3  Fold 4  Fold 5  Mean    Std     \n",
            "RMSE (testset)    0.8727  0.8712  0.8719  0.8774  0.8716  0.8730  0.0023  \n",
            "MAE (testset)     0.6705  0.6696  0.6691  0.6736  0.6720  0.6710  0.0016  \n",
            "Fit time          1.85    2.04    2.10    1.72    2.08    1.96    0.15    \n",
            "Test time         0.14    0.16    0.26    0.30    0.20    0.21    0.06    \n"
          ]
        },
        {
          "output_type": "execute_result",
          "data": {
            "text/plain": [
              "{'test_rmse': array([0.87271637, 0.87123971, 0.87186785, 0.87744044, 0.87164393]),\n",
              " 'test_mae': array([0.67050825, 0.66964769, 0.66910877, 0.67362428, 0.67203197]),\n",
              " 'fit_time': (1.851870059967041,\n",
              "  2.036792278289795,\n",
              "  2.098409652709961,\n",
              "  1.7246899604797363,\n",
              "  2.0817227363586426),\n",
              " 'test_time': (0.13677191734313965,\n",
              "  0.1576671600341797,\n",
              "  0.25524020195007324,\n",
              "  0.30176877975463867,\n",
              "  0.20180034637451172)}"
            ]
          },
          "metadata": {},
          "execution_count": 17
        }
      ]
    },
    {
      "cell_type": "markdown",
      "source": [
        "cross_validate()는 위의 출력 결과와 같이 폴드별 성능 평가 수치와 전체 폴드의 평균 수치를 함께 보여줌\n",
        "\n",
        "<br>\n",
        "\n",
        "**GridSearchCV**\n",
        "- 교차 검증을 통한 하이퍼 파라미터 최적화 수행\n",
        "- SVD의 경우 주로 점진적 하강 방식의 반복 횟수를 지정하는 n_epochs와 SVD의 잠재 요인 K의 크기를 지정하는 n_factors를 튜닝"
      ],
      "metadata": {
        "id": "_tfWC2XEMKCD"
      }
    },
    {
      "cell_type": "code",
      "source": [
        "from surprise.model_selection import GridSearchCV\n",
        "\n",
        "param_grid={'n_epochs':[20, 40, 60], 'n_factors':[50, 100, 200]}\n",
        "\n",
        "gs=GridSearchCV(SVD, param_grid, measures=['rmse', 'mae'], cv=3)\n",
        "gs.fit(data)\n",
        "\n",
        "print(gs.best_score['rmse'])\n",
        "print(gs.best_params['rmse'])"
      ],
      "metadata": {
        "colab": {
          "base_uri": "https://localhost:8080/"
        },
        "id": "ho-hkdOrCdsl",
        "outputId": "d747ac0e-0b82-4cdb-9d5c-ba9fc2a9ec2d"
      },
      "execution_count": 18,
      "outputs": [
        {
          "output_type": "stream",
          "name": "stdout",
          "text": [
            "0.8778671578290472\n",
            "{'n_epochs': 20, 'n_factors': 50}\n"
          ]
        }
      ]
    },
    {
      "cell_type": "markdown",
      "source": [
        "###**Surprise를 이용한 개인화 영화 추천 시스템 구축**\n",
        "- Surprise를 이용해 잠재 요인 협업 필터링 기반의 개인화된 영화 추천 구현\n",
        "- 학습된 추천 알고리즘을 기반으로 특정 사용자가 아직 평점을 매기지 않은 (관람하지 않은) 영화 중에서 개인 취향에 가장 적절한 영화를 추천\n",
        "- Surprise에서는 train_test_split()을 이용해 내부에서 사용하는 TrainSet 클래스 객체로 변환해야만 fit을 통해 학습할 수 있음"
      ],
      "metadata": {
        "id": "Cwn0lZRhNBzs"
      }
    },
    {
      "cell_type": "code",
      "source": [
        "#trainset 객체로 변환하지 않아서 오류\n",
        "'''\n",
        "data=Dataset.load_from_df(ratings[['userId', 'movieId', 'rating']], reader)\n",
        "algo=SVD(n_factors=50, random_state=0)\n",
        "algo.fit(data)\n",
        "'''"
      ],
      "metadata": {
        "colab": {
          "base_uri": "https://localhost:8080/",
          "height": 277
        },
        "id": "c9ah30ekCdpe",
        "outputId": "b62034f9-2664-40e3-98f0-1883ddbeddaa"
      },
      "execution_count": 21,
      "outputs": [
        {
          "output_type": "error",
          "ename": "AttributeError",
          "evalue": "ignored",
          "traceback": [
            "\u001b[0;31m---------------------------------------------------------------------------\u001b[0m",
            "\u001b[0;31mAttributeError\u001b[0m                            Traceback (most recent call last)",
            "\u001b[0;32m<ipython-input-21-07c183c3bad6>\u001b[0m in \u001b[0;36m<cell line: 3>\u001b[0;34m()\u001b[0m\n\u001b[1;32m      1\u001b[0m \u001b[0mdata\u001b[0m\u001b[0;34m=\u001b[0m\u001b[0mDataset\u001b[0m\u001b[0;34m.\u001b[0m\u001b[0mload_from_df\u001b[0m\u001b[0;34m(\u001b[0m\u001b[0mratings\u001b[0m\u001b[0;34m[\u001b[0m\u001b[0;34m[\u001b[0m\u001b[0;34m'userId'\u001b[0m\u001b[0;34m,\u001b[0m \u001b[0;34m'movieId'\u001b[0m\u001b[0;34m,\u001b[0m \u001b[0;34m'rating'\u001b[0m\u001b[0;34m]\u001b[0m\u001b[0;34m]\u001b[0m\u001b[0;34m,\u001b[0m \u001b[0mreader\u001b[0m\u001b[0;34m)\u001b[0m\u001b[0;34m\u001b[0m\u001b[0;34m\u001b[0m\u001b[0m\n\u001b[1;32m      2\u001b[0m \u001b[0malgo\u001b[0m\u001b[0;34m=\u001b[0m\u001b[0mSVD\u001b[0m\u001b[0;34m(\u001b[0m\u001b[0mn_factors\u001b[0m\u001b[0;34m=\u001b[0m\u001b[0;36m50\u001b[0m\u001b[0;34m,\u001b[0m \u001b[0mrandom_state\u001b[0m\u001b[0;34m=\u001b[0m\u001b[0;36m0\u001b[0m\u001b[0;34m)\u001b[0m\u001b[0;34m\u001b[0m\u001b[0;34m\u001b[0m\u001b[0m\n\u001b[0;32m----> 3\u001b[0;31m \u001b[0malgo\u001b[0m\u001b[0;34m.\u001b[0m\u001b[0mfit\u001b[0m\u001b[0;34m(\u001b[0m\u001b[0mdata\u001b[0m\u001b[0;34m)\u001b[0m\u001b[0;34m\u001b[0m\u001b[0;34m\u001b[0m\u001b[0m\n\u001b[0m",
            "\u001b[0;32m/usr/local/lib/python3.10/dist-packages/surprise/prediction_algorithms/matrix_factorization.pyx\u001b[0m in \u001b[0;36msurprise.prediction_algorithms.matrix_factorization.SVD.fit\u001b[0;34m()\u001b[0m\n",
            "\u001b[0;32m/usr/local/lib/python3.10/dist-packages/surprise/prediction_algorithms/matrix_factorization.pyx\u001b[0m in \u001b[0;36msurprise.prediction_algorithms.matrix_factorization.SVD.sgd\u001b[0;34m()\u001b[0m\n",
            "\u001b[0;31mAttributeError\u001b[0m: 'DatasetAutoFolds' object has no attribute 'n_users'"
          ]
        }
      ]
    },
    {
      "cell_type": "code",
      "source": [
        "from surprise.dataset import DatasetAutoFolds\n",
        "\n",
        "reader=Reader(line_format='user item rating timestamp', sep=',', rating_scale=(0.5,5))\n",
        "data_folds=DatasetAutoFolds(ratings_file='/ratings_noh.csv', reader=reader)\n",
        "\n",
        "trainset=data_folds.build_full_trainset()"
      ],
      "metadata": {
        "id": "llZYNYfINCRb"
      },
      "execution_count": 26,
      "outputs": []
    },
    {
      "cell_type": "code",
      "source": [
        "algo=SVD(n_epochs=10, n_factors=50, random_state=0)\n",
        "algo.fit(trainset)"
      ],
      "metadata": {
        "colab": {
          "base_uri": "https://localhost:8080/"
        },
        "id": "0CMt8an0NCxM",
        "outputId": "ebb6fdfc-c0b3-46bf-e919-4ddbd1362f49"
      },
      "execution_count": 27,
      "outputs": [
        {
          "output_type": "execute_result",
          "data": {
            "text/plain": [
              "<surprise.prediction_algorithms.matrix_factorization.SVD at 0x7fd5c10ea1a0>"
            ]
          },
          "metadata": {},
          "execution_count": 27
        }
      ]
    },
    {
      "cell_type": "code",
      "source": [
        "movies=pd.read_csv('/movies.csv')\n",
        "movieIds=ratings[ratings['userId']==9]['movieId']\n",
        "\n",
        "if movieIds[movieIds==42].count()==0:\n",
        "  print('사용자 아이디 9는 영화 아이디 42의 평점 없음')\n",
        "\n",
        "print(movies[movies['movieId']==42])"
      ],
      "metadata": {
        "colab": {
          "base_uri": "https://localhost:8080/"
        },
        "id": "_GeOVMmaNCvD",
        "outputId": "feed2d74-a074-41b5-efa4-56f014c83395"
      },
      "execution_count": 29,
      "outputs": [
        {
          "output_type": "stream",
          "name": "stdout",
          "text": [
            "사용자 아이디 9는 영화 아이디 42의 평점 없음\n",
            "    movieId                   title              genres\n",
            "38       42  Dead Presidents (1995)  Action|Crime|Drama\n"
          ]
        }
      ]
    },
    {
      "cell_type": "code",
      "source": [
        "uid=str(9)\n",
        "iid=str(42)\n",
        "\n",
        "pred=algo.predict(uid, iid, verbose=True)"
      ],
      "metadata": {
        "colab": {
          "base_uri": "https://localhost:8080/"
        },
        "id": "AKM_ZhywNCsb",
        "outputId": "b5675844-79f9-45dc-d164-d93c1026322f"
      },
      "execution_count": 30,
      "outputs": [
        {
          "output_type": "stream",
          "name": "stdout",
          "text": [
            "user: 9          item: 42         r_ui = None   est = 3.18   {'was_impossible': False}\n"
          ]
        }
      ]
    },
    {
      "cell_type": "markdown",
      "source": [
        "- 사용자가 평점을 매기지 않은 영화의 추천 예측 평점\n",
        "\n",
        "<br>\n",
        "\n",
        "- 사용자가 평점을 매기지 않은 전체 영화를 추출한 뒤에 예측 평점순으로 영화를 추천\n",
        "- get_unseen_movies()는 사용하지 않고 get_unseen_surprise()함수를 만들고 이를 이용해 평점을 매기지 않은 영화 정보 반환"
      ],
      "metadata": {
        "id": "-lNAtvBFSrj8"
      }
    },
    {
      "cell_type": "code",
      "source": [
        "def get_unseen_surprise(ratings, movies, userId):\n",
        "  seen_movies=ratings[ratings['userId']==userId]['movieId'].tolist()\n",
        "\n",
        "  total_movies=movies['movieId'].tolist()\n",
        "\n",
        "  unseen_movies=[movie for movie in total_movies if movie not in seen_movies]\n",
        "  print('평점 매긴 영화 수: ', len(seen_movies), '추천 대상 영화 수: ', len(unseen_movies), '전체 영화 수: ',len(total_movies))\n",
        "\n",
        "  return unseen_movies\n",
        "\n",
        "unseen_movies=get_unseen_surprise(ratings, movies, 9)"
      ],
      "metadata": {
        "colab": {
          "base_uri": "https://localhost:8080/"
        },
        "id": "VtJO3xaKU8GK",
        "outputId": "70c20c59-0c23-425b-90a4-863984120965"
      },
      "execution_count": 34,
      "outputs": [
        {
          "output_type": "stream",
          "name": "stdout",
          "text": [
            "평점 매긴 영화 수:  46 추천 대상 영화 수:  9696 전체 영화 수:  9742\n"
          ]
        }
      ]
    },
    {
      "cell_type": "markdown",
      "source": [
        "- recomm_movie_by_surprise()\n",
        "  - 인자로 학습이 완료된 추천 알고리즘 객체, 추천 대상 사용자 아이디, 추천 대상 영화의 리스트 객체, 그리고 추천 상위 N개 개수"
      ],
      "metadata": {
        "id": "bLJRA61TU8Xp"
      }
    },
    {
      "cell_type": "code",
      "source": [
        "def recomm_movie_by_surprise(algo, userId, unseen_movies, top_n=10):\n",
        "  predictions=[algo.predict(str(userId), str(movieId)) for movieId in unseen_movies]\n",
        "\n",
        "  def sortkey_est(pred):\n",
        "    return pred.est\n",
        "\n",
        "  predictions.sort(key=sortkey_est, reverse=True)\n",
        "  top_predictions=predictions[:top_n]\n",
        "\n",
        "  top_movie_ids=[int(pred.iid) for pred in top_predictions]\n",
        "  top_movie_rating=[pred.est for pred in top_predictions]\n",
        "  top_movie_titles=movies[movies.movieId.isin(top_movie_ids)]['title']\n",
        "\n",
        "  top_movie_preds=[(id, title, rating) for id, title, rating in zip(top_movie_ids, top_movie_rating, top_movie_titles)]\n",
        "\n",
        "  return top_movie_preds"
      ],
      "metadata": {
        "id": "Y4pi-AwFS64x"
      },
      "execution_count": 37,
      "outputs": []
    },
    {
      "cell_type": "code",
      "source": [
        "unseen_movies=get_unseen_surprise(ratings, movies, 9)\n",
        "top_movie_preds=recomm_movie_by_surprise(algo, 9, unseen_movies, top_n=10)"
      ],
      "metadata": {
        "colab": {
          "base_uri": "https://localhost:8080/"
        },
        "id": "dyrW2JwoTIXS",
        "outputId": "8a4c3734-d076-47a7-dd53-a698318d255e"
      },
      "execution_count": 38,
      "outputs": [
        {
          "output_type": "stream",
          "name": "stdout",
          "text": [
            "평점 매긴 영화 수:  46 추천 대상 영화 수:  9696 전체 영화 수:  9742\n"
          ]
        }
      ]
    },
    {
      "cell_type": "code",
      "source": [
        "print('##### Top-10 추천 영화 리스트 #####')\n",
        "for top_movie in top_movie_preds:\n",
        "  print(top_movie[1], ':', top_movie[2])"
      ],
      "metadata": {
        "colab": {
          "base_uri": "https://localhost:8080/"
        },
        "id": "Frupl-haTIPa",
        "outputId": "08b898f2-8e02-4941-e86d-11c41baa4a42"
      },
      "execution_count": 39,
      "outputs": [
        {
          "output_type": "stream",
          "name": "stdout",
          "text": [
            "##### Top-10 추천 영화 리스트 #####\n",
            "4.13314590038047 : Usual Suspects, The (1995)\n",
            "4.1169758732420245 : Star Wars: Episode IV - A New Hope (1977)\n",
            "4.08608979877929 : Pulp Fiction (1994)\n",
            "4.080177009680638 : Shawshank Redemption, The (1994)\n",
            "4.067961488164734 : Dr. Strangelove or: How I Learned to Stop Worrying and Love the Bomb (1964)\n",
            "4.045129163079612 : Godfather, The (1972)\n",
            "4.044279846912132 : Rear Window (1954)\n",
            "4.014277246697982 : Star Wars: Episode V - The Empire Strikes Back (1980)\n",
            "4.011489026290009 : Goodfellas (1990)\n",
            "4.008193516308413 : Fight Club (1999)\n"
          ]
        }
      ]
    }
  ]
}