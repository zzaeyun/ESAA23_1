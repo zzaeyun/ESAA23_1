{
  "nbformat": 4,
  "nbformat_minor": 0,
  "metadata": {
    "colab": {
      "provenance": [],
      "authorship_tag": "ABX9TyP2E6UVJxVmIYfdXVOKEabq",
      "include_colab_link": true
    },
    "kernelspec": {
      "name": "python3",
      "display_name": "Python 3"
    },
    "language_info": {
      "name": "python"
    }
  },
  "cells": [
    {
      "cell_type": "markdown",
      "metadata": {
        "id": "view-in-github",
        "colab_type": "text"
      },
      "source": [
        "<a href=\"https://colab.research.google.com/github/zzaeyun/ESAA23_1/blob/main/%ED%95%B8%EC%A6%88%EC%98%A8_127to154.ipynb\" target=\"_parent\"><img src=\"https://colab.research.google.com/assets/colab-badge.svg\" alt=\"Open In Colab\"/></a>"
      ]
    },
    {
      "cell_type": "markdown",
      "source": [
        "\n",
        "\n",
        "> CHAPTER 3 분류\n",
        "\n",
        "## **3.1 MNIST**\n",
        "\n",
        "MNIST 데이터셋\n",
        "- 고등학생과 미국 인구조사국 직원들이 손으로 쓴 70000개의 작은 숫자 이미지\n",
        "- 각 이미지가 어떤 숫자를 나타내는지 레이블되어 있음\n",
        "\n",
        "\n"
      ],
      "metadata": {
        "id": "rz_tsBW8f1oU"
      }
    },
    {
      "cell_type": "code",
      "execution_count": 1,
      "metadata": {
        "colab": {
          "base_uri": "https://localhost:8080/"
        },
        "id": "6jnqg5n0fWD0",
        "outputId": "3d381d4d-1c07-430a-acd8-cbd729c4a3a4"
      },
      "outputs": [
        {
          "output_type": "stream",
          "name": "stderr",
          "text": [
            "/usr/local/lib/python3.9/dist-packages/sklearn/datasets/_openml.py:932: FutureWarning: The default value of `parser` will change from `'liac-arff'` to `'auto'` in 1.4. You can set `parser='auto'` to silence this warning. Therefore, an `ImportError` will be raised from 1.4 if the dataset is dense and pandas is not installed. Note that the pandas parser may return different data types. See the Notes Section in fetch_openml's API doc for details.\n",
            "  warn(\n"
          ]
        },
        {
          "output_type": "execute_result",
          "data": {
            "text/plain": [
              "dict_keys(['data', 'target', 'frame', 'categories', 'feature_names', 'target_names', 'DESCR', 'details', 'url'])"
            ]
          },
          "metadata": {},
          "execution_count": 1
        }
      ],
      "source": [
        "from sklearn.datasets import fetch_openml\n",
        "mnist=fetch_openml('mnist_784', version=1)\n",
        "mnist.keys()"
      ]
    },
    {
      "cell_type": "markdown",
      "source": [
        "- 데이터셋들은 일반적으로 비슷한 딕셔너리 구조\n",
        "- 샘플이 하나의 행, 특성이 하나의 열로 구성된 배열을 가진 data 키\n",
        "- 레이블 배열을 담은 target 키\n"
      ],
      "metadata": {
        "id": "uDC5QjJbg7y0"
      }
    },
    {
      "cell_type": "code",
      "source": [
        "X,y=mnist['data'], mnist['target']\n",
        "print(X.shape)\n",
        "print(y.shape)"
      ],
      "metadata": {
        "colab": {
          "base_uri": "https://localhost:8080/"
        },
        "id": "bAY_nAwZhJgz",
        "outputId": "22fc9508-fbd7-4b4e-bf24-1a1968cb0367"
      },
      "execution_count": 4,
      "outputs": [
        {
          "output_type": "stream",
          "name": "stdout",
          "text": [
            "(70000, 784)\n",
            "(70000,)\n"
          ]
        }
      ]
    },
    {
      "cell_type": "markdown",
      "source": [
        "- 이미지가 28x28 픽셀이므로 784개의 특성이 있음\n",
        "- 개개의 특성은 0(흰색)부터 255(검은색)까지의 픽셀 강도를 나타냄\n",
        "- 맷플롯립의 imshow() 함수를 사용하여 이미지를 그릴 수 있음"
      ],
      "metadata": {
        "id": "-R7tZfdiheR6"
      }
    },
    {
      "cell_type": "code",
      "source": [
        "import numpy as np"
      ],
      "metadata": {
        "id": "9k3KTJtNiodz"
      },
      "execution_count": 8,
      "outputs": []
    },
    {
      "cell_type": "code",
      "source": [
        "import matplotlib as mpl\n",
        "import matplotlib.pyplot as plt\n",
        "\n",
        "some_digit=X.iloc[0]\n",
        "some_digit_image=np.array(some_digit).reshape(28,28)\n",
        "\n",
        "plt.imshow(some_digit_image, cmap='binary')\n",
        "plt.axis('off')\n",
        "plt.show()"
      ],
      "metadata": {
        "colab": {
          "base_uri": "https://localhost:8080/",
          "height": 248
        },
        "id": "9WyObgiYhu3D",
        "outputId": "5a43f758-470f-4883-9c8d-3d07af447821"
      },
      "execution_count": 9,
      "outputs": [
        {
          "output_type": "display_data",
          "data": {
            "text/plain": [
              "<Figure size 432x288 with 1 Axes>"
            ],
            "image/png": "[encoded data removed]"
          },
          "metadata": {
            "needs_background": "light"
          }
        }
      ]
    },
    {
      "cell_type": "code",
      "source": [
        "y.iloc[0]\n",
        "# 이미지와 일치"
      ],
      "metadata": {
        "colab": {
          "base_uri": "https://localhost:8080/",
          "height": 35
        },
        "id": "7wbBG1Jpix-j",
        "outputId": "2ffb29d9-bf83-4141-c388-53213a89de1c"
      },
      "execution_count": 10,
      "outputs": [
        {
          "output_type": "execute_result",
          "data": {
            "text/plain": [
              "'5'"
            ],
            "application/vnd.google.colaboratory.intrinsic+json": {
              "type": "string"
            }
          },
          "metadata": {},
          "execution_count": 10
        }
      ]
    },
    {
      "cell_type": "code",
      "source": [
        "# 레이블은 문자열로 입력되어 있으므로 y를 정수로 변환\n",
        "\n",
        "y=y.astype(np.uint8)"
      ],
      "metadata": {
        "id": "z1pmdr4Qi2h7"
      },
      "execution_count": 12,
      "outputs": []
    },
    {
      "cell_type": "markdown",
      "source": [
        "! 데이터를 조사하기 전에는 항상 테스트 세트를 만들고 따로 떼어놓아야함\n",
        "- 훈련 세트는 앞쪽 60000개, 테스트 세트는 뒤쪽 10000개"
      ],
      "metadata": {
        "id": "-3CCG1rGjbpj"
      }
    },
    {
      "cell_type": "code",
      "source": [
        "X_train,X_test,y_train,y_test=X.iloc[:60000], X.iloc[60000:], y.iloc[:60000], y.iloc[60000:]"
      ],
      "metadata": {
        "id": "inp1vfL_jnPc"
      },
      "execution_count": 13,
      "outputs": []
    },
    {
      "cell_type": "markdown",
      "source": [
        "- 훈련 세트는 이미 섞여 있어서 모든 교차 검증 폴드를 비슷하게 만듬\n",
        "- 어떤 학습 알고리즘은 훈련 샘플의 순서에 민감해서 많은 비슷한 샘플이 연이어 나타나면 성능이 나빠짐\n",
        "- 데이터셋을 섞으면 이런 문제를 방지할 수 있음\n",
        "\n",
        "\n",
        "\n",
        "---\n",
        "\n",
        "##**3.2 이진 분류기 훈련**\n",
        "- 문제를 단순화하여 하나의 숫자 -> 5만 식별\n",
        "- '5'와 '5 아님' 두 개의 클래스를 구분할 수 있는 이진분류기\n"
      ],
      "metadata": {
        "id": "a8RKpKSoj00r"
      }
    },
    {
      "cell_type": "code",
      "source": [
        " #분류 작업을 위한 타깃 벡터\n",
        " y_train_5=(y_train==5)\n",
        " y_test_5=(y_test==5)"
      ],
      "metadata": {
        "id": "hlDRvNHpkqPb"
      },
      "execution_count": 14,
      "outputs": []
    },
    {
      "cell_type": "markdown",
      "source": [
        "- 사이킷런의 SGDClassifier 클래스를 사용해 확률적 경사 하강법(SGD) 분류기로 시작\n",
        "  - 매우 큰 데이터셋을 효율적으로 처리하는 장점\n",
        "  - SGD가 한 번에 하나씩 훈련 샘플을 독립적으로 처리하기 때문"
      ],
      "metadata": {
        "id": "deyn9YbEk2C0"
      }
    },
    {
      "cell_type": "code",
      "source": [
        "from sklearn.linear_model import SGDClassifier\n",
        "sgd_clf=SGDClassifier(random_state=42)\n",
        "sgd_clf.fit(X_train, y_train_5)"
      ],
      "metadata": {
        "colab": {
          "base_uri": "https://localhost:8080/",
          "height": 75
        },
        "id": "8MnQqFjylXtk",
        "outputId": "ca17e743-90e7-4321-a776-a43d7e919528"
      },
      "execution_count": 15,
      "outputs": [
        {
          "output_type": "execute_result",
          "data": {
            "text/plain": [
              "SGDClassifier(random_state=42)"
            ],
            "text/html": [
              "<style>#sk-container-id-1 {color: black;background-color: white;}#sk-container-id-1 pre{padding: 0;}#sk-container-id-1 div.sk-toggleable {background-color: white;}#sk-container-id-1 label.sk-toggleable__label {cursor: pointer;display: block;width: 100%;margin-bottom: 0;padding: 0.3em;box-sizing: border-box;text-align: center;}#sk-container-id-1 label.sk-toggleable__label-arrow:before {content: \"▸\";float: left;margin-right: 0.25em;color: #696969;}#sk-container-id-1 label.sk-toggleable__label-arrow:hover:before {color: black;}#sk-container-id-1 div.sk-estimator:hover label.sk-toggleable__label-arrow:before {color: black;}#sk-container-id-1 div.sk-toggleable__content {max-height: 0;max-width: 0;overflow: hidden;text-align: left;background-color: #f0f8ff;}#sk-container-id-1 div.sk-toggleable__content pre {margin: 0.2em;color: black;border-radius: 0.25em;background-color: #f0f8ff;}#sk-container-id-1 input.sk-toggleable__control:checked~div.sk-toggleable__content {max-height: 200px;max-width: 100%;overflow: auto;}#sk-container-id-1 input.sk-toggleable__control:checked~label.sk-toggleable__label-arrow:before {content: \"▾\";}#sk-container-id-1 div.sk-estimator input.sk-toggleable__control:checked~label.sk-toggleable__label {background-color: #d4ebff;}#sk-container-id-1 div.sk-label input.sk-toggleable__control:checked~label.sk-toggleable__label {background-color: #d4ebff;}#sk-container-id-1 input.sk-hidden--visually {border: 0;clip: rect(1px 1px 1px 1px);clip: rect(1px, 1px, 1px, 1px);height: 1px;margin: -1px;overflow: hidden;padding: 0;position: absolute;width: 1px;}#sk-container-id-1 div.sk-estimator {font-family: monospace;background-color: #f0f8ff;border: 1px dotted black;border-radius: 0.25em;box-sizing: border-box;margin-bottom: 0.5em;}#sk-container-id-1 div.sk-estimator:hover {background-color: #d4ebff;}#sk-container-id-1 div.sk-parallel-item::after {content: \"\";width: 100%;border-bottom: 1px solid gray;flex-grow: 1;}#sk-container-id-1 div.sk-label:hover label.sk-toggleable__label {background-color: #d4ebff;}#sk-container-id-1 div.sk-serial::before {content: \"\";position: absolute;border-left: 1px solid gray;box-sizing: border-box;top: 0;bottom: 0;left: 50%;z-index: 0;}#sk-container-id-1 div.sk-serial {display: flex;flex-direction: column;align-items: center;background-color: white;padding-right: 0.2em;padding-left: 0.2em;position: relative;}#sk-container-id-1 div.sk-item {position: relative;z-index: 1;}#sk-container-id-1 div.sk-parallel {display: flex;align-items: stretch;justify-content: center;background-color: white;position: relative;}#sk-container-id-1 div.sk-item::before, #sk-container-id-1 div.sk-parallel-item::before {content: \"\";position: absolute;border-left: 1px solid gray;box-sizing: border-box;top: 0;bottom: 0;left: 50%;z-index: -1;}#sk-container-id-1 div.sk-parallel-item {display: flex;flex-direction: column;z-index: 1;position: relative;background-color: white;}#sk-container-id-1 div.sk-parallel-item:first-child::after {align-self: flex-end;width: 50%;}#sk-container-id-1 div.sk-parallel-item:last-child::after {align-self: flex-start;width: 50%;}#sk-container-id-1 div.sk-parallel-item:only-child::after {width: 0;}#sk-container-id-1 div.sk-dashed-wrapped {border: 1px dashed gray;margin: 0 0.4em 0.5em 0.4em;box-sizing: border-box;padding-bottom: 0.4em;background-color: white;}#sk-container-id-1 div.sk-label label {font-family: monospace;font-weight: bold;display: inline-block;line-height: 1.2em;}#sk-container-id-1 div.sk-label-container {text-align: center;}#sk-container-id-1 div.sk-container {/* jupyter's `normalize.less` sets `[hidden] { display: none; }` but bootstrap.min.css set `[hidden] { display: none !important; }` so we also need the `!important` here to be able to override the default hidden behavior on the sphinx rendered scikit-learn.org. See: https://github.com/scikit-learn/scikit-learn/issues/21755 */display: inline-block !important;position: relative;}#sk-container-id-1 div.sk-text-repr-fallback {display: none;}</style><div id=\"sk-container-id-1\" class=\"sk-top-container\"><div class=\"sk-text-repr-fallback\"><pre>SGDClassifier(random_state=42)</pre><b>In a Jupyter environment, please rerun this cell to show the HTML representation or trust the notebook. <br />On GitHub, the HTML representation is unable to render, please try loading this page with nbviewer.org.</b></div><div class=\"sk-container\" hidden><div class=\"sk-item\"><div class=\"sk-estimator sk-toggleable\"><input class=\"sk-toggleable__control sk-hidden--visually\" id=\"sk-estimator-id-1\" type=\"checkbox\" checked><label for=\"sk-estimator-id-1\" class=\"sk-toggleable__label sk-toggleable__label-arrow\">SGDClassifier</label><div class=\"sk-toggleable__content\"><pre>SGDClassifier(random_state=42)</pre></div></div></div></div></div>"
            ]
          },
          "metadata": {},
          "execution_count": 15
        }
      ]
    },
    {
      "cell_type": "code",
      "source": [
        "sgd_clf.predict([some_digit])"
      ],
      "metadata": {
        "colab": {
          "base_uri": "https://localhost:8080/"
        },
        "id": "GLJChnK9l0Bl",
        "outputId": "fa2c473e-dce8-426d-a9b9-36c721eca83a"
      },
      "execution_count": 16,
      "outputs": [
        {
          "output_type": "stream",
          "name": "stderr",
          "text": [
            "/usr/local/lib/python3.9/dist-packages/sklearn/base.py:420: UserWarning: X does not have valid feature names, but SGDClassifier was fitted with feature names\n",
            "  warnings.warn(\n"
          ]
        },
        {
          "output_type": "execute_result",
          "data": {
            "text/plain": [
              "array([ True])"
            ]
          },
          "metadata": {},
          "execution_count": 16
        }
      ]
    },
    {
      "cell_type": "markdown",
      "source": [
        "정확하게 맞춤!\n",
        "\n",
        "---\n",
        "\n",
        "##**3.3 성능 측정**\n",
        "\n",
        "###**3.3.1 교차 검증을 사용한 정확도 측정**\n",
        "\n",
        "- 교차 검증은 모델을 평가하기 좋은 방법\n",
        "- 사이킷런이 제공하는 기능보다 교차 검증 과정을 더 많이 제어해야 할 필요가 있음\n",
        "  - 이때는 교차 검증 기능을 직접 구현\n",
        "  - 다음 코드는 사이킷런의 cross_val_score()함수와 거의 같은 작업을 수행하고 동일한 결과를 출력\n"
      ],
      "metadata": {
        "id": "fOlDdv-ql6TS"
      }
    },
    {
      "cell_type": "code",
      "source": [
        "#교차 검증 구현\n",
        "\n",
        "from sklearn.model_selection import StratifiedKFold\n",
        "from sklearn.base import clone\n",
        "\n",
        "skfolds=StratifiedKFold(n_splits=3, random_state=42, shuffle=True)\n",
        "\n",
        "for train_index, test_index in skfolds.split(X_train, y_train_5):\n",
        "  clone_clf=clone(sgd_clf)\n",
        "  X_train_folds=X_train.iloc[train_index]\n",
        "  y_train_folds=y_train_5.iloc[train_index]\n",
        "  X_test_fold=X_train.iloc[test_index]\n",
        "  y_test_fold=y_train_5.iloc[test_index]\n",
        "\n",
        "  clone_clf.fit(X_train_folds, y_train_folds)\n",
        "  y_pred=clone_clf.predict(X_test_fold)\n",
        "  n_correct=sum(y_pred==y_test_fold)\n",
        "  print(n_correct/len(y_pred))"
      ],
      "metadata": {
        "colab": {
          "base_uri": "https://localhost:8080/"
        },
        "id": "mj5lIlZanJPs",
        "outputId": "4eb5eba1-39cf-4836-85b4-9bc99c831f53"
      },
      "execution_count": 21,
      "outputs": [
        {
          "output_type": "stream",
          "name": "stdout",
          "text": [
            "0.9669\n",
            "0.91625\n",
            "0.96785\n"
          ]
        }
      ]
    },
    {
      "cell_type": "markdown",
      "source": [
        "- cross_val_score() 함수로 폴드가 3개인 k-겹 교차 검증을 통해 SGDClassifier 모델을 평가\n",
        "  - k-겹 교차 검증은 훈련세트를 k개의 폴드로 나누고, 각 폴드에 대해 예측을 만들고 평가하기 위해 나머지 폴드로 훈련시킨 모델을 사용한다"
      ],
      "metadata": {
        "id": "6pQ7jn-Npga1"
      }
    },
    {
      "cell_type": "code",
      "source": [
        "from sklearn.model_selection import cross_val_score\n",
        "cross_val_score(sgd_clf, X_train, y_train_5, cv=3, scoring='accuracy')"
      ],
      "metadata": {
        "colab": {
          "base_uri": "https://localhost:8080/"
        },
        "id": "9NGi4HGjpxKN",
        "outputId": "58f0796a-9aa3-494e-c8e4-d55d97faef6b"
      },
      "execution_count": 22,
      "outputs": [
        {
          "output_type": "execute_result",
          "data": {
            "text/plain": [
              "array([0.95035, 0.96035, 0.9604 ])"
            ]
          },
          "metadata": {},
          "execution_count": 22
        }
      ]
    },
    {
      "cell_type": "markdown",
      "source": [
        "- 모든 이미지를 '5 아님' 클래스로 분류하는 더미 분류기를 만들어 비교"
      ],
      "metadata": {
        "id": "cBK7DSfyqE5t"
      }
    },
    {
      "cell_type": "code",
      "source": [
        "from sklearn.base import BaseEstimator\n",
        "\n",
        "class Never5Classifier(BaseEstimator):\n",
        "  def fit(self, X, y=None):\n",
        "    return self\n",
        "  def predict(self,X):\n",
        "    return np.zeros((len(X),1), dtype=bool)"
      ],
      "metadata": {
        "id": "P_5HWi2PqNOs"
      },
      "execution_count": 23,
      "outputs": []
    },
    {
      "cell_type": "code",
      "source": [
        "never_5_clf=Never5Classifier()\n",
        "cross_val_score(never_5_clf, X_train, y_train_5, cv=3, scoring='accuracy')"
      ],
      "metadata": {
        "colab": {
          "base_uri": "https://localhost:8080/"
        },
        "id": "1tp0QoPVqyad",
        "outputId": "83ce8865-d5ee-4a02-d5b2-d160cc0949cf"
      },
      "execution_count": 24,
      "outputs": [
        {
          "output_type": "execute_result",
          "data": {
            "text/plain": [
              "array([0.91125, 0.90855, 0.90915])"
            ]
          },
          "metadata": {},
          "execution_count": 24
        }
      ]
    },
    {
      "cell_type": "markdown",
      "source": [
        "이렇게 해도 90% 이상의 정확도\n",
        "- 정확도를 분류기의 성능 측정 지표로 선호하지 않는 이유를 보여줌\n",
        "- 특히 불균형한 데이터셋을 다룰 때 더욱 그럼\n",
        "\n",
        "###**3.3.2 오차 행렬**\n",
        "- 분류기의 성능을 평가하는 더 좋은 방법은 오차 행렬을 조사하는 것\n",
        "- 오차 행렬을 만들려면 실제 타깃과 비교할 수 있도록 먼저 예측값을 만들어야 함\n",
        " - 테스트 세트를 사용하면 안됨\n",
        " - 대신 corss_val_predict() 함수를 사용\n",
        "\n",
        " "
      ],
      "metadata": {
        "id": "bN5HXkbXrhZG"
      }
    },
    {
      "cell_type": "code",
      "source": [
        "from sklearn.model_selection import cross_val_predict\n",
        "\n",
        "y_train_pred=cross_val_predict(sgd_clf, X_train, y_train_5, cv=3)"
      ],
      "metadata": {
        "id": "UaiP5JqlsFC9"
      },
      "execution_count": 26,
      "outputs": []
    },
    {
      "cell_type": "markdown",
      "source": [
        "cross_val_predict() 함수는 k-겹 교차 검증을 수행하지만 평가 점수를 반환하지 않고 각 테스트 폴드에서 얻은 예측을 반환\n",
        "\n",
        "\n",
        "\n",
        "---\n",
        "- confusion_matrix() 함수를 사용해 오차 행렬을 만들기\n",
        "- 타깃 클래스(y_train_5)와 예측 클래스(y_train_pred)를 넣고 호출"
      ],
      "metadata": {
        "id": "BzOJrgEOsect"
      }
    },
    {
      "cell_type": "code",
      "source": [
        "from sklearn.metrics import confusion_matrix\n",
        "confusion_matrix(y_train_5, y_train_pred)"
      ],
      "metadata": {
        "colab": {
          "base_uri": "https://localhost:8080/"
        },
        "id": "h4zSFgbisxU0",
        "outputId": "9f8739f7-9430-488f-95b3-f7e11209b88f"
      },
      "execution_count": 27,
      "outputs": [
        {
          "output_type": "execute_result",
          "data": {
            "text/plain": [
              "array([[53892,   687],\n",
              "       [ 1891,  3530]])"
            ]
          },
          "metadata": {},
          "execution_count": 27
        }
      ]
    },
    {
      "cell_type": "markdown",
      "source": [
        "- 행은 실제 클래스\n",
        "- 열은 예측한 클래스\n",
        "- 완벽한 분류기는 주대각선만 0이 아닌 값\n",
        "  - 진짜 음성: 53892\n",
        "  - 거짓 양성: 687\n",
        "  - 거짓 음성: 1891\n",
        "  - 진짜 양성: 3530\n"
      ],
      "metadata": {
        "id": "zKzHiC09tFFs"
      }
    },
    {
      "cell_type": "code",
      "source": [
        "confusion_matrix(y_train_5, y_train_5)"
      ],
      "metadata": {
        "colab": {
          "base_uri": "https://localhost:8080/"
        },
        "id": "x9WNw3hUtdT9",
        "outputId": "d8164f01-99f2-4f88-d223-500753c93b65"
      },
      "execution_count": 28,
      "outputs": [
        {
          "output_type": "execute_result",
          "data": {
            "text/plain": [
              "array([[54579,     0],\n",
              "       [    0,  5421]])"
            ]
          },
          "metadata": {},
          "execution_count": 28
        }
      ]
    },
    {
      "cell_type": "markdown",
      "source": [
        "**정밀도**\n",
        "\n",
        "- TP: 진짜 양성\n",
        "- FP: 거짓 양성"
      ],
      "metadata": {
        "id": "1e0ZyViBtiD1"
      }
    },
    {
      "cell_type": "markdown",
      "source": [
        "![image.png](data:image/png;base64,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)"
      ],
      "metadata": {
        "id": "yO_fFt2utqfW"
      }
    },
    {
      "cell_type": "markdown",
      "source": [
        "**재현율**\n",
        "- 민감도 또는 진짜 양성 비율이라고도 부름\n",
        "- FN: 거짓 음성\n"
      ],
      "metadata": {
        "id": "MihI0MuJtrfl"
      }
    },
    {
      "cell_type": "markdown",
      "source": [
        "![image.png](data:image/png;base64,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)"
      ],
      "metadata": {
        "id": "a5uD8kETuIHV"
      }
    },
    {
      "cell_type": "markdown",
      "source": [
        "###**3.3.3 정밀도와 재현율**\n",
        "- 사이킷런은 정밀도와 재현율을 포함하여 분류기의 지표를 계산하는 여러 함수를 제공"
      ],
      "metadata": {
        "id": "Rqq1Fsp_uIxl"
      }
    },
    {
      "cell_type": "code",
      "source": [
        "from sklearn.metrics import precision_score, recall_score\n",
        "precision_score(y_train_5, y_train_pred)"
      ],
      "metadata": {
        "colab": {
          "base_uri": "https://localhost:8080/"
        },
        "id": "78DkRyl5ugHG",
        "outputId": "b8914482-2075-43dd-8df5-1c14373e7a54"
      },
      "execution_count": 29,
      "outputs": [
        {
          "output_type": "execute_result",
          "data": {
            "text/plain": [
              "0.8370879772350012"
            ]
          },
          "metadata": {},
          "execution_count": 29
        }
      ]
    },
    {
      "cell_type": "code",
      "source": [
        "recall_score(y_train_5, y_train_pred)"
      ],
      "metadata": {
        "colab": {
          "base_uri": "https://localhost:8080/"
        },
        "id": "zf_WXWHru3aV",
        "outputId": "48cb7cb4-cdac-4aa3-d3c4-cd6ef9f8bacf"
      },
      "execution_count": 30,
      "outputs": [
        {
          "output_type": "execute_result",
          "data": {
            "text/plain": [
              "0.6511713705958311"
            ]
          },
          "metadata": {},
          "execution_count": 30
        }
      ]
    },
    {
      "cell_type": "markdown",
      "source": [
        "- 정밀도와 재현율을 F1 점수라고 하는 하나의 숫자로 만들면 편리\n",
        "\n",
        "**F1 점수**\n",
        "\n"
      ],
      "metadata": {
        "id": "3us39yiGu_Nt"
      }
    },
    {
      "cell_type": "markdown",
      "source": [
        "![image.png](data:image/png;base64,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)"
      ],
      "metadata": {
        "id": "CuYnoUhLvNH2"
      }
    },
    {
      "cell_type": "markdown",
      "source": [
        "F1 점수를 계산하려면 f1_score() 함수를 호출"
      ],
      "metadata": {
        "id": "tvHqV2EYvNsG"
      }
    },
    {
      "cell_type": "code",
      "source": [
        "from sklearn.metrics import f1_score\n",
        "f1_score(y_train_5, y_train_pred)"
      ],
      "metadata": {
        "colab": {
          "base_uri": "https://localhost:8080/"
        },
        "id": "CY4b6IwkvT6l",
        "outputId": "fe97e38c-5b65-4e19-d0c8-609bcfd8e240"
      },
      "execution_count": 31,
      "outputs": [
        {
          "output_type": "execute_result",
          "data": {
            "text/plain": [
              "0.7325171197343846"
            ]
          },
          "metadata": {},
          "execution_count": 31
        }
      ]
    },
    {
      "cell_type": "markdown",
      "source": [
        "- 정밀도와 재현율이 비슷한 분류기에서는 F1 점수가 높음\n",
        "- 하지만 이것이 바람직한 것은 아님\n",
        "  - 상황에 따라 정밀도가 중요할 수 있고 재현율이 중요할 수 있음\n",
        "- 정밀도를 올리면 재현율이 줄고 그 반대도 마찬가지: 정밀도/재현율 트레이드 오프\n",
        "\n",
        "\n",
        "\n",
        "---\n",
        "###**3.3.4 정밀도/재현율 트레이드오프**\n",
        "\n",
        "SGDClassifier가 분류를 결정하는 방법을 통해 트레이드 오프 이해\n",
        "- 결정 함수를 사용하여 각 샘플의 점수를 계산\n",
        "- 이때 낮은 점수부터 높은 점수까지 나열했을 때, 결정 임곗값에 따라 정밀도와 재현율이 달라짐\n",
        "  - 임곗값을 올리면 재현율이 낮아지고 정밀도가 높아짐\n",
        "  - 임곗값을 줄이면 재현율이 높아지고 정밀도가 줄어듬\n",
        "\n",
        "\n",
        "- 사이킷런에서 임곗값을 직접 지정할 수 없지만 예측에 사용한 점수는 확인 가능\n",
        "  - decision_function() 메서드를 호출하면 각 샘플의 점수를 얻을 수 있음"
      ],
      "metadata": {
        "id": "K2ruivkwvjOO"
      }
    },
    {
      "cell_type": "code",
      "source": [
        "y_scores=sgd_clf.decision_function([some_digit])\n",
        "y_scores"
      ],
      "metadata": {
        "colab": {
          "base_uri": "https://localhost:8080/"
        },
        "id": "sxbmHnon0Tz5",
        "outputId": "d925be29-0a88-48f4-8d45-64202702b640"
      },
      "execution_count": 32,
      "outputs": [
        {
          "output_type": "stream",
          "name": "stderr",
          "text": [
            "/usr/local/lib/python3.9/dist-packages/sklearn/base.py:420: UserWarning: X does not have valid feature names, but SGDClassifier was fitted with feature names\n",
            "  warnings.warn(\n"
          ]
        },
        {
          "output_type": "execute_result",
          "data": {
            "text/plain": [
              "array([2164.22030239])"
            ]
          },
          "metadata": {},
          "execution_count": 32
        }
      ]
    },
    {
      "cell_type": "code",
      "source": [
        "#임곗값 0\n",
        "threshold=0\n",
        "y_some_digit_pred=(y_scores>threshold)\n",
        "y_some_digit_pred"
      ],
      "metadata": {
        "colab": {
          "base_uri": "https://localhost:8080/"
        },
        "id": "ddhuri6m0Y-j",
        "outputId": "73e86865-a8d7-44da-a055-1ff513eff3fe"
      },
      "execution_count": 35,
      "outputs": [
        {
          "output_type": "execute_result",
          "data": {
            "text/plain": [
              "array([ True])"
            ]
          },
          "metadata": {},
          "execution_count": 35
        }
      ]
    },
    {
      "cell_type": "code",
      "source": [
        "#임곗값 8000\n",
        "threshold=8000\n",
        "y_some_digit_pred=(y_scores>threshold)\n",
        "y_some_digit_pred"
      ],
      "metadata": {
        "colab": {
          "base_uri": "https://localhost:8080/"
        },
        "id": "J1GRlENR0r5J",
        "outputId": "de080189-aa51-4f73-cea8-bf1d4fbfdf6f"
      },
      "execution_count": 36,
      "outputs": [
        {
          "output_type": "execute_result",
          "data": {
            "text/plain": [
              "array([False])"
            ]
          },
          "metadata": {},
          "execution_count": 36
        }
      ]
    },
    {
      "cell_type": "markdown",
      "source": [
        "이처럼 임곗값에 따라 결과가 달라짐\n",
        "\n",
        "---\n",
        "\n",
        "\n",
        "**적절한 임곗값을 구하는 방법**\n",
        "- 먼저 cross_val_predict() 함수를 사용하여 훈련 세트에 있는 모든 샘플의 점수를 구해야 함"
      ],
      "metadata": {
        "id": "DAww_uH2v-Oe"
      }
    },
    {
      "cell_type": "code",
      "source": [
        "y_scores=cross_val_predict(sgd_clf, X_train,y_train_5, cv=3, method='decision_function')"
      ],
      "metadata": {
        "id": "0xz-NxVd1DOp"
      },
      "execution_count": 37,
      "outputs": []
    },
    {
      "cell_type": "markdown",
      "source": [
        "  - 이 점수를 사용하여 가능한 모든 임곗값에 대해 정밀도와 재현율 계산\n",
        "   - precision_recall_curve() 함수를 사용"
      ],
      "metadata": {
        "id": "eFzyHp041Owz"
      }
    },
    {
      "cell_type": "code",
      "source": [
        "from sklearn.metrics import precision_recall_curve\n",
        "\n",
        "precisions, recalls, thresholds = precision_recall_curve(y_train_5, y_scores)"
      ],
      "metadata": {
        "id": "l09hCpYw1XJ5"
      },
      "execution_count": 39,
      "outputs": []
    },
    {
      "cell_type": "code",
      "source": [
        "def plot_precision_recall_vs_threshold(precisions, recalls, thresholds):\n",
        "  plt.plot(thresholds, precisions[:-1], 'b--', label='정밀도')\n",
        "  plt.plot(thresholds, recalls[:-1], 'g--', label='재현율')\n",
        "  [...]\n",
        "\n",
        "plot_precision_recall_vs_threshold(precisions, recalls, thresholds)\n",
        "plt.show()"
      ],
      "metadata": {
        "colab": {
          "base_uri": "https://localhost:8080/",
          "height": 265
        },
        "id": "0uumC9tF17RR",
        "outputId": "3114ff26-314c-4351-ea03-02ed9b2e61e9"
      },
      "execution_count": 41,
      "outputs": [
        {
          "output_type": "display_data",
          "data": {
            "text/plain": [
              "<Figure size 432x288 with 1 Axes>"
            ],
            "image/png": "[encoded data removed]"
          },
          "metadata": {
            "needs_background": "light"
          }
        }
      ]
    },
    {
      "cell_type": "markdown",
      "source": [
        "**좋은 정밀도/재현율 트레이드 오프를 선택하는 다른 방법**\n",
        "- 재현율에 대한 정밀도 곡선 그리기"
      ],
      "metadata": {
        "id": "zYaP2W0U2jS6"
      }
    },
    {
      "cell_type": "code",
      "source": [
        "plt.plot(recalls[:-1], precisions[:-1], 'b--')"
      ],
      "metadata": {
        "colab": {
          "base_uri": "https://localhost:8080/",
          "height": 282
        },
        "id": "Po1bJpPo2jEs",
        "outputId": "361da71e-699f-4383-b934-b089ce7434f2"
      },
      "execution_count": 42,
      "outputs": [
        {
          "output_type": "execute_result",
          "data": {
            "text/plain": [
              "[<matplotlib.lines.Line2D at 0x7fa5474ac550>]"
            ]
          },
          "metadata": {},
          "execution_count": 42
        },
        {
          "output_type": "display_data",
          "data": {
            "text/plain": [
              "<Figure size 432x288 with 1 Axes>"
            ],
            "image/png": "[encoded data removed]"
          },
          "metadata": {
            "needs_background": "light"
          }
        }
      ]
    },
    {
      "cell_type": "markdown",
      "source": [
        "재현율 80% 근처에서 정밀도가 급격하게 줄어들기 시작\n",
        "- 이 하강점 직전을 정밀도/재현율 트레이드오프로 선택하는 것이 좋음\n",
        "  - 이는 프로젝트에 따라 선택이 달라질 수 있음\n",
        "\n",
        "ex) 정밀도 90%를 달성하는 것이 목표\n",
        "-> 최소한 90% 정밀도가 되는 가장 낮은 임곗값을 찾을 수 있음"
      ],
      "metadata": {
        "id": "sXegrgBC22Y6"
      }
    },
    {
      "cell_type": "code",
      "source": [
        "#np.argmax는 최댓값의 첫 번째 인덱스를 반환\n",
        "threshold_90_precision=thresholds[np.argmax(precisions>= 0.90)]"
      ],
      "metadata": {
        "id": "DCXir5Vt3Wzx"
      },
      "execution_count": 43,
      "outputs": []
    },
    {
      "cell_type": "code",
      "source": [
        "y_train_pred_90=(y_scores >= threshold_90_precision)\n",
        "\n",
        "precision_score(y_train_5, y_train_pred_90)"
      ],
      "metadata": {
        "colab": {
          "base_uri": "https://localhost:8080/"
        },
        "id": "1cAZiI_43m9a",
        "outputId": "b2e0568d-8d96-4d6c-8cf6-dbd25ea84c79"
      },
      "execution_count": 44,
      "outputs": [
        {
          "output_type": "execute_result",
          "data": {
            "text/plain": [
              "0.9000345901072293"
            ]
          },
          "metadata": {},
          "execution_count": 44
        }
      ]
    },
    {
      "cell_type": "code",
      "source": [
        "recall_score(y_train_5, y_train_pred_90)"
      ],
      "metadata": {
        "colab": {
          "base_uri": "https://localhost:8080/"
        },
        "id": "2GFDWFm73xiB",
        "outputId": "8f2368ef-2d87-4842-9571-bed1543af541"
      },
      "execution_count": 45,
      "outputs": [
        {
          "output_type": "execute_result",
          "data": {
            "text/plain": [
              "0.4799852425751706"
            ]
          },
          "metadata": {},
          "execution_count": 45
        }
      ]
    },
    {
      "cell_type": "markdown",
      "source": [
        "###**3.3.5 ROC 곡선**\n",
        "- 수신기 조작 특성(ROC) 곡선: 이진 분류에서 널리 사용\n",
        "- 거짓 양성 비율(FPR)에 대한 진짜 양성 비율(TPR)의 곡선\n",
        "- TPR=1-TNR(진짜 음성 비율, 특이도)"
      ],
      "metadata": {
        "id": "IRdq1qsD31qi"
      }
    },
    {
      "cell_type": "markdown",
      "source": [
        "![image.png](data:image/png;base64,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)"
      ],
      "metadata": {
        "id": "nQqZBToH4f37"
      }
    },
    {
      "cell_type": "code",
      "source": [
        "from sklearn.metrics import roc_curve\n",
        "\n",
        "fpr, tpr, thresholds=roc_curve(y_train_5, y_scores)"
      ],
      "metadata": {
        "id": "lkRPTYXf4jHa"
      },
      "execution_count": 46,
      "outputs": []
    },
    {
      "cell_type": "code",
      "source": [
        "def plot_roc_curve(fpr, tpr, label=None):\n",
        "  plt.plot(fpr, tpr, linewidth=2, label=label)\n",
        "  plt.plot([0,1],[0,1],'k--')\n",
        "  [...]\n",
        "\n",
        "plot_roc_curve(fpr, tpr)\n",
        "plt.show()"
      ],
      "metadata": {
        "colab": {
          "base_uri": "https://localhost:8080/",
          "height": 265
        },
        "id": "CUfDwG9V42-z",
        "outputId": "78199b16-cd9b-49d8-e5b7-05f2d3652bb1"
      },
      "execution_count": 48,
      "outputs": [
        {
          "output_type": "display_data",
          "data": {
            "text/plain": [
              "<Figure size 432x288 with 1 Axes>"
            ],
            "image/png": "[encoded data removed]"
          },
          "metadata": {
            "needs_background": "light"
          }
        }
      ]
    },
    {
      "cell_type": "markdown",
      "source": [
        "- 재현율이 높을수록 분류기를 만드는 거짓 양성이 늘어남\n",
        "- 점선은 완전한 랜덤 분류기의 ROC 곡선\n",
        "  - 좋은 분류기는 이 점선에서 최대한 멀리 떨어져야 함\n",
        "\n",
        "- 곡선 아래의 면적(AUC)를 측정하면 분류기들을 비교할 수 있음\n"
      ],
      "metadata": {
        "id": "4fZyy0N65QeD"
      }
    },
    {
      "cell_type": "code",
      "source": [
        "from sklearn.metrics import roc_auc_score\n",
        "roc_auc_score(y_train_5, y_scores)"
      ],
      "metadata": {
        "colab": {
          "base_uri": "https://localhost:8080/"
        },
        "id": "6wjU1Xt25cl0",
        "outputId": "3102f55b-dcea-4972-9472-ed0876569ad8"
      },
      "execution_count": 49,
      "outputs": [
        {
          "output_type": "execute_result",
          "data": {
            "text/plain": [
              "0.9604938554008616"
            ]
          },
          "metadata": {},
          "execution_count": 49
        }
      ]
    },
    {
      "cell_type": "markdown",
      "source": [
        "- RandomForestClassifier를 훈련시켜 SGDClassifier의 ROC 곡선과 ROC AUC 점수를 비교\n",
        "- 훈련 세트의 샘플에 대한 점수: RandomForestClassifier는 predict_proba( ) 메서드를 사용\n"
      ],
      "metadata": {
        "id": "Bj33C1GD4hs6"
      }
    },
    {
      "cell_type": "code",
      "source": [
        "from sklearn.ensemble import RandomForestClassifier\n",
        "\n",
        "forest_clf=RandomForestClassifier(random_state=42)\n",
        "y_probas_forest=cross_val_predict(forest_clf,X_train,y_train_5, cv=3, method='predict_proba')"
      ],
      "metadata": {
        "id": "wHB-2_Wc53Kx"
      },
      "execution_count": 51,
      "outputs": []
    },
    {
      "cell_type": "code",
      "source": [
        "#roc_curve 함수는 레이블과 점수를 기대, 하지만 점수 대신에 클래스 확률을 전달할 수 있음\n",
        "y_scores_forest=y_probas_forest[:,1]\n",
        "fpr_forest,tpr_forest,thresholds_forest=roc_curve(y_train_5, y_scores_forest)"
      ],
      "metadata": {
        "id": "VloPdU2Y6IHq"
      },
      "execution_count": 52,
      "outputs": []
    },
    {
      "cell_type": "code",
      "source": [
        "plt.plot(fpr, tpr, 'b:', label='SGD')\n",
        "plot_roc_curve(fpr_forest, tpr_forest,'랜덤 포레스트')\n",
        "plt.legend(loc='lower right')\n",
        "plt.show()"
      ],
      "metadata": {
        "colab": {
          "base_uri": "https://localhost:8080/",
          "height": 265
        },
        "id": "dhLEBSGc6cYa",
        "outputId": "97e63371-c22e-4550-c5b4-5645c80baee9"
      },
      "execution_count": 54,
      "outputs": [
        {
          "output_type": "display_data",
          "data": {
            "text/plain": [
              "<Figure size 432x288 with 1 Axes>"
            ],
            "image/png": "[encoded data removed]"
          },
          "metadata": {
            "needs_background": "light"
          }
        }
      ]
    },
    {
      "cell_type": "markdown",
      "source": [
        "RandomForestClassifier의 ROC 곡선이 왼쪽 위 모서리에 더 가까워 SGDClassifier보다 훨씬 좋아 보임\n"
      ],
      "metadata": {
        "id": "fKq_nDIf6uPr"
      }
    },
    {
      "cell_type": "code",
      "source": [
        "roc_auc_score(y_train_5, y_scores_forest)"
      ],
      "metadata": {
        "colab": {
          "base_uri": "https://localhost:8080/"
        },
        "id": "j_So7pqK61La",
        "outputId": "6a03727c-44fa-48d3-f06f-8ef76c73b759"
      },
      "execution_count": 55,
      "outputs": [
        {
          "output_type": "execute_result",
          "data": {
            "text/plain": [
              "0.9983436731328145"
            ]
          },
          "metadata": {},
          "execution_count": 55
        }
      ]
    },
    {
      "cell_type": "markdown",
      "source": [
        "##**3.4 다중 분류**\n",
        "- 다중 분류기(다항 분류기)는 둘 이상의 클래스를 구별\n",
        "- SGD, 랜덤 포레스트, 나이브 베이즈: 여러 개의 클래스를 직접 처리\n",
        "- 로지스틱 회귀, 서포트 벡터 머신: 이진 분류만 가능\n",
        "  - 이진 분류기를 여러 개 사용해 다중 클래스를 분류하는 기법도 많음\n",
        "  - **OvR(OvA)**: 이미지를 분류할 때 각 분류기의 결정 점수 중에서 가장 높은 것을 클래스로 선택\n",
        "  - **OvO**: 0과 1 구별, 0과 2 구별, 1과 2 구별과 같은 각 숫자 조합마다 이진 분류기를 훈련\n",
        "  - 다중 클래스 부뉼 작업에 이진 분류 알고리즘을 선택하면 사이킷런이 알고리즘에 따라 자동으로 OvR 또는 OvO를 실행\n"
      ],
      "metadata": {
        "id": "NSNKM97Z65a6"
      }
    },
    {
      "cell_type": "code",
      "source": [
        "from sklearn.svm import SVC\n",
        "svm_clf=SVC()\n",
        "svm_clf.fit(X_train, y_train)\n",
        "svm_clf.predict([some_digit])"
      ],
      "metadata": {
        "colab": {
          "base_uri": "https://localhost:8080/"
        },
        "id": "pKaGpmn97_Rz",
        "outputId": "781da5e1-fe4a-4c35-cce1-05ec3680755d"
      },
      "execution_count": 57,
      "outputs": [
        {
          "output_type": "stream",
          "name": "stderr",
          "text": [
            "/usr/local/lib/python3.9/dist-packages/sklearn/base.py:420: UserWarning: X does not have valid feature names, but SVC was fitted with feature names\n",
            "  warnings.warn(\n"
          ]
        },
        {
          "output_type": "execute_result",
          "data": {
            "text/plain": [
              "array([5], dtype=uint8)"
            ]
          },
          "metadata": {},
          "execution_count": 57
        }
      ]
    },
    {
      "cell_type": "markdown",
      "source": [
        "- 위 코드는 5를 구별한 타깃 클래스 대신 0에서 9까지의 원래 타깃 클래스를 사용해 SVC를 훈련\n",
        "- 그런 다음 예측 하나를 만듬\n",
        "- 내부에서는 사이킷런이 OvO 전략을 사용해 10개의 이진 분류기를 훈련시키고 각각의 결정 점수를 얻어 점수가 가장 높은 클래스 선택\n",
        "  - decision_function() 메서드를 호출하면 샘플당 10개의 점수 반환"
      ],
      "metadata": {
        "id": "d5d9CZcR8cGq"
      }
    },
    {
      "cell_type": "code",
      "source": [
        "some_digit_scores=svm_clf.decision_function([some_digit])\n",
        "some_digit_scores"
      ],
      "metadata": {
        "colab": {
          "base_uri": "https://localhost:8080/"
        },
        "id": "rqjL-o5y8voi",
        "outputId": "0cc487a6-27c6-4782-8c0d-73460f1c2527"
      },
      "execution_count": 58,
      "outputs": [
        {
          "output_type": "stream",
          "name": "stderr",
          "text": [
            "/usr/local/lib/python3.9/dist-packages/sklearn/base.py:420: UserWarning: X does not have valid feature names, but SVC was fitted with feature names\n",
            "  warnings.warn(\n"
          ]
        },
        {
          "output_type": "execute_result",
          "data": {
            "text/plain": [
              "array([[ 1.72501977,  2.72809088,  7.2510018 ,  8.3076379 , -0.31087254,\n",
              "         9.3132482 ,  1.70975103,  2.76765202,  6.23049537,  4.84771048]])"
            ]
          },
          "metadata": {},
          "execution_count": 58
        }
      ]
    },
    {
      "cell_type": "code",
      "source": [
        "np.argmax(some_digit_scores)"
      ],
      "metadata": {
        "colab": {
          "base_uri": "https://localhost:8080/"
        },
        "id": "NfB1nsMb8156",
        "outputId": "06c05562-7977-4c71-bd8d-30abec9c8e02"
      },
      "execution_count": 59,
      "outputs": [
        {
          "output_type": "execute_result",
          "data": {
            "text/plain": [
              "5"
            ]
          },
          "metadata": {},
          "execution_count": 59
        }
      ]
    },
    {
      "cell_type": "code",
      "source": [
        "svm_clf.classes_"
      ],
      "metadata": {
        "colab": {
          "base_uri": "https://localhost:8080/"
        },
        "id": "2PyDVZc685M6",
        "outputId": "bfefcb75-f003-452d-dfd7-461d2f7f78a7"
      },
      "execution_count": 60,
      "outputs": [
        {
          "output_type": "execute_result",
          "data": {
            "text/plain": [
              "array([0, 1, 2, 3, 4, 5, 6, 7, 8, 9], dtype=uint8)"
            ]
          },
          "metadata": {},
          "execution_count": 60
        }
      ]
    },
    {
      "cell_type": "code",
      "source": [
        "svm_clf.classes_[5]"
      ],
      "metadata": {
        "colab": {
          "base_uri": "https://localhost:8080/"
        },
        "id": "FvORMy2g89ab",
        "outputId": "7debc400-6c0b-4b42-a4ec-a13907431908"
      },
      "execution_count": 61,
      "outputs": [
        {
          "output_type": "execute_result",
          "data": {
            "text/plain": [
              "5"
            ]
          },
          "metadata": {},
          "execution_count": 61
        }
      ]
    },
    {
      "cell_type": "markdown",
      "source": [
        "- 사이킷런에서 OvO나 OvR을 사용하도록 강제하려면 OneVsOneClassifier나 OneVsRestClassifier를 사용\n"
      ],
      "metadata": {
        "id": "UX2FV3BQ9A78"
      }
    },
    {
      "cell_type": "code",
      "source": [
        "from sklearn.multiclass import OneVsRestClassifier\n",
        "ovr_clf=OneVsRestClassifier(SVC())\n",
        "ovr_clf.fit(X_train,y_train)\n",
        "ovr_clf.predict([some_digit])"
      ],
      "metadata": {
        "colab": {
          "base_uri": "https://localhost:8080/"
        },
        "id": "jKcm_i7d9I6b",
        "outputId": "0e3c5a17-12e6-4be6-c5dc-2da78af0c163"
      },
      "execution_count": 62,
      "outputs": [
        {
          "output_type": "stream",
          "name": "stderr",
          "text": [
            "/usr/local/lib/python3.9/dist-packages/sklearn/base.py:420: UserWarning: X does not have valid feature names, but SVC was fitted with feature names\n",
            "  warnings.warn(\n",
            "/usr/local/lib/python3.9/dist-packages/sklearn/base.py:420: UserWarning: X does not have valid feature names, but SVC was fitted with feature names\n",
            "  warnings.warn(\n",
            "/usr/local/lib/python3.9/dist-packages/sklearn/base.py:420: UserWarning: X does not have valid feature names, but SVC was fitted with feature names\n",
            "  warnings.warn(\n",
            "/usr/local/lib/python3.9/dist-packages/sklearn/base.py:420: UserWarning: X does not have valid feature names, but SVC was fitted with feature names\n",
            "  warnings.warn(\n",
            "/usr/local/lib/python3.9/dist-packages/sklearn/base.py:420: UserWarning: X does not have valid feature names, but SVC was fitted with feature names\n",
            "  warnings.warn(\n",
            "/usr/local/lib/python3.9/dist-packages/sklearn/base.py:420: UserWarning: X does not have valid feature names, but SVC was fitted with feature names\n",
            "  warnings.warn(\n",
            "/usr/local/lib/python3.9/dist-packages/sklearn/base.py:420: UserWarning: X does not have valid feature names, but SVC was fitted with feature names\n",
            "  warnings.warn(\n",
            "/usr/local/lib/python3.9/dist-packages/sklearn/base.py:420: UserWarning: X does not have valid feature names, but SVC was fitted with feature names\n",
            "  warnings.warn(\n",
            "/usr/local/lib/python3.9/dist-packages/sklearn/base.py:420: UserWarning: X does not have valid feature names, but SVC was fitted with feature names\n",
            "  warnings.warn(\n",
            "/usr/local/lib/python3.9/dist-packages/sklearn/base.py:420: UserWarning: X does not have valid feature names, but SVC was fitted with feature names\n",
            "  warnings.warn(\n"
          ]
        },
        {
          "output_type": "execute_result",
          "data": {
            "text/plain": [
              "array([5], dtype=uint8)"
            ]
          },
          "metadata": {},
          "execution_count": 62
        }
      ]
    },
    {
      "cell_type": "code",
      "source": [
        "len(ovr_clf.estimators_)"
      ],
      "metadata": {
        "colab": {
          "base_uri": "https://localhost:8080/"
        },
        "id": "rpALrt2w9YNy",
        "outputId": "4d34216b-782b-470f-f9a2-698ba74c7bda"
      },
      "execution_count": 63,
      "outputs": [
        {
          "output_type": "execute_result",
          "data": {
            "text/plain": [
              "10"
            ]
          },
          "metadata": {},
          "execution_count": 63
        }
      ]
    },
    {
      "cell_type": "markdown",
      "source": [
        "SGD 또는 랜덤포레스트는 직접 다중 클래스로 분류할 수 있기 때문에 별도의 사이킷런의 OvR이나 OvO가 필요하지 않음"
      ],
      "metadata": {
        "id": "zM1K-pB29gNh"
      }
    },
    {
      "cell_type": "code",
      "source": [
        "sgd_clf.fit(X_train,y_train)\n",
        "sgd_clf.predict([some_digit])"
      ],
      "metadata": {
        "colab": {
          "base_uri": "https://localhost:8080/"
        },
        "id": "sAixLs6U9nf0",
        "outputId": "8e32d1e3-1c56-4247-cefc-29def25c4561"
      },
      "execution_count": 64,
      "outputs": [
        {
          "output_type": "stream",
          "name": "stderr",
          "text": [
            "/usr/local/lib/python3.9/dist-packages/sklearn/base.py:420: UserWarning: X does not have valid feature names, but SGDClassifier was fitted with feature names\n",
            "  warnings.warn(\n"
          ]
        },
        {
          "output_type": "execute_result",
          "data": {
            "text/plain": [
              "array([3], dtype=uint8)"
            ]
          },
          "metadata": {},
          "execution_count": 64
        }
      ]
    },
    {
      "cell_type": "code",
      "source": [
        "# 클래스마다 부여한 점수 확인\n",
        "sgd_clf.decision_function([some_digit])"
      ],
      "metadata": {
        "colab": {
          "base_uri": "https://localhost:8080/"
        },
        "id": "TGEbMUv99vR7",
        "outputId": "bfcb59e9-f9b1-49e0-cd05-35fb2488eb6f"
      },
      "execution_count": 65,
      "outputs": [
        {
          "output_type": "stream",
          "name": "stderr",
          "text": [
            "/usr/local/lib/python3.9/dist-packages/sklearn/base.py:420: UserWarning: X does not have valid feature names, but SGDClassifier was fitted with feature names\n",
            "  warnings.warn(\n"
          ]
        },
        {
          "output_type": "execute_result",
          "data": {
            "text/plain": [
              "array([[-31893.03095419, -34419.69069632,  -9530.63950739,\n",
              "          1823.73154031, -22320.14822878,  -1385.80478895,\n",
              "        -26188.91070951, -16147.51323997,  -4604.35491274,\n",
              "        -12050.767298  ]])"
            ]
          },
          "metadata": {},
          "execution_count": 65
        }
      ]
    },
    {
      "cell_type": "markdown",
      "source": [
        "- 결과에서 분류기가 예측 결과에 대한 강한 확신을 보이고 있음을 알 수 있음\n",
        "- 분류기 평가에는 일반적으로 교차 검증을 사용\n",
        "  - cross_val_score() 함수를 사용"
      ],
      "metadata": {
        "id": "8B4ETl1T93B7"
      }
    },
    {
      "cell_type": "code",
      "source": [
        "cross_val_score(sgd_clf, X_train, y_train, cv=3, scoring='accuracy')"
      ],
      "metadata": {
        "colab": {
          "base_uri": "https://localhost:8080/"
        },
        "id": "k_UFWiYG-Fu6",
        "outputId": "cc510a76-1b98-465b-812b-393517ca89e1"
      },
      "execution_count": 66,
      "outputs": [
        {
          "output_type": "execute_result",
          "data": {
            "text/plain": [
              "array([0.87365, 0.85835, 0.8689 ])"
            ]
          },
          "metadata": {},
          "execution_count": 66
        }
      ]
    },
    {
      "cell_type": "markdown",
      "source": [
        "**간단하게 입력 스케일을 조정하면 정확도를 더욱 높일 수 있음**"
      ],
      "metadata": {
        "id": "nQuFKbx1-NuZ"
      }
    },
    {
      "cell_type": "code",
      "source": [
        "from sklearn.preprocessing import StandardScaler\n",
        "scaler=StandardScaler()\n",
        "X_train_scaled=scaler.fit_transform(X_train.astype(np.float64))\n",
        "cross_val_score(sgd_clf, X_train_scaled, y_train, cv=3, scoring='accuracy')"
      ],
      "metadata": {
        "colab": {
          "base_uri": "https://localhost:8080/"
        },
        "id": "P1yi40re-oyi",
        "outputId": "86b2c30b-d3ce-4acb-b768-fafb164c95d4"
      },
      "execution_count": 67,
      "outputs": [
        {
          "output_type": "execute_result",
          "data": {
            "text/plain": [
              "array([0.8983, 0.891 , 0.9018])"
            ]
          },
          "metadata": {},
          "execution_count": 67
        }
      ]
    },
    {
      "cell_type": "markdown",
      "source": [
        "##**3.5 에러 분석**\n",
        "- 가능성이 높은 모델을 하나 찾았다고 가정하고 이 모델의 성능을 향상시킬 방법 찾기\n",
        "- 그 중 한 가지 방법이 만들어진 에러의 종류를 분석하는 것\n",
        "- confusion_matrix() 함수로 오차 행렬 살펴보기"
      ],
      "metadata": {
        "id": "O04T1c43-qRy"
      }
    },
    {
      "cell_type": "code",
      "source": [
        "y_train_pred=cross_val_predict(sgd_clf, X_train_scaled, y_train, cv=3)\n",
        "conf_mx=confusion_matrix(y_train,y_train_pred)\n",
        "conf_mx"
      ],
      "metadata": {
        "colab": {
          "base_uri": "https://localhost:8080/"
        },
        "id": "GUetwUAq-9nF",
        "outputId": "c0722b23-f647-4af7-b91a-a36f6d2e07ca"
      },
      "execution_count": 68,
      "outputs": [
        {
          "output_type": "execute_result",
          "data": {
            "text/plain": [
              "array([[5577,    0,   22,    5,    8,   43,   36,    6,  225,    1],\n",
              "       [   0, 6400,   37,   24,    4,   44,    4,    7,  212,   10],\n",
              "       [  27,   27, 5220,   92,   73,   27,   67,   36,  378,   11],\n",
              "       [  22,   17,  117, 5227,    2,  203,   27,   40,  403,   73],\n",
              "       [  12,   14,   41,    9, 5182,   12,   34,   27,  347,  164],\n",
              "       [  27,   15,   30,  168,   53, 4444,   75,   14,  535,   60],\n",
              "       [  30,   15,   42,    3,   44,   97, 5552,    3,  131,    1],\n",
              "       [  21,   10,   51,   30,   49,   12,    3, 5684,  195,  210],\n",
              "       [  17,   63,   48,   86,    3,  126,   25,   10, 5429,   44],\n",
              "       [  25,   18,   30,   64,  118,   36,    1,  179,  371, 5107]])"
            ]
          },
          "metadata": {},
          "execution_count": 68
        }
      ]
    },
    {
      "cell_type": "markdown",
      "source": [
        "- 많은 숫자가 출력되므로 matshow() 함수를 사용해 이미지로 표현"
      ],
      "metadata": {
        "id": "OvI5yvL5_M4K"
      }
    },
    {
      "cell_type": "code",
      "source": [
        "plt.matshow(conf_mx, cmap=plt.cm.gray)\n",
        "plt.show()"
      ],
      "metadata": {
        "colab": {
          "base_uri": "https://localhost:8080/",
          "height": 275
        },
        "id": "nxFiteKi_SAa",
        "outputId": "1ee89979-8cdc-44fa-b348-8058fccfe5b6"
      },
      "execution_count": 69,
      "outputs": [
        {
          "output_type": "display_data",
          "data": {
            "text/plain": [
              "<Figure size 288x288 with 1 Axes>"
            ],
            "image/png": "[encoded data removed]"
          },
          "metadata": {
            "needs_background": "light"
          }
        }
      ]
    },
    {
      "cell_type": "markdown",
      "source": [
        "- 올바르게 분류되었음을 나타내는 주대각선에서 숫자 5가 다른 숫자보다 조금 더 어두워 보임\n",
        "  - 이는 데이터셋에 숫자 5의 이미지가 적거나 분류기가 숫자 5를 다른 숫자만큼 잘 분류하지 못한다는 뜻\n",
        "\n",
        "1. 에러의 절대 개수가 아닌 에러 비율 비교\n",
        "- 개수로 비교하면 이미지가 많은 클래스가 상대적으로 나쁘게 보임"
      ],
      "metadata": {
        "id": "yubxgSOA_bry"
      }
    },
    {
      "cell_type": "code",
      "source": [
        "row_sums=conf_mx.sum(axis=1, keepdims=True)\n",
        "norm_conf_mx=conf_mx/row_sums"
      ],
      "metadata": {
        "id": "aqS_WSwN_2tj"
      },
      "execution_count": 70,
      "outputs": []
    },
    {
      "cell_type": "code",
      "source": [
        "#다른 항목은 그대로 유지하고 주대각선만 0으로 채워서 그래프 그리기\n",
        "np.fill_diagonal(norm_conf_mx, 0)\n",
        "plt.matshow(norm_conf_mx, cmap=plt.cm.gray)\n",
        "plt.show()"
      ],
      "metadata": {
        "colab": {
          "base_uri": "https://localhost:8080/",
          "height": 275
        },
        "id": "XwmD0lslAAIr",
        "outputId": "306d0531-c713-4eb5-bad7-7559fa5238a6"
      },
      "execution_count": 71,
      "outputs": [
        {
          "output_type": "display_data",
          "data": {
            "text/plain": [
              "<Figure size 288x288 with 1 Axes>"
            ],
            "image/png": "[encoded data removed]"
          },
          "metadata": {
            "needs_background": "light"
          }
        }
      ]
    },
    {
      "cell_type": "markdown",
      "source": [
        "**여기서 분류기가 만든 에러를 확실히 확인 가능**\n",
        "- 클래스 8의 열이 상당히 밝음 -> 많은 이미지가 8로 잘못 분류 됨\n",
        "- 하지만 클래스 8의 행을 보면 실제 8이 적절히 8로 분류 되었음을 알 수 있음\n",
        "- 3과 5가 서로 많이 혼동됨\n",
        "\n",
        "**이처럼 오차 행렬을 분석하면 분류기의 성능 향상 방안에 대한 통찰을 얻을 수 있음**\n",
        "- 8처럼 보이는 (실제로 8은 아닌) 숫자의 훈련 데이터를 더 많이 모아 실제 8과 구분하도록 분류기를 학습\n",
        "  - 예를 들어 동심원의 수를 세는 알고리즘을 사용\n",
        "\n",
        "3와 5의 샘플을 그려보고 왜 잘못되었는지에 대해 분석해보기"
      ],
      "metadata": {
        "id": "hMk01Yt0Az2V"
      }
    },
    {
      "cell_type": "code",
      "source": [
        "def plot_digits(instances, images_per_row=10, **options):\n",
        "    size = 28\n",
        "    images_per_row = min(len(instances), images_per_row)\n",
        "    for instance in instances:\n",
        "      images = [instance.reshape(size,size)]\n",
        "    n_rows = (len(instances) - 1) // images_per_row + 1\n",
        "    row_images = []\n",
        "    n_empty = n_rows * images_per_row - len(instances)\n",
        "    images.append(np.zeros((size, size * n_empty)))\n",
        "    for row in range(n_rows):\n",
        "        rimages = images[row * images_per_row : (row + 1) * images_per_row]\n",
        "        row_images.append(np.concatenate(rimages, axis=1))\n",
        "    image = np.concatenate(row_images, axis=0)\n",
        "    plt.imshow(image, cmap = mpl.cm.binary, **options)\n",
        "    plt.axis(\"off\")\n",
        "\n",
        "cl_a, cl_b = 3,5\n",
        "X_aa = X_train[(y_train==cl_a) & (y_train_pred==cl_a)]\n",
        "X_ab = X_train[(y_train==cl_a) & (y_train_pred==cl_b)]\n",
        "X_ba = X_train[(y_train==cl_b) & (y_train_pred==cl_a)]\n",
        "X_bb = X_train[(y_train==cl_b) & (y_train_pred==cl_b)]\n",
        "\n",
        "plt.figure(figsize=(8,8))\n",
        "plt.subplot(221); plot_digits(X_aa[:25], images_per_row=5)\n",
        "plt.subplot(222); plot_digits(X_ab[:25], images_per_row=5)\n",
        "plt.subplot(223); plot_digits(X_ba[:25], images_per_row=5)\n",
        "plt.subplot(224); plot_digits(X_bb[:25], images_per_row=5)\n",
        "plt.show()"
      ],
      "metadata": {
        "colab": {
          "base_uri": "https://localhost:8080/",
          "height": 590
        },
        "id": "KYYTW672BpiL",
        "outputId": "8641be38-c817-4067-a299-838b81a7ff3a"
      },
      "execution_count": 78,
      "outputs": [
        {
          "output_type": "error",
          "ename": "AttributeError",
          "evalue": "ignored",
          "traceback": [
            "\u001b[0;31m---------------------------------------------------------------------------\u001b[0m",
            "\u001b[0;31mAttributeError\u001b[0m                            Traceback (most recent call last)",
            "\u001b[0;32m<ipython-input-78-36bf55c3f148>\u001b[0m in \u001b[0;36m<module>\u001b[0;34m\u001b[0m\n\u001b[1;32m     22\u001b[0m \u001b[0;34m\u001b[0m\u001b[0m\n\u001b[1;32m     23\u001b[0m \u001b[0mplt\u001b[0m\u001b[0;34m.\u001b[0m\u001b[0mfigure\u001b[0m\u001b[0;34m(\u001b[0m\u001b[0mfigsize\u001b[0m\u001b[0;34m=\u001b[0m\u001b[0;34m(\u001b[0m\u001b[0;36m8\u001b[0m\u001b[0;34m,\u001b[0m\u001b[0;36m8\u001b[0m\u001b[0;34m)\u001b[0m\u001b[0;34m)\u001b[0m\u001b[0;34m\u001b[0m\u001b[0;34m\u001b[0m\u001b[0m\n\u001b[0;32m---> 24\u001b[0;31m \u001b[0mplt\u001b[0m\u001b[0;34m.\u001b[0m\u001b[0msubplot\u001b[0m\u001b[0;34m(\u001b[0m\u001b[0;36m221\u001b[0m\u001b[0;34m)\u001b[0m\u001b[0;34m;\u001b[0m \u001b[0mplot_digits\u001b[0m\u001b[0;34m(\u001b[0m\u001b[0mX_aa\u001b[0m\u001b[0;34m[\u001b[0m\u001b[0;34m:\u001b[0m\u001b[0;36m25\u001b[0m\u001b[0;34m]\u001b[0m\u001b[0;34m,\u001b[0m \u001b[0mimages_per_row\u001b[0m\u001b[0;34m=\u001b[0m\u001b[0;36m5\u001b[0m\u001b[0;34m)\u001b[0m\u001b[0;34m\u001b[0m\u001b[0;34m\u001b[0m\u001b[0m\n\u001b[0m\u001b[1;32m     25\u001b[0m \u001b[0mplt\u001b[0m\u001b[0;34m.\u001b[0m\u001b[0msubplot\u001b[0m\u001b[0;34m(\u001b[0m\u001b[0;36m222\u001b[0m\u001b[0;34m)\u001b[0m\u001b[0;34m;\u001b[0m \u001b[0mplot_digits\u001b[0m\u001b[0;34m(\u001b[0m\u001b[0mX_ab\u001b[0m\u001b[0;34m[\u001b[0m\u001b[0;34m:\u001b[0m\u001b[0;36m25\u001b[0m\u001b[0;34m]\u001b[0m\u001b[0;34m,\u001b[0m \u001b[0mimages_per_row\u001b[0m\u001b[0;34m=\u001b[0m\u001b[0;36m5\u001b[0m\u001b[0;34m)\u001b[0m\u001b[0;34m\u001b[0m\u001b[0;34m\u001b[0m\u001b[0m\n\u001b[1;32m     26\u001b[0m \u001b[0mplt\u001b[0m\u001b[0;34m.\u001b[0m\u001b[0msubplot\u001b[0m\u001b[0;34m(\u001b[0m\u001b[0;36m223\u001b[0m\u001b[0;34m)\u001b[0m\u001b[0;34m;\u001b[0m \u001b[0mplot_digits\u001b[0m\u001b[0;34m(\u001b[0m\u001b[0mX_ba\u001b[0m\u001b[0;34m[\u001b[0m\u001b[0;34m:\u001b[0m\u001b[0;36m25\u001b[0m\u001b[0;34m]\u001b[0m\u001b[0;34m,\u001b[0m \u001b[0mimages_per_row\u001b[0m\u001b[0;34m=\u001b[0m\u001b[0;36m5\u001b[0m\u001b[0;34m)\u001b[0m\u001b[0;34m\u001b[0m\u001b[0;34m\u001b[0m\u001b[0m\n",
            "\u001b[0;32m<ipython-input-78-36bf55c3f148>\u001b[0m in \u001b[0;36mplot_digits\u001b[0;34m(instances, images_per_row, **options)\u001b[0m\n\u001b[1;32m      3\u001b[0m     \u001b[0mimages_per_row\u001b[0m \u001b[0;34m=\u001b[0m \u001b[0mmin\u001b[0m\u001b[0;34m(\u001b[0m\u001b[0mlen\u001b[0m\u001b[0;34m(\u001b[0m\u001b[0minstances\u001b[0m\u001b[0;34m)\u001b[0m\u001b[0;34m,\u001b[0m \u001b[0mimages_per_row\u001b[0m\u001b[0;34m)\u001b[0m\u001b[0;34m\u001b[0m\u001b[0;34m\u001b[0m\u001b[0m\n\u001b[1;32m      4\u001b[0m     \u001b[0;32mfor\u001b[0m \u001b[0minstance\u001b[0m \u001b[0;32min\u001b[0m \u001b[0minstances\u001b[0m\u001b[0;34m:\u001b[0m\u001b[0;34m\u001b[0m\u001b[0;34m\u001b[0m\u001b[0m\n\u001b[0;32m----> 5\u001b[0;31m       \u001b[0mimages\u001b[0m \u001b[0;34m=\u001b[0m \u001b[0;34m[\u001b[0m\u001b[0minstance\u001b[0m\u001b[0;34m.\u001b[0m\u001b[0mreshape\u001b[0m\u001b[0;34m(\u001b[0m\u001b[0msize\u001b[0m\u001b[0;34m,\u001b[0m\u001b[0msize\u001b[0m\u001b[0;34m)\u001b[0m\u001b[0;34m]\u001b[0m\u001b[0;34m\u001b[0m\u001b[0;34m\u001b[0m\u001b[0m\n\u001b[0m\u001b[1;32m      6\u001b[0m     \u001b[0mn_rows\u001b[0m \u001b[0;34m=\u001b[0m \u001b[0;34m(\u001b[0m\u001b[0mlen\u001b[0m\u001b[0;34m(\u001b[0m\u001b[0minstances\u001b[0m\u001b[0;34m)\u001b[0m \u001b[0;34m-\u001b[0m \u001b[0;36m1\u001b[0m\u001b[0;34m)\u001b[0m \u001b[0;34m//\u001b[0m \u001b[0mimages_per_row\u001b[0m \u001b[0;34m+\u001b[0m \u001b[0;36m1\u001b[0m\u001b[0;34m\u001b[0m\u001b[0;34m\u001b[0m\u001b[0m\n\u001b[1;32m      7\u001b[0m     \u001b[0mrow_images\u001b[0m \u001b[0;34m=\u001b[0m \u001b[0;34m[\u001b[0m\u001b[0;34m]\u001b[0m\u001b[0;34m\u001b[0m\u001b[0;34m\u001b[0m\u001b[0m\n",
            "\u001b[0;31mAttributeError\u001b[0m: 'str' object has no attribute 'reshape'"
          ]
        },
        {
          "output_type": "display_data",
          "data": {
            "text/plain": [
              "<Figure size 576x576 with 1 Axes>"
            ],
            "image/png": "[encoded data removed]"
          },
          "metadata": {
            "needs_background": "light"
          }
        }
      ]
    },
    {
      "cell_type": "markdown",
      "source": [
        "- 왼쪽 블럭 두 개: 3으로 분류된 이미지\n",
        "- 오른쪽 블럭 두 개: 5로 분류된 이미지\n",
        "- 대부분의 잘못 분류된 이미지는 에러인 것 같고 분류기가 실수한 이유를 이해하기 어려움: 원인은 SGDClassifier를 사용했기 때문\n",
        "  - 3과 5는 몇 개의 픽셀만 다르기 때문에 모델이 쉽게 혼동\n",
        "  - 분류기는 이미지의 위치나 회전 방향에 매우 민감하므로 이미지를 중앙에 위치시키고 회전되어 있지 않도록 전처리하면 에러가 줄어들 것\n",
        "  "
      ],
      "metadata": {
        "id": "1KsRkMtvCJab"
      }
    },
    {
      "cell_type": "markdown",
      "source": [
        "##**3.6 다중 레이블 분류**\n",
        "- 분류기가 샘플마다 여러 개의 클래스를 출력해야 할 경우\n",
        "- ex) 앨리스, 밥, 찰리 세 얼굴을 인식하도록 훈련: 앨리스, 찰리의 사진을 보고 [1, 0, 1]을 출력\n",
        "- 이런 분류 시스템을 다중 레이블 분류 시스템"
      ],
      "metadata": {
        "id": "OmYiS9vhCsT0"
      }
    },
    {
      "cell_type": "code",
      "source": [
        "from sklearn.neighbors import KNeighborsClassifier\n",
        "\n",
        "y_train_large=(y_train>=7)\n",
        "y_train_odd=(y_train%2==1)\n",
        "y_multilabel=np.c_[y_train_large, y_train_odd]\n",
        "\n",
        "knn_clf=KNeighborsClassifier()\n",
        "knn_clf.fit(X_train, y_multilabel)"
      ],
      "metadata": {
        "colab": {
          "base_uri": "https://localhost:8080/",
          "height": 75
        },
        "id": "xqKSHBvHDEAj",
        "outputId": "d3917678-eac0-49ea-ad26-808598537567"
      },
      "execution_count": 79,
      "outputs": [
        {
          "output_type": "execute_result",
          "data": {
            "text/plain": [
              "KNeighborsClassifier()"
            ],
            "text/html": [
              "<style>#sk-container-id-2 {color: black;background-color: white;}#sk-container-id-2 pre{padding: 0;}#sk-container-id-2 div.sk-toggleable {background-color: white;}#sk-container-id-2 label.sk-toggleable__label {cursor: pointer;display: block;width: 100%;margin-bottom: 0;padding: 0.3em;box-sizing: border-box;text-align: center;}#sk-container-id-2 label.sk-toggleable__label-arrow:before {content: \"▸\";float: left;margin-right: 0.25em;color: #696969;}#sk-container-id-2 label.sk-toggleable__label-arrow:hover:before {color: black;}#sk-container-id-2 div.sk-estimator:hover label.sk-toggleable__label-arrow:before {color: black;}#sk-container-id-2 div.sk-toggleable__content {max-height: 0;max-width: 0;overflow: hidden;text-align: left;background-color: #f0f8ff;}#sk-container-id-2 div.sk-toggleable__content pre {margin: 0.2em;color: black;border-radius: 0.25em;background-color: #f0f8ff;}#sk-container-id-2 input.sk-toggleable__control:checked~div.sk-toggleable__content {max-height: 200px;max-width: 100%;overflow: auto;}#sk-container-id-2 input.sk-toggleable__control:checked~label.sk-toggleable__label-arrow:before {content: \"▾\";}#sk-container-id-2 div.sk-estimator input.sk-toggleable__control:checked~label.sk-toggleable__label {background-color: #d4ebff;}#sk-container-id-2 div.sk-label input.sk-toggleable__control:checked~label.sk-toggleable__label {background-color: #d4ebff;}#sk-container-id-2 input.sk-hidden--visually {border: 0;clip: rect(1px 1px 1px 1px);clip: rect(1px, 1px, 1px, 1px);height: 1px;margin: -1px;overflow: hidden;padding: 0;position: absolute;width: 1px;}#sk-container-id-2 div.sk-estimator {font-family: monospace;background-color: #f0f8ff;border: 1px dotted black;border-radius: 0.25em;box-sizing: border-box;margin-bottom: 0.5em;}#sk-container-id-2 div.sk-estimator:hover {background-color: #d4ebff;}#sk-container-id-2 div.sk-parallel-item::after {content: \"\";width: 100%;border-bottom: 1px solid gray;flex-grow: 1;}#sk-container-id-2 div.sk-label:hover label.sk-toggleable__label {background-color: #d4ebff;}#sk-container-id-2 div.sk-serial::before {content: \"\";position: absolute;border-left: 1px solid gray;box-sizing: border-box;top: 0;bottom: 0;left: 50%;z-index: 0;}#sk-container-id-2 div.sk-serial {display: flex;flex-direction: column;align-items: center;background-color: white;padding-right: 0.2em;padding-left: 0.2em;position: relative;}#sk-container-id-2 div.sk-item {position: relative;z-index: 1;}#sk-container-id-2 div.sk-parallel {display: flex;align-items: stretch;justify-content: center;background-color: white;position: relative;}#sk-container-id-2 div.sk-item::before, #sk-container-id-2 div.sk-parallel-item::before {content: \"\";position: absolute;border-left: 1px solid gray;box-sizing: border-box;top: 0;bottom: 0;left: 50%;z-index: -1;}#sk-container-id-2 div.sk-parallel-item {display: flex;flex-direction: column;z-index: 1;position: relative;background-color: white;}#sk-container-id-2 div.sk-parallel-item:first-child::after {align-self: flex-end;width: 50%;}#sk-container-id-2 div.sk-parallel-item:last-child::after {align-self: flex-start;width: 50%;}#sk-container-id-2 div.sk-parallel-item:only-child::after {width: 0;}#sk-container-id-2 div.sk-dashed-wrapped {border: 1px dashed gray;margin: 0 0.4em 0.5em 0.4em;box-sizing: border-box;padding-bottom: 0.4em;background-color: white;}#sk-container-id-2 div.sk-label label {font-family: monospace;font-weight: bold;display: inline-block;line-height: 1.2em;}#sk-container-id-2 div.sk-label-container {text-align: center;}#sk-container-id-2 div.sk-container {/* jupyter's `normalize.less` sets `[hidden] { display: none; }` but bootstrap.min.css set `[hidden] { display: none !important; }` so we also need the `!important` here to be able to override the default hidden behavior on the sphinx rendered scikit-learn.org. See: https://github.com/scikit-learn/scikit-learn/issues/21755 */display: inline-block !important;position: relative;}#sk-container-id-2 div.sk-text-repr-fallback {display: none;}</style><div id=\"sk-container-id-2\" class=\"sk-top-container\"><div class=\"sk-text-repr-fallback\"><pre>KNeighborsClassifier()</pre><b>In a Jupyter environment, please rerun this cell to show the HTML representation or trust the notebook. <br />On GitHub, the HTML representation is unable to render, please try loading this page with nbviewer.org.</b></div><div class=\"sk-container\" hidden><div class=\"sk-item\"><div class=\"sk-estimator sk-toggleable\"><input class=\"sk-toggleable__control sk-hidden--visually\" id=\"sk-estimator-id-2\" type=\"checkbox\" checked><label for=\"sk-estimator-id-2\" class=\"sk-toggleable__label sk-toggleable__label-arrow\">KNeighborsClassifier</label><div class=\"sk-toggleable__content\"><pre>KNeighborsClassifier()</pre></div></div></div></div></div>"
            ]
          },
          "metadata": {},
          "execution_count": 79
        }
      ]
    },
    {
      "cell_type": "markdown",
      "source": [
        "- 첫 번째: 숫자가 큰 값\n",
        "- 두 번째: 홀수인지 "
      ],
      "metadata": {
        "id": "DU2mSHFsDnJ7"
      }
    },
    {
      "cell_type": "code",
      "source": [
        "knn_clf.predict([some_digit])"
      ],
      "metadata": {
        "colab": {
          "base_uri": "https://localhost:8080/"
        },
        "id": "qhL1QnzUDuM-",
        "outputId": "9ea09893-9309-408f-a93c-6b8937521bbc"
      },
      "execution_count": 80,
      "outputs": [
        {
          "output_type": "stream",
          "name": "stderr",
          "text": [
            "/usr/local/lib/python3.9/dist-packages/sklearn/base.py:420: UserWarning: X does not have valid feature names, but KNeighborsClassifier was fitted with feature names\n",
            "  warnings.warn(\n"
          ]
        },
        {
          "output_type": "execute_result",
          "data": {
            "text/plain": [
              "array([[False,  True]])"
            ]
          },
          "metadata": {},
          "execution_count": 80
        }
      ]
    },
    {
      "cell_type": "markdown",
      "source": [
        "숫자 5는 크지 않고(False) 홀수(True)"
      ],
      "metadata": {
        "id": "SRvtmh-tDzkr"
      }
    },
    {
      "cell_type": "markdown",
      "source": [
        "다중 레이블 분류기를 평가하는 방법은 많음\n",
        "- 적절한 지표는 프로젝트에 따라 다름\n",
        "- ex) 모든 레이블에 대한 F1 점수의 평균 계산"
      ],
      "metadata": {
        "id": "Ez_OFacsD3Wj"
      }
    },
    {
      "cell_type": "code",
      "source": [
        "y_train_knn_pred=cross_val_predict(knn_clf, X_train, y_multilabel, cv=3)\n",
        "f1_score(y_multilabel, y_train_knn_pred, average='macro')"
      ],
      "metadata": {
        "colab": {
          "base_uri": "https://localhost:8080/"
        },
        "id": "uvzi9qkVEEd9",
        "outputId": "08c0b4a8-4961-47a2-dddb-29d7e74820bf"
      },
      "execution_count": 81,
      "outputs": [
        {
          "output_type": "execute_result",
          "data": {
            "text/plain": [
              "0.976410265560605"
            ]
          },
          "metadata": {},
          "execution_count": 81
        }
      ]
    },
    {
      "cell_type": "markdown",
      "source": [
        "\\* 이 코드는 모든 레이블의 가중치가 같다고 가정한 것\n",
        "- 앨리스의 사진이 밥이나 찰리보다 훨씬 많다면 레이블에 클래스의 지지도를 가중치로 주면 됨\n",
        "  - 이전 코드에서 average='weighted'로 설정\n",
        "\n",
        "---\n",
        "\n"
      ],
      "metadata": {
        "id": "Dpglo6sRERWb"
      }
    },
    {
      "cell_type": "markdown",
      "source": [
        "##**3.7 다중 출력 분류**\n",
        "- **다중 출력 다중 클래스 분류(다중 출력 분류)**: 다중 레이블 분류에서 한 레이블이 다중 클래스가 될 수 있도록 일반화한 것\n",
        "- ex) 이미지에서 잡음을 제거하는 시스템: 잡음이 많은 숫자 이미지를 입력으로 받고 깨끗한 숫자 이미지를 MNIST 이미지처럼 픽셀의 강도를 담은 배열로 출력\n",
        "  - 분류기의 출력이 다중 레이블(픽셀당 한 레이블)이고 각 레이블은 값을 여러 개 가짐(0~255)\n",
        "  "
      ],
      "metadata": {
        "id": "Iu36Px3FEie8"
      }
    },
    {
      "cell_type": "markdown",
      "source": [
        "MNIST 이미지에서 추출한 훈련 세트와 테스트 세트에서 넘파이의 randint() 함수를 사용하여 픽셀 강도에 잡음을 추가"
      ],
      "metadata": {
        "id": "MolEPpPcFg5T"
      }
    },
    {
      "cell_type": "code",
      "source": [
        "noise=np.random.randint(0,100,(len(X_train),784))\n",
        "X_train_mod=X_train + noise\n",
        "noise=np.random.randint(0,100,(len(X_test),784))\n",
        "X_test_mod=X_test + noise\n",
        "y_train_mod=X_train\n",
        "y_test_mod=X_test"
      ],
      "metadata": {
        "id": "gQAFIKftFoEL"
      },
      "execution_count": 83,
      "outputs": []
    },
    {
      "cell_type": "code",
      "source": [
        "def plot_digit(data):\n",
        "  image=np.array(data).reshape(28,28)\n",
        "  plt.imshow(image, cmap=mpl.cm.binary, interpolation='nearest')\n",
        "  plt.axis('off')"
      ],
      "metadata": {
        "id": "dw5FsiVFG0ob"
      },
      "execution_count": 87,
      "outputs": []
    },
    {
      "cell_type": "code",
      "source": [
        "some_index=42\n",
        "\n",
        "plt.subplot(121); plot_digit(X_test_mod.iloc[some_index])\n",
        "plt.subplot(122); plot_digit(y_test_mod.iloc[some_index])\n",
        "plt.show()"
      ],
      "metadata": {
        "colab": {
          "base_uri": "https://localhost:8080/",
          "height": 183
        },
        "id": "8fn-HdyeHE_D",
        "outputId": "124b9027-87f7-4beb-d19c-174f994693be"
      },
      "execution_count": 88,
      "outputs": [
        {
          "output_type": "display_data",
          "data": {
            "text/plain": [
              "<Figure size 432x288 with 2 Axes>"
            ],
            "image/png": "[encoded data removed]"
          },
          "metadata": {
            "needs_background": "light"
          }
        }
      ]
    },
    {
      "cell_type": "markdown",
      "source": [
        "분류기를 훈련시켜 이 이미지를 깨끗하게 만들기"
      ],
      "metadata": {
        "id": "09Vw-Aa0F_St"
      }
    },
    {
      "cell_type": "code",
      "source": [
        "knn_clf.fit(X_train_mod, y_train_mod)\n",
        "clean_digit=knn_clf.predict([X_test_mod.iloc[some_index]])\n",
        "plot_digits(clean_digit)"
      ],
      "metadata": {
        "colab": {
          "base_uri": "https://localhost:8080/",
          "height": 303
        },
        "id": "Y64erxJCGfbr",
        "outputId": "95d6879d-a27a-465e-ca9f-ffd64806c0a1"
      },
      "execution_count": 89,
      "outputs": [
        {
          "output_type": "stream",
          "name": "stderr",
          "text": [
            "/usr/local/lib/python3.9/dist-packages/sklearn/base.py:420: UserWarning: X does not have valid feature names, but KNeighborsClassifier was fitted with feature names\n",
            "  warnings.warn(\n"
          ]
        },
        {
          "output_type": "display_data",
          "data": {
            "text/plain": [
              "<Figure size 432x288 with 1 Axes>"
            ],
            "image/png": "[encoded data removed]"
          },
          "metadata": {
            "needs_background": "light"
          }
        }
      ]
    }
  ]
}