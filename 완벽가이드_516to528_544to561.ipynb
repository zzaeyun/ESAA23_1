{
  "nbformat": 4,
  "nbformat_minor": 0,
  "metadata": {
    "colab": {
      "provenance": [],
      "authorship_tag": "ABX9TyPfnre3LtI+/6U00NSrd77Z",
      "include_colab_link": true
    },
    "kernelspec": {
      "name": "python3",
      "display_name": "Python 3"
    },
    "language_info": {
      "name": "python"
    }
  },
  "cells": [
    {
      "cell_type": "markdown",
      "metadata": {
        "id": "view-in-github",
        "colab_type": "text"
      },
      "source": [
        "<a href=\"https://colab.research.google.com/github/zzaeyun/ESAA23_1/blob/main/%EC%99%84%EB%B2%BD%EA%B0%80%EC%9D%B4%EB%93%9C_516to528_544to561.ipynb\" target=\"_parent\"><img src=\"https://colab.research.google.com/assets/colab-badge.svg\" alt=\"Open In Colab\"/></a>"
      ]
    },
    {
      "cell_type": "markdown",
      "source": [
        "\n",
        "\n",
        "> p.516~528\n",
        "\n",
        "\n",
        "## **07 문서 군집화 소개와 실습(Opinion Review 데이터 세트)**\n",
        "\n",
        "###**문서 군집화 개념**\n",
        "- 텍스트 구성의 문서를 군집화\n",
        "- 동일한 군집에 속하는 문서를 같은 카테고리 소속으로 분류\n",
        "- 텍스트 분류 기반의 문서 분류와 달리 문서 군집화는 비지도학습 기반\n",
        "\n",
        "###**Opinion Review 데이터 세트를 이용한 문서 군집화 수행하기**\n",
        "- 51개의 텍스트 파일\n",
        "- 호텔, 자동차, 전자제품 관련 사이트에서 가져온 리뷰 문서\n"
      ],
      "metadata": {
        "id": "58faqIuez0Da"
      }
    },
    {
      "cell_type": "code",
      "source": [
        "from google.colab import drive\n",
        "drive.mount('/content/drive')"
      ],
      "metadata": {
        "colab": {
          "base_uri": "https://localhost:8080/"
        },
        "id": "RW9DKOR33hri",
        "outputId": "40535269-571a-4dc1-8ab1-053680ee04a4"
      },
      "execution_count": 1,
      "outputs": [
        {
          "output_type": "stream",
          "name": "stdout",
          "text": [
            "Mounted at /content/drive\n"
          ]
        }
      ]
    },
    {
      "cell_type": "code",
      "source": [
        "import pandas as pd\n",
        "import glob, os\n",
        "\n",
        "path=r'/content/drive/MyDrive/topics'\n",
        "all_files=glob.glob(os.path.join(path, '*.data'))\n",
        "filename_list=[]\n",
        "opinion_text=[]\n",
        "\n",
        "for file_ in all_files:\n",
        "  df=pd.read_table(file_, index_col=None, header=0, encoding='latin1')\n",
        "\n",
        "  filename_=file_.split('/')[-1]\n",
        "  filename=filename_.split('.')[0]\n",
        "\n",
        "  filename_list.append(filename)\n",
        "  opinion_text.append(df.to_string())\n",
        "\n",
        "document_df=pd.DataFrame({'filename':filename_list, 'opinion_text':opinion_text})\n",
        "document_df.head()"
      ],
      "metadata": {
        "colab": {
          "base_uri": "https://localhost:8080/",
          "height": 206
        },
        "id": "OOF1YyDE2sDN",
        "outputId": "306b7f65-484c-4c4e-a7c4-127f77b55f16"
      },
      "execution_count": 8,
      "outputs": [
        {
          "output_type": "execute_result",
          "data": {
            "text/plain": [
              "                         filename  \\\n",
              "0   accuracy_garmin_nuvi_255W_gps   \n",
              "1         room_holiday_inn_london   \n",
              "2      service_holiday_inn_london   \n",
              "3  transmission_toyota_camry_2007   \n",
              "4    display_garmin_nuvi_255W_gps   \n",
              "\n",
              "                                        opinion_text  \n",
              "0                                                ...  \n",
              "1                                                ...  \n",
              "2                                                ...  \n",
              "3                                                ...  \n",
              "4                                                ...  "
            ],
            "text/html": [
              "\n",
              "  <div id=\"df-dc440525-5b0d-4fbf-b55c-4a7223b72986\">\n",
              "    <div class=\"colab-df-container\">\n",
              "      <div>\n",
              "<style scoped>\n",
              "    .dataframe tbody tr th:only-of-type {\n",
              "        vertical-align: middle;\n",
              "    }\n",
              "\n",
              "    .dataframe tbody tr th {\n",
              "        vertical-align: top;\n",
              "    }\n",
              "\n",
              "    .dataframe thead th {\n",
              "        text-align: right;\n",
              "    }\n",
              "</style>\n",
              "<table border=\"1\" class=\"dataframe\">\n",
              "  <thead>\n",
              "    <tr style=\"text-align: right;\">\n",
              "      <th></th>\n",
              "      <th>filename</th>\n",
              "      <th>opinion_text</th>\n",
              "    </tr>\n",
              "  </thead>\n",
              "  <tbody>\n",
              "    <tr>\n",
              "      <th>0</th>\n",
              "      <td>accuracy_garmin_nuvi_255W_gps</td>\n",
              "      <td>...</td>\n",
              "    </tr>\n",
              "    <tr>\n",
              "      <th>1</th>\n",
              "      <td>room_holiday_inn_london</td>\n",
              "      <td>...</td>\n",
              "    </tr>\n",
              "    <tr>\n",
              "      <th>2</th>\n",
              "      <td>service_holiday_inn_london</td>\n",
              "      <td>...</td>\n",
              "    </tr>\n",
              "    <tr>\n",
              "      <th>3</th>\n",
              "      <td>transmission_toyota_camry_2007</td>\n",
              "      <td>...</td>\n",
              "    </tr>\n",
              "    <tr>\n",
              "      <th>4</th>\n",
              "      <td>display_garmin_nuvi_255W_gps</td>\n",
              "      <td>...</td>\n",
              "    </tr>\n",
              "  </tbody>\n",
              "</table>\n",
              "</div>\n",
              "      <button class=\"colab-df-convert\" onclick=\"convertToInteractive('df-dc440525-5b0d-4fbf-b55c-4a7223b72986')\"\n",
              "              title=\"Convert this dataframe to an interactive table.\"\n",
              "              style=\"display:none;\">\n",
              "        \n",
              "  <svg xmlns=\"http://www.w3.org/2000/svg\" height=\"24px\"viewBox=\"0 0 24 24\"\n",
              "       width=\"24px\">\n",
              "    <path d=\"M0 0h24v24H0V0z\" fill=\"none\"/>\n",
              "    <path d=\"M18.56 5.44l.94 2.06.94-2.06 2.06-.94-2.06-.94-.94-2.06-.94 2.06-2.06.94zm-11 1L8.5 8.5l.94-2.06 2.06-.94-2.06-.94L8.5 2.5l-.94 2.06-2.06.94zm10 10l.94 2.06.94-2.06 2.06-.94-2.06-.94-.94-2.06-.94 2.06-2.06.94z\"/><path d=\"M17.41 7.96l-1.37-1.37c-.4-.4-.92-.59-1.43-.59-.52 0-1.04.2-1.43.59L10.3 9.45l-7.72 7.72c-.78.78-.78 2.05 0 2.83L4 21.41c.39.39.9.59 1.41.59.51 0 1.02-.2 1.41-.59l7.78-7.78 2.81-2.81c.8-.78.8-2.07 0-2.86zM5.41 20L4 18.59l7.72-7.72 1.47 1.35L5.41 20z\"/>\n",
              "  </svg>\n",
              "      </button>\n",
              "      \n",
              "  <style>\n",
              "    .colab-df-container {\n",
              "      display:flex;\n",
              "      flex-wrap:wrap;\n",
              "      gap: 12px;\n",
              "    }\n",
              "\n",
              "    .colab-df-convert {\n",
              "      background-color: #E8F0FE;\n",
              "      border: none;\n",
              "      border-radius: 50%;\n",
              "      cursor: pointer;\n",
              "      display: none;\n",
              "      fill: #1967D2;\n",
              "      height: 32px;\n",
              "      padding: 0 0 0 0;\n",
              "      width: 32px;\n",
              "    }\n",
              "\n",
              "    .colab-df-convert:hover {\n",
              "      background-color: #E2EBFA;\n",
              "      box-shadow: 0px 1px 2px rgba(60, 64, 67, 0.3), 0px 1px 3px 1px rgba(60, 64, 67, 0.15);\n",
              "      fill: #174EA6;\n",
              "    }\n",
              "\n",
              "    [theme=dark] .colab-df-convert {\n",
              "      background-color: #3B4455;\n",
              "      fill: #D2E3FC;\n",
              "    }\n",
              "\n",
              "    [theme=dark] .colab-df-convert:hover {\n",
              "      background-color: #434B5C;\n",
              "      box-shadow: 0px 1px 3px 1px rgba(0, 0, 0, 0.15);\n",
              "      filter: drop-shadow(0px 1px 2px rgba(0, 0, 0, 0.3));\n",
              "      fill: #FFFFFF;\n",
              "    }\n",
              "  </style>\n",
              "\n",
              "      <script>\n",
              "        const buttonEl =\n",
              "          document.querySelector('#df-dc440525-5b0d-4fbf-b55c-4a7223b72986 button.colab-df-convert');\n",
              "        buttonEl.style.display =\n",
              "          google.colab.kernel.accessAllowed ? 'block' : 'none';\n",
              "\n",
              "        async function convertToInteractive(key) {\n",
              "          const element = document.querySelector('#df-dc440525-5b0d-4fbf-b55c-4a7223b72986');\n",
              "          const dataTable =\n",
              "            await google.colab.kernel.invokeFunction('convertToInteractive',\n",
              "                                                     [key], {});\n",
              "          if (!dataTable) return;\n",
              "\n",
              "          const docLinkHtml = 'Like what you see? Visit the ' +\n",
              "            '<a target=\"_blank\" href=https://colab.research.google.com/notebooks/data_table.ipynb>data table notebook</a>'\n",
              "            + ' to learn more about interactive tables.';\n",
              "          element.innerHTML = '';\n",
              "          dataTable['output_type'] = 'display_data';\n",
              "          await google.colab.output.renderOutput(dataTable, element);\n",
              "          const docLink = document.createElement('div');\n",
              "          docLink.innerHTML = docLinkHtml;\n",
              "          element.appendChild(docLink);\n",
              "        }\n",
              "      </script>\n",
              "    </div>\n",
              "  </div>\n",
              "  "
            ]
          },
          "metadata": {},
          "execution_count": 8
        }
      ]
    },
    {
      "cell_type": "markdown",
      "source": [
        "- 파일 이름으로 어떤 제품/서비스에 대한 리뷰인지 확인 가능\n",
        "\n",
        "<br>\n",
        "\n",
        "- TF-IDF 형태로 피처 벡터화\n",
        "- LemNormalize() 함수를 이용\n",
        "  - n_gram: (1,2)\n",
        "  - min_df, max_df로 피처의 개수 제한"
      ],
      "metadata": {
        "id": "qnrtXHAo40vg"
      }
    },
    {
      "cell_type": "code",
      "source": [
        "from nltk.stem import WordNetLemmatizer\n",
        "import nltk\n",
        "import string\n",
        "\n",
        "# 단어 원형 추출 함수\n",
        "lemmar = WordNetLemmatizer()\n",
        "def LemTokens(tokens):\n",
        "    return [lemmar.lemmatize(token) for token in tokens]\n",
        "\n",
        "# 특수 문자 사전 생성: {33: None ...}\n",
        "# ord(): 아스키 코드 생성\n",
        "remove_punct_dict = dict((ord(punct), None) for punct in string.punctuation)\n",
        "\n",
        "# 특수 문자 제거 및 단어 원형 추출\n",
        "def LemNormalize(text):\n",
        "    # 텍스트 소문자 변경 후 특수 문자 제거\n",
        "    text_new = text.lower().translate(remove_punct_dict)\n",
        "    \n",
        "    # 단어 토큰화\n",
        "    word_tokens = nltk.word_tokenize(text_new)\n",
        "    \n",
        "    # 단어 원형 추출\n",
        "    return LemTokens(word_tokens)"
      ],
      "metadata": {
        "id": "j4HE0huK7a8_"
      },
      "execution_count": 9,
      "outputs": []
    },
    {
      "cell_type": "code",
      "source": [
        "nltk.download('punkt')\n",
        "nltk.download('wordnet')"
      ],
      "metadata": {
        "colab": {
          "base_uri": "https://localhost:8080/"
        },
        "id": "Sv7PYQTm722Y",
        "outputId": "04955f9e-b43b-40e7-80db-c0328e8b0de1"
      },
      "execution_count": 14,
      "outputs": [
        {
          "output_type": "stream",
          "name": "stderr",
          "text": [
            "[nltk_data] Downloading package punkt to /root/nltk_data...\n",
            "[nltk_data]   Package punkt is already up-to-date!\n",
            "[nltk_data] Downloading package wordnet to /root/nltk_data...\n"
          ]
        },
        {
          "output_type": "execute_result",
          "data": {
            "text/plain": [
              "True"
            ]
          },
          "metadata": {},
          "execution_count": 14
        }
      ]
    },
    {
      "cell_type": "code",
      "source": [
        "from sklearn.feature_extraction.text import TfidfVectorizer\n",
        "\n",
        "tfidf_vect=TfidfVectorizer(tokenizer=LemNormalize, stop_words='english',\n",
        "                           ngram_range=(1,2), min_df=0.05, max_df=0.85)\n",
        "\n",
        "feature_vect=tfidf_vect.fit_transform(document_df['opinion_text'])"
      ],
      "metadata": {
        "colab": {
          "base_uri": "https://localhost:8080/"
        },
        "id": "O6ahLx3T2sCW",
        "outputId": "d6b13401-618e-4fa1-ea22-9e8eb01dd690"
      },
      "execution_count": 15,
      "outputs": [
        {
          "output_type": "stream",
          "name": "stderr",
          "text": [
            "/usr/local/lib/python3.9/dist-packages/sklearn/feature_extraction/text.py:409: UserWarning: Your stop_words may be inconsistent with your preprocessing. Tokenizing the stop words generated tokens ['ha', 'le', 'u', 'wa'] not in stop_words.\n",
            "  warnings.warn(\n"
          ]
        }
      ]
    },
    {
      "cell_type": "markdown",
      "source": [
        "- 군집화 기법은 K-평균\n",
        "- 문서 유형이 전자제품, 자동차, 호텔로 되어 있고 세부요소가 있음\n",
        "- 먼저 5개의 중심(Centroid) 기반으로 군집화수행"
      ],
      "metadata": {
        "id": "Z3egcTl77_xe"
      }
    },
    {
      "cell_type": "code",
      "source": [
        "from sklearn.cluster import KMeans\n",
        "\n",
        "km_cluster=KMeans(n_clusters=5, max_iter=100000, random_state=0)\n",
        "km_cluster.fit(feature_vect)\n",
        "cluster_label=km_cluster.labels_\n",
        "cluster_centers=km_cluster.cluster_centers_"
      ],
      "metadata": {
        "colab": {
          "base_uri": "https://localhost:8080/"
        },
        "id": "0ujyIcpf2sAj",
        "outputId": "76c92eac-9ced-4669-bd2f-fe4846e95e7d"
      },
      "execution_count": 16,
      "outputs": [
        {
          "output_type": "stream",
          "name": "stderr",
          "text": [
            "/usr/local/lib/python3.9/dist-packages/sklearn/cluster/_kmeans.py:870: FutureWarning: The default value of `n_init` will change from 10 to 'auto' in 1.4. Set the value of `n_init` explicitly to suppress the warning\n",
            "  warnings.warn(\n"
          ]
        }
      ]
    },
    {
      "cell_type": "code",
      "source": [
        "document_df['cluster_label']=cluster_label\n",
        "document_df.head()"
      ],
      "metadata": {
        "colab": {
          "base_uri": "https://localhost:8080/",
          "height": 206
        },
        "id": "xrXKjXfy2r_w",
        "outputId": "427c50fc-465e-4678-fe5a-a78bf63fe73c"
      },
      "execution_count": 17,
      "outputs": [
        {
          "output_type": "execute_result",
          "data": {
            "text/plain": [
              "                         filename  \\\n",
              "0   accuracy_garmin_nuvi_255W_gps   \n",
              "1         room_holiday_inn_london   \n",
              "2      service_holiday_inn_london   \n",
              "3  transmission_toyota_camry_2007   \n",
              "4    display_garmin_nuvi_255W_gps   \n",
              "\n",
              "                                        opinion_text  cluster_label  \n",
              "0                                                ...              3  \n",
              "1                                                ...              2  \n",
              "2                                                ...              2  \n",
              "3                                                ...              4  \n",
              "4                                                ...              3  "
            ],
            "text/html": [
              "\n",
              "  <div id=\"df-5b9743b6-9eb3-477d-a049-2994e2ce9d83\">\n",
              "    <div class=\"colab-df-container\">\n",
              "      <div>\n",
              "<style scoped>\n",
              "    .dataframe tbody tr th:only-of-type {\n",
              "        vertical-align: middle;\n",
              "    }\n",
              "\n",
              "    .dataframe tbody tr th {\n",
              "        vertical-align: top;\n",
              "    }\n",
              "\n",
              "    .dataframe thead th {\n",
              "        text-align: right;\n",
              "    }\n",
              "</style>\n",
              "<table border=\"1\" class=\"dataframe\">\n",
              "  <thead>\n",
              "    <tr style=\"text-align: right;\">\n",
              "      <th></th>\n",
              "      <th>filename</th>\n",
              "      <th>opinion_text</th>\n",
              "      <th>cluster_label</th>\n",
              "    </tr>\n",
              "  </thead>\n",
              "  <tbody>\n",
              "    <tr>\n",
              "      <th>0</th>\n",
              "      <td>accuracy_garmin_nuvi_255W_gps</td>\n",
              "      <td>...</td>\n",
              "      <td>3</td>\n",
              "    </tr>\n",
              "    <tr>\n",
              "      <th>1</th>\n",
              "      <td>room_holiday_inn_london</td>\n",
              "      <td>...</td>\n",
              "      <td>2</td>\n",
              "    </tr>\n",
              "    <tr>\n",
              "      <th>2</th>\n",
              "      <td>service_holiday_inn_london</td>\n",
              "      <td>...</td>\n",
              "      <td>2</td>\n",
              "    </tr>\n",
              "    <tr>\n",
              "      <th>3</th>\n",
              "      <td>transmission_toyota_camry_2007</td>\n",
              "      <td>...</td>\n",
              "      <td>4</td>\n",
              "    </tr>\n",
              "    <tr>\n",
              "      <th>4</th>\n",
              "      <td>display_garmin_nuvi_255W_gps</td>\n",
              "      <td>...</td>\n",
              "      <td>3</td>\n",
              "    </tr>\n",
              "  </tbody>\n",
              "</table>\n",
              "</div>\n",
              "      <button class=\"colab-df-convert\" onclick=\"convertToInteractive('df-5b9743b6-9eb3-477d-a049-2994e2ce9d83')\"\n",
              "              title=\"Convert this dataframe to an interactive table.\"\n",
              "              style=\"display:none;\">\n",
              "        \n",
              "  <svg xmlns=\"http://www.w3.org/2000/svg\" height=\"24px\"viewBox=\"0 0 24 24\"\n",
              "       width=\"24px\">\n",
              "    <path d=\"M0 0h24v24H0V0z\" fill=\"none\"/>\n",
              "    <path d=\"M18.56 5.44l.94 2.06.94-2.06 2.06-.94-2.06-.94-.94-2.06-.94 2.06-2.06.94zm-11 1L8.5 8.5l.94-2.06 2.06-.94-2.06-.94L8.5 2.5l-.94 2.06-2.06.94zm10 10l.94 2.06.94-2.06 2.06-.94-2.06-.94-.94-2.06-.94 2.06-2.06.94z\"/><path d=\"M17.41 7.96l-1.37-1.37c-.4-.4-.92-.59-1.43-.59-.52 0-1.04.2-1.43.59L10.3 9.45l-7.72 7.72c-.78.78-.78 2.05 0 2.83L4 21.41c.39.39.9.59 1.41.59.51 0 1.02-.2 1.41-.59l7.78-7.78 2.81-2.81c.8-.78.8-2.07 0-2.86zM5.41 20L4 18.59l7.72-7.72 1.47 1.35L5.41 20z\"/>\n",
              "  </svg>\n",
              "      </button>\n",
              "      \n",
              "  <style>\n",
              "    .colab-df-container {\n",
              "      display:flex;\n",
              "      flex-wrap:wrap;\n",
              "      gap: 12px;\n",
              "    }\n",
              "\n",
              "    .colab-df-convert {\n",
              "      background-color: #E8F0FE;\n",
              "      border: none;\n",
              "      border-radius: 50%;\n",
              "      cursor: pointer;\n",
              "      display: none;\n",
              "      fill: #1967D2;\n",
              "      height: 32px;\n",
              "      padding: 0 0 0 0;\n",
              "      width: 32px;\n",
              "    }\n",
              "\n",
              "    .colab-df-convert:hover {\n",
              "      background-color: #E2EBFA;\n",
              "      box-shadow: 0px 1px 2px rgba(60, 64, 67, 0.3), 0px 1px 3px 1px rgba(60, 64, 67, 0.15);\n",
              "      fill: #174EA6;\n",
              "    }\n",
              "\n",
              "    [theme=dark] .colab-df-convert {\n",
              "      background-color: #3B4455;\n",
              "      fill: #D2E3FC;\n",
              "    }\n",
              "\n",
              "    [theme=dark] .colab-df-convert:hover {\n",
              "      background-color: #434B5C;\n",
              "      box-shadow: 0px 1px 3px 1px rgba(0, 0, 0, 0.15);\n",
              "      filter: drop-shadow(0px 1px 2px rgba(0, 0, 0, 0.3));\n",
              "      fill: #FFFFFF;\n",
              "    }\n",
              "  </style>\n",
              "\n",
              "      <script>\n",
              "        const buttonEl =\n",
              "          document.querySelector('#df-5b9743b6-9eb3-477d-a049-2994e2ce9d83 button.colab-df-convert');\n",
              "        buttonEl.style.display =\n",
              "          google.colab.kernel.accessAllowed ? 'block' : 'none';\n",
              "\n",
              "        async function convertToInteractive(key) {\n",
              "          const element = document.querySelector('#df-5b9743b6-9eb3-477d-a049-2994e2ce9d83');\n",
              "          const dataTable =\n",
              "            await google.colab.kernel.invokeFunction('convertToInteractive',\n",
              "                                                     [key], {});\n",
              "          if (!dataTable) return;\n",
              "\n",
              "          const docLinkHtml = 'Like what you see? Visit the ' +\n",
              "            '<a target=\"_blank\" href=https://colab.research.google.com/notebooks/data_table.ipynb>data table notebook</a>'\n",
              "            + ' to learn more about interactive tables.';\n",
              "          element.innerHTML = '';\n",
              "          dataTable['output_type'] = 'display_data';\n",
              "          await google.colab.output.renderOutput(dataTable, element);\n",
              "          const docLink = document.createElement('div');\n",
              "          docLink.innerHTML = docLinkHtml;\n",
              "          element.appendChild(docLink);\n",
              "        }\n",
              "      </script>\n",
              "    </div>\n",
              "  </div>\n",
              "  "
            ]
          },
          "metadata": {},
          "execution_count": 17
        }
      ]
    },
    {
      "cell_type": "markdown",
      "source": [
        "sort_values(by=정렬칼럼명)를 수행하면 인자로 입력된 칼럼명으로 데이터 정렬"
      ],
      "metadata": {
        "id": "IFObb6kN9btr"
      }
    },
    {
      "cell_type": "code",
      "source": [
        "document_df[document_df['cluster_label']==0].sort_values(by='filename')"
      ],
      "metadata": {
        "colab": {
          "base_uri": "https://localhost:8080/",
          "height": 206
        },
        "id": "_ETYgj7u2r8O",
        "outputId": "5b28e092-09fa-4cef-aa24-5129306ec1d8"
      },
      "execution_count": 18,
      "outputs": [
        {
          "output_type": "execute_result",
          "data": {
            "text/plain": [
              "                         filename  \\\n",
              "37          buttons_amazon_kindle   \n",
              "42  eyesight-issues_amazon_kindle   \n",
              "10            fonts_amazon_kindle   \n",
              "38       navigation_amazon_kindle   \n",
              "34            price_amazon_kindle   \n",
              "\n",
              "                                         opinion_text  cluster_label  \n",
              "37                                                ...              0  \n",
              "42                                                ...              0  \n",
              "10                                                ...              0  \n",
              "38                                                ...              0  \n",
              "34                                                ...              0  "
            ],
            "text/html": [
              "\n",
              "  <div id=\"df-892f49d5-880f-4cea-af12-f4c043c7b76b\">\n",
              "    <div class=\"colab-df-container\">\n",
              "      <div>\n",
              "<style scoped>\n",
              "    .dataframe tbody tr th:only-of-type {\n",
              "        vertical-align: middle;\n",
              "    }\n",
              "\n",
              "    .dataframe tbody tr th {\n",
              "        vertical-align: top;\n",
              "    }\n",
              "\n",
              "    .dataframe thead th {\n",
              "        text-align: right;\n",
              "    }\n",
              "</style>\n",
              "<table border=\"1\" class=\"dataframe\">\n",
              "  <thead>\n",
              "    <tr style=\"text-align: right;\">\n",
              "      <th></th>\n",
              "      <th>filename</th>\n",
              "      <th>opinion_text</th>\n",
              "      <th>cluster_label</th>\n",
              "    </tr>\n",
              "  </thead>\n",
              "  <tbody>\n",
              "    <tr>\n",
              "      <th>37</th>\n",
              "      <td>buttons_amazon_kindle</td>\n",
              "      <td>...</td>\n",
              "      <td>0</td>\n",
              "    </tr>\n",
              "    <tr>\n",
              "      <th>42</th>\n",
              "      <td>eyesight-issues_amazon_kindle</td>\n",
              "      <td>...</td>\n",
              "      <td>0</td>\n",
              "    </tr>\n",
              "    <tr>\n",
              "      <th>10</th>\n",
              "      <td>fonts_amazon_kindle</td>\n",
              "      <td>...</td>\n",
              "      <td>0</td>\n",
              "    </tr>\n",
              "    <tr>\n",
              "      <th>38</th>\n",
              "      <td>navigation_amazon_kindle</td>\n",
              "      <td>...</td>\n",
              "      <td>0</td>\n",
              "    </tr>\n",
              "    <tr>\n",
              "      <th>34</th>\n",
              "      <td>price_amazon_kindle</td>\n",
              "      <td>...</td>\n",
              "      <td>0</td>\n",
              "    </tr>\n",
              "  </tbody>\n",
              "</table>\n",
              "</div>\n",
              "      <button class=\"colab-df-convert\" onclick=\"convertToInteractive('df-892f49d5-880f-4cea-af12-f4c043c7b76b')\"\n",
              "              title=\"Convert this dataframe to an interactive table.\"\n",
              "              style=\"display:none;\">\n",
              "        \n",
              "  <svg xmlns=\"http://www.w3.org/2000/svg\" height=\"24px\"viewBox=\"0 0 24 24\"\n",
              "       width=\"24px\">\n",
              "    <path d=\"M0 0h24v24H0V0z\" fill=\"none\"/>\n",
              "    <path d=\"M18.56 5.44l.94 2.06.94-2.06 2.06-.94-2.06-.94-.94-2.06-.94 2.06-2.06.94zm-11 1L8.5 8.5l.94-2.06 2.06-.94-2.06-.94L8.5 2.5l-.94 2.06-2.06.94zm10 10l.94 2.06.94-2.06 2.06-.94-2.06-.94-.94-2.06-.94 2.06-2.06.94z\"/><path d=\"M17.41 7.96l-1.37-1.37c-.4-.4-.92-.59-1.43-.59-.52 0-1.04.2-1.43.59L10.3 9.45l-7.72 7.72c-.78.78-.78 2.05 0 2.83L4 21.41c.39.39.9.59 1.41.59.51 0 1.02-.2 1.41-.59l7.78-7.78 2.81-2.81c.8-.78.8-2.07 0-2.86zM5.41 20L4 18.59l7.72-7.72 1.47 1.35L5.41 20z\"/>\n",
              "  </svg>\n",
              "      </button>\n",
              "      \n",
              "  <style>\n",
              "    .colab-df-container {\n",
              "      display:flex;\n",
              "      flex-wrap:wrap;\n",
              "      gap: 12px;\n",
              "    }\n",
              "\n",
              "    .colab-df-convert {\n",
              "      background-color: #E8F0FE;\n",
              "      border: none;\n",
              "      border-radius: 50%;\n",
              "      cursor: pointer;\n",
              "      display: none;\n",
              "      fill: #1967D2;\n",
              "      height: 32px;\n",
              "      padding: 0 0 0 0;\n",
              "      width: 32px;\n",
              "    }\n",
              "\n",
              "    .colab-df-convert:hover {\n",
              "      background-color: #E2EBFA;\n",
              "      box-shadow: 0px 1px 2px rgba(60, 64, 67, 0.3), 0px 1px 3px 1px rgba(60, 64, 67, 0.15);\n",
              "      fill: #174EA6;\n",
              "    }\n",
              "\n",
              "    [theme=dark] .colab-df-convert {\n",
              "      background-color: #3B4455;\n",
              "      fill: #D2E3FC;\n",
              "    }\n",
              "\n",
              "    [theme=dark] .colab-df-convert:hover {\n",
              "      background-color: #434B5C;\n",
              "      box-shadow: 0px 1px 3px 1px rgba(0, 0, 0, 0.15);\n",
              "      filter: drop-shadow(0px 1px 2px rgba(0, 0, 0, 0.3));\n",
              "      fill: #FFFFFF;\n",
              "    }\n",
              "  </style>\n",
              "\n",
              "      <script>\n",
              "        const buttonEl =\n",
              "          document.querySelector('#df-892f49d5-880f-4cea-af12-f4c043c7b76b button.colab-df-convert');\n",
              "        buttonEl.style.display =\n",
              "          google.colab.kernel.accessAllowed ? 'block' : 'none';\n",
              "\n",
              "        async function convertToInteractive(key) {\n",
              "          const element = document.querySelector('#df-892f49d5-880f-4cea-af12-f4c043c7b76b');\n",
              "          const dataTable =\n",
              "            await google.colab.kernel.invokeFunction('convertToInteractive',\n",
              "                                                     [key], {});\n",
              "          if (!dataTable) return;\n",
              "\n",
              "          const docLinkHtml = 'Like what you see? Visit the ' +\n",
              "            '<a target=\"_blank\" href=https://colab.research.google.com/notebooks/data_table.ipynb>data table notebook</a>'\n",
              "            + ' to learn more about interactive tables.';\n",
              "          element.innerHTML = '';\n",
              "          dataTable['output_type'] = 'display_data';\n",
              "          await google.colab.output.renderOutput(dataTable, element);\n",
              "          const docLink = document.createElement('div');\n",
              "          docLink.innerHTML = docLinkHtml;\n",
              "          element.appendChild(docLink);\n",
              "        }\n",
              "      </script>\n",
              "    </div>\n",
              "  </div>\n",
              "  "
            ]
          },
          "metadata": {},
          "execution_count": 18
        }
      ]
    },
    {
      "cell_type": "code",
      "source": [
        "#전자 제품\n",
        "document_df[document_df['cluster_label']==1].sort_values(by='filename')"
      ],
      "metadata": {
        "colab": {
          "base_uri": "https://localhost:8080/",
          "height": 457
        },
        "id": "Z9gcbdgjBBn_",
        "outputId": "16b7a8b6-d792-4ba5-872b-9746077bcef5"
      },
      "execution_count": 19,
      "outputs": [
        {
          "output_type": "execute_result",
          "data": {
            "text/plain": [
              "                       filename  \\\n",
              "36   battery-life_amazon_kindle   \n",
              "48   battery-life_ipod_nano_8gb   \n",
              "41  battery-life_netbook_1005ha   \n",
              "45            features_windows7   \n",
              "47      keyboard_netbook_1005ha   \n",
              "21   performance_netbook_1005ha   \n",
              "31  screen_garmin_nuvi_255W_gps   \n",
              "50         screen_ipod_nano_8gb   \n",
              "6         screen_netbook_1005ha   \n",
              "22     size_asus_netbook_1005ha   \n",
              "33          sound_ipod_nano_8gb   \n",
              "46               speed_windows7   \n",
              "39          video_ipod_nano_8gb   \n",
              "\n",
              "                                         opinion_text  cluster_label  \n",
              "36                                                ...              1  \n",
              "48                                                ...              1  \n",
              "41                                                ...              1  \n",
              "45                                                ...              1  \n",
              "47                                                ...              1  \n",
              "21                                                ...              1  \n",
              "31                                                ...              1  \n",
              "50                                                ...              1  \n",
              "6                                                 ...              1  \n",
              "22                                                ...              1  \n",
              "33      headphone jack i got a clear case for it a...              1  \n",
              "46                                                ...              1  \n",
              "39                                                ...              1  "
            ],
            "text/html": [
              "\n",
              "  <div id=\"df-49a0bf93-0bf8-477f-9ad9-dde73ec0c965\">\n",
              "    <div class=\"colab-df-container\">\n",
              "      <div>\n",
              "<style scoped>\n",
              "    .dataframe tbody tr th:only-of-type {\n",
              "        vertical-align: middle;\n",
              "    }\n",
              "\n",
              "    .dataframe tbody tr th {\n",
              "        vertical-align: top;\n",
              "    }\n",
              "\n",
              "    .dataframe thead th {\n",
              "        text-align: right;\n",
              "    }\n",
              "</style>\n",
              "<table border=\"1\" class=\"dataframe\">\n",
              "  <thead>\n",
              "    <tr style=\"text-align: right;\">\n",
              "      <th></th>\n",
              "      <th>filename</th>\n",
              "      <th>opinion_text</th>\n",
              "      <th>cluster_label</th>\n",
              "    </tr>\n",
              "  </thead>\n",
              "  <tbody>\n",
              "    <tr>\n",
              "      <th>36</th>\n",
              "      <td>battery-life_amazon_kindle</td>\n",
              "      <td>...</td>\n",
              "      <td>1</td>\n",
              "    </tr>\n",
              "    <tr>\n",
              "      <th>48</th>\n",
              "      <td>battery-life_ipod_nano_8gb</td>\n",
              "      <td>...</td>\n",
              "      <td>1</td>\n",
              "    </tr>\n",
              "    <tr>\n",
              "      <th>41</th>\n",
              "      <td>battery-life_netbook_1005ha</td>\n",
              "      <td>...</td>\n",
              "      <td>1</td>\n",
              "    </tr>\n",
              "    <tr>\n",
              "      <th>45</th>\n",
              "      <td>features_windows7</td>\n",
              "      <td>...</td>\n",
              "      <td>1</td>\n",
              "    </tr>\n",
              "    <tr>\n",
              "      <th>47</th>\n",
              "      <td>keyboard_netbook_1005ha</td>\n",
              "      <td>...</td>\n",
              "      <td>1</td>\n",
              "    </tr>\n",
              "    <tr>\n",
              "      <th>21</th>\n",
              "      <td>performance_netbook_1005ha</td>\n",
              "      <td>...</td>\n",
              "      <td>1</td>\n",
              "    </tr>\n",
              "    <tr>\n",
              "      <th>31</th>\n",
              "      <td>screen_garmin_nuvi_255W_gps</td>\n",
              "      <td>...</td>\n",
              "      <td>1</td>\n",
              "    </tr>\n",
              "    <tr>\n",
              "      <th>50</th>\n",
              "      <td>screen_ipod_nano_8gb</td>\n",
              "      <td>...</td>\n",
              "      <td>1</td>\n",
              "    </tr>\n",
              "    <tr>\n",
              "      <th>6</th>\n",
              "      <td>screen_netbook_1005ha</td>\n",
              "      <td>...</td>\n",
              "      <td>1</td>\n",
              "    </tr>\n",
              "    <tr>\n",
              "      <th>22</th>\n",
              "      <td>size_asus_netbook_1005ha</td>\n",
              "      <td>...</td>\n",
              "      <td>1</td>\n",
              "    </tr>\n",
              "    <tr>\n",
              "      <th>33</th>\n",
              "      <td>sound_ipod_nano_8gb</td>\n",
              "      <td>headphone jack i got a clear case for it a...</td>\n",
              "      <td>1</td>\n",
              "    </tr>\n",
              "    <tr>\n",
              "      <th>46</th>\n",
              "      <td>speed_windows7</td>\n",
              "      <td>...</td>\n",
              "      <td>1</td>\n",
              "    </tr>\n",
              "    <tr>\n",
              "      <th>39</th>\n",
              "      <td>video_ipod_nano_8gb</td>\n",
              "      <td>...</td>\n",
              "      <td>1</td>\n",
              "    </tr>\n",
              "  </tbody>\n",
              "</table>\n",
              "</div>\n",
              "      <button class=\"colab-df-convert\" onclick=\"convertToInteractive('df-49a0bf93-0bf8-477f-9ad9-dde73ec0c965')\"\n",
              "              title=\"Convert this dataframe to an interactive table.\"\n",
              "              style=\"display:none;\">\n",
              "        \n",
              "  <svg xmlns=\"http://www.w3.org/2000/svg\" height=\"24px\"viewBox=\"0 0 24 24\"\n",
              "       width=\"24px\">\n",
              "    <path d=\"M0 0h24v24H0V0z\" fill=\"none\"/>\n",
              "    <path d=\"M18.56 5.44l.94 2.06.94-2.06 2.06-.94-2.06-.94-.94-2.06-.94 2.06-2.06.94zm-11 1L8.5 8.5l.94-2.06 2.06-.94-2.06-.94L8.5 2.5l-.94 2.06-2.06.94zm10 10l.94 2.06.94-2.06 2.06-.94-2.06-.94-.94-2.06-.94 2.06-2.06.94z\"/><path d=\"M17.41 7.96l-1.37-1.37c-.4-.4-.92-.59-1.43-.59-.52 0-1.04.2-1.43.59L10.3 9.45l-7.72 7.72c-.78.78-.78 2.05 0 2.83L4 21.41c.39.39.9.59 1.41.59.51 0 1.02-.2 1.41-.59l7.78-7.78 2.81-2.81c.8-.78.8-2.07 0-2.86zM5.41 20L4 18.59l7.72-7.72 1.47 1.35L5.41 20z\"/>\n",
              "  </svg>\n",
              "      </button>\n",
              "      \n",
              "  <style>\n",
              "    .colab-df-container {\n",
              "      display:flex;\n",
              "      flex-wrap:wrap;\n",
              "      gap: 12px;\n",
              "    }\n",
              "\n",
              "    .colab-df-convert {\n",
              "      background-color: #E8F0FE;\n",
              "      border: none;\n",
              "      border-radius: 50%;\n",
              "      cursor: pointer;\n",
              "      display: none;\n",
              "      fill: #1967D2;\n",
              "      height: 32px;\n",
              "      padding: 0 0 0 0;\n",
              "      width: 32px;\n",
              "    }\n",
              "\n",
              "    .colab-df-convert:hover {\n",
              "      background-color: #E2EBFA;\n",
              "      box-shadow: 0px 1px 2px rgba(60, 64, 67, 0.3), 0px 1px 3px 1px rgba(60, 64, 67, 0.15);\n",
              "      fill: #174EA6;\n",
              "    }\n",
              "\n",
              "    [theme=dark] .colab-df-convert {\n",
              "      background-color: #3B4455;\n",
              "      fill: #D2E3FC;\n",
              "    }\n",
              "\n",
              "    [theme=dark] .colab-df-convert:hover {\n",
              "      background-color: #434B5C;\n",
              "      box-shadow: 0px 1px 3px 1px rgba(0, 0, 0, 0.15);\n",
              "      filter: drop-shadow(0px 1px 2px rgba(0, 0, 0, 0.3));\n",
              "      fill: #FFFFFF;\n",
              "    }\n",
              "  </style>\n",
              "\n",
              "      <script>\n",
              "        const buttonEl =\n",
              "          document.querySelector('#df-49a0bf93-0bf8-477f-9ad9-dde73ec0c965 button.colab-df-convert');\n",
              "        buttonEl.style.display =\n",
              "          google.colab.kernel.accessAllowed ? 'block' : 'none';\n",
              "\n",
              "        async function convertToInteractive(key) {\n",
              "          const element = document.querySelector('#df-49a0bf93-0bf8-477f-9ad9-dde73ec0c965');\n",
              "          const dataTable =\n",
              "            await google.colab.kernel.invokeFunction('convertToInteractive',\n",
              "                                                     [key], {});\n",
              "          if (!dataTable) return;\n",
              "\n",
              "          const docLinkHtml = 'Like what you see? Visit the ' +\n",
              "            '<a target=\"_blank\" href=https://colab.research.google.com/notebooks/data_table.ipynb>data table notebook</a>'\n",
              "            + ' to learn more about interactive tables.';\n",
              "          element.innerHTML = '';\n",
              "          dataTable['output_type'] = 'display_data';\n",
              "          await google.colab.output.renderOutput(dataTable, element);\n",
              "          const docLink = document.createElement('div');\n",
              "          docLink.innerHTML = docLinkHtml;\n",
              "          element.appendChild(docLink);\n",
              "        }\n",
              "      </script>\n",
              "    </div>\n",
              "  </div>\n",
              "  "
            ]
          },
          "metadata": {},
          "execution_count": 19
        }
      ]
    },
    {
      "cell_type": "code",
      "source": [
        "#호텔\n",
        "document_df[document_df['cluster_label']==2].sort_values(by='filename')"
      ],
      "metadata": {
        "colab": {
          "base_uri": "https://localhost:8080/",
          "height": 551
        },
        "id": "-rkvmRTbBBnO",
        "outputId": "c405d753-5463-4103-cc4f-e39f6806111a"
      },
      "execution_count": 20,
      "outputs": [
        {
          "output_type": "execute_result",
          "data": {
            "text/plain": [
              "                           filename  \\\n",
              "25   bathroom_bestwestern_hotel_sfo   \n",
              "26          food_holiday_inn_london   \n",
              "16           food_swissotel_chicago   \n",
              "23       free_bestwestern_hotel_sfo   \n",
              "8    location_bestwestern_hotel_sfo   \n",
              "19      location_holiday_inn_london   \n",
              "27    parking_bestwestern_hotel_sfo   \n",
              "12         price_holiday_inn_london   \n",
              "1           room_holiday_inn_london   \n",
              "14      rooms_bestwestern_hotel_sfo   \n",
              "20          rooms_swissotel_chicago   \n",
              "29    service_bestwestern_hotel_sfo   \n",
              "2        service_holiday_inn_london   \n",
              "24  service_swissotel_hotel_chicago   \n",
              "28      staff_bestwestern_hotel_sfo   \n",
              "11          staff_swissotel_chicago   \n",
              "\n",
              "                                         opinion_text  cluster_label  \n",
              "25                                                ...              2  \n",
              "26                                                ...              2  \n",
              "16                                                ...              2  \n",
              "23                                                ...              2  \n",
              "8                                                 ...              2  \n",
              "19                                                ...              2  \n",
              "27                                                ...              2  \n",
              "12                                                ...              2  \n",
              "1                                                 ...              2  \n",
              "14                                                ...              2  \n",
              "20                                                ...              2  \n",
              "29                                                ...              2  \n",
              "2                                                 ...              2  \n",
              "24                                                ...              2  \n",
              "28                                                ...              2  \n",
              "11                                                ...              2  "
            ],
            "text/html": [
              "\n",
              "  <div id=\"df-39475f31-0cc0-471a-b7b3-6a08e25e15ed\">\n",
              "    <div class=\"colab-df-container\">\n",
              "      <div>\n",
              "<style scoped>\n",
              "    .dataframe tbody tr th:only-of-type {\n",
              "        vertical-align: middle;\n",
              "    }\n",
              "\n",
              "    .dataframe tbody tr th {\n",
              "        vertical-align: top;\n",
              "    }\n",
              "\n",
              "    .dataframe thead th {\n",
              "        text-align: right;\n",
              "    }\n",
              "</style>\n",
              "<table border=\"1\" class=\"dataframe\">\n",
              "  <thead>\n",
              "    <tr style=\"text-align: right;\">\n",
              "      <th></th>\n",
              "      <th>filename</th>\n",
              "      <th>opinion_text</th>\n",
              "      <th>cluster_label</th>\n",
              "    </tr>\n",
              "  </thead>\n",
              "  <tbody>\n",
              "    <tr>\n",
              "      <th>25</th>\n",
              "      <td>bathroom_bestwestern_hotel_sfo</td>\n",
              "      <td>...</td>\n",
              "      <td>2</td>\n",
              "    </tr>\n",
              "    <tr>\n",
              "      <th>26</th>\n",
              "      <td>food_holiday_inn_london</td>\n",
              "      <td>...</td>\n",
              "      <td>2</td>\n",
              "    </tr>\n",
              "    <tr>\n",
              "      <th>16</th>\n",
              "      <td>food_swissotel_chicago</td>\n",
              "      <td>...</td>\n",
              "      <td>2</td>\n",
              "    </tr>\n",
              "    <tr>\n",
              "      <th>23</th>\n",
              "      <td>free_bestwestern_hotel_sfo</td>\n",
              "      <td>...</td>\n",
              "      <td>2</td>\n",
              "    </tr>\n",
              "    <tr>\n",
              "      <th>8</th>\n",
              "      <td>location_bestwestern_hotel_sfo</td>\n",
              "      <td>...</td>\n",
              "      <td>2</td>\n",
              "    </tr>\n",
              "    <tr>\n",
              "      <th>19</th>\n",
              "      <td>location_holiday_inn_london</td>\n",
              "      <td>...</td>\n",
              "      <td>2</td>\n",
              "    </tr>\n",
              "    <tr>\n",
              "      <th>27</th>\n",
              "      <td>parking_bestwestern_hotel_sfo</td>\n",
              "      <td>...</td>\n",
              "      <td>2</td>\n",
              "    </tr>\n",
              "    <tr>\n",
              "      <th>12</th>\n",
              "      <td>price_holiday_inn_london</td>\n",
              "      <td>...</td>\n",
              "      <td>2</td>\n",
              "    </tr>\n",
              "    <tr>\n",
              "      <th>1</th>\n",
              "      <td>room_holiday_inn_london</td>\n",
              "      <td>...</td>\n",
              "      <td>2</td>\n",
              "    </tr>\n",
              "    <tr>\n",
              "      <th>14</th>\n",
              "      <td>rooms_bestwestern_hotel_sfo</td>\n",
              "      <td>...</td>\n",
              "      <td>2</td>\n",
              "    </tr>\n",
              "    <tr>\n",
              "      <th>20</th>\n",
              "      <td>rooms_swissotel_chicago</td>\n",
              "      <td>...</td>\n",
              "      <td>2</td>\n",
              "    </tr>\n",
              "    <tr>\n",
              "      <th>29</th>\n",
              "      <td>service_bestwestern_hotel_sfo</td>\n",
              "      <td>...</td>\n",
              "      <td>2</td>\n",
              "    </tr>\n",
              "    <tr>\n",
              "      <th>2</th>\n",
              "      <td>service_holiday_inn_london</td>\n",
              "      <td>...</td>\n",
              "      <td>2</td>\n",
              "    </tr>\n",
              "    <tr>\n",
              "      <th>24</th>\n",
              "      <td>service_swissotel_hotel_chicago</td>\n",
              "      <td>...</td>\n",
              "      <td>2</td>\n",
              "    </tr>\n",
              "    <tr>\n",
              "      <th>28</th>\n",
              "      <td>staff_bestwestern_hotel_sfo</td>\n",
              "      <td>...</td>\n",
              "      <td>2</td>\n",
              "    </tr>\n",
              "    <tr>\n",
              "      <th>11</th>\n",
              "      <td>staff_swissotel_chicago</td>\n",
              "      <td>...</td>\n",
              "      <td>2</td>\n",
              "    </tr>\n",
              "  </tbody>\n",
              "</table>\n",
              "</div>\n",
              "      <button class=\"colab-df-convert\" onclick=\"convertToInteractive('df-39475f31-0cc0-471a-b7b3-6a08e25e15ed')\"\n",
              "              title=\"Convert this dataframe to an interactive table.\"\n",
              "              style=\"display:none;\">\n",
              "        \n",
              "  <svg xmlns=\"http://www.w3.org/2000/svg\" height=\"24px\"viewBox=\"0 0 24 24\"\n",
              "       width=\"24px\">\n",
              "    <path d=\"M0 0h24v24H0V0z\" fill=\"none\"/>\n",
              "    <path d=\"M18.56 5.44l.94 2.06.94-2.06 2.06-.94-2.06-.94-.94-2.06-.94 2.06-2.06.94zm-11 1L8.5 8.5l.94-2.06 2.06-.94-2.06-.94L8.5 2.5l-.94 2.06-2.06.94zm10 10l.94 2.06.94-2.06 2.06-.94-2.06-.94-.94-2.06-.94 2.06-2.06.94z\"/><path d=\"M17.41 7.96l-1.37-1.37c-.4-.4-.92-.59-1.43-.59-.52 0-1.04.2-1.43.59L10.3 9.45l-7.72 7.72c-.78.78-.78 2.05 0 2.83L4 21.41c.39.39.9.59 1.41.59.51 0 1.02-.2 1.41-.59l7.78-7.78 2.81-2.81c.8-.78.8-2.07 0-2.86zM5.41 20L4 18.59l7.72-7.72 1.47 1.35L5.41 20z\"/>\n",
              "  </svg>\n",
              "      </button>\n",
              "      \n",
              "  <style>\n",
              "    .colab-df-container {\n",
              "      display:flex;\n",
              "      flex-wrap:wrap;\n",
              "      gap: 12px;\n",
              "    }\n",
              "\n",
              "    .colab-df-convert {\n",
              "      background-color: #E8F0FE;\n",
              "      border: none;\n",
              "      border-radius: 50%;\n",
              "      cursor: pointer;\n",
              "      display: none;\n",
              "      fill: #1967D2;\n",
              "      height: 32px;\n",
              "      padding: 0 0 0 0;\n",
              "      width: 32px;\n",
              "    }\n",
              "\n",
              "    .colab-df-convert:hover {\n",
              "      background-color: #E2EBFA;\n",
              "      box-shadow: 0px 1px 2px rgba(60, 64, 67, 0.3), 0px 1px 3px 1px rgba(60, 64, 67, 0.15);\n",
              "      fill: #174EA6;\n",
              "    }\n",
              "\n",
              "    [theme=dark] .colab-df-convert {\n",
              "      background-color: #3B4455;\n",
              "      fill: #D2E3FC;\n",
              "    }\n",
              "\n",
              "    [theme=dark] .colab-df-convert:hover {\n",
              "      background-color: #434B5C;\n",
              "      box-shadow: 0px 1px 3px 1px rgba(0, 0, 0, 0.15);\n",
              "      filter: drop-shadow(0px 1px 2px rgba(0, 0, 0, 0.3));\n",
              "      fill: #FFFFFF;\n",
              "    }\n",
              "  </style>\n",
              "\n",
              "      <script>\n",
              "        const buttonEl =\n",
              "          document.querySelector('#df-39475f31-0cc0-471a-b7b3-6a08e25e15ed button.colab-df-convert');\n",
              "        buttonEl.style.display =\n",
              "          google.colab.kernel.accessAllowed ? 'block' : 'none';\n",
              "\n",
              "        async function convertToInteractive(key) {\n",
              "          const element = document.querySelector('#df-39475f31-0cc0-471a-b7b3-6a08e25e15ed');\n",
              "          const dataTable =\n",
              "            await google.colab.kernel.invokeFunction('convertToInteractive',\n",
              "                                                     [key], {});\n",
              "          if (!dataTable) return;\n",
              "\n",
              "          const docLinkHtml = 'Like what you see? Visit the ' +\n",
              "            '<a target=\"_blank\" href=https://colab.research.google.com/notebooks/data_table.ipynb>data table notebook</a>'\n",
              "            + ' to learn more about interactive tables.';\n",
              "          element.innerHTML = '';\n",
              "          dataTable['output_type'] = 'display_data';\n",
              "          await google.colab.output.renderOutput(dataTable, element);\n",
              "          const docLink = document.createElement('div');\n",
              "          docLink.innerHTML = docLinkHtml;\n",
              "          element.appendChild(docLink);\n",
              "        }\n",
              "      </script>\n",
              "    </div>\n",
              "  </div>\n",
              "  "
            ]
          },
          "metadata": {},
          "execution_count": 20
        }
      ]
    },
    {
      "cell_type": "code",
      "source": [
        "#도요타 혼다: 자동차\n",
        "document_df[document_df['cluster_label']==4].sort_values(by='filename')"
      ],
      "metadata": {
        "colab": {
          "base_uri": "https://localhost:8080/",
          "height": 363
        },
        "id": "sWTthDa52r7R",
        "outputId": "48409f27-b933-4d07-fd6d-7b7c1e559acf"
      },
      "execution_count": 21,
      "outputs": [
        {
          "output_type": "execute_result",
          "data": {
            "text/plain": [
              "                          filename  \\\n",
              "35       comfort_honda_accord_2008   \n",
              "18       comfort_toyota_camry_2007   \n",
              "17   gas_mileage_toyota_camry_2007   \n",
              "43      interior_honda_accord_2008   \n",
              "5       interior_toyota_camry_2007   \n",
              "7        mileage_honda_accord_2008   \n",
              "32   performance_honda_accord_2008   \n",
              "9        quality_toyota_camry_2007   \n",
              "40         seats_honda_accord_2008   \n",
              "3   transmission_toyota_camry_2007   \n",
              "\n",
              "                                         opinion_text  cluster_label  \n",
              "35                                                ...              4  \n",
              "18                                                ...              4  \n",
              "17                                                ...              4  \n",
              "43                                                ...              4  \n",
              "5                                                 ...              4  \n",
              "7                                                 ...              4  \n",
              "32                                                ...              4  \n",
              "9                                                 ...              4  \n",
              "40                                                ...              4  \n",
              "3                                                 ...              4  "
            ],
            "text/html": [
              "\n",
              "  <div id=\"df-668b2d53-0adf-4612-b430-794cc2c6a368\">\n",
              "    <div class=\"colab-df-container\">\n",
              "      <div>\n",
              "<style scoped>\n",
              "    .dataframe tbody tr th:only-of-type {\n",
              "        vertical-align: middle;\n",
              "    }\n",
              "\n",
              "    .dataframe tbody tr th {\n",
              "        vertical-align: top;\n",
              "    }\n",
              "\n",
              "    .dataframe thead th {\n",
              "        text-align: right;\n",
              "    }\n",
              "</style>\n",
              "<table border=\"1\" class=\"dataframe\">\n",
              "  <thead>\n",
              "    <tr style=\"text-align: right;\">\n",
              "      <th></th>\n",
              "      <th>filename</th>\n",
              "      <th>opinion_text</th>\n",
              "      <th>cluster_label</th>\n",
              "    </tr>\n",
              "  </thead>\n",
              "  <tbody>\n",
              "    <tr>\n",
              "      <th>35</th>\n",
              "      <td>comfort_honda_accord_2008</td>\n",
              "      <td>...</td>\n",
              "      <td>4</td>\n",
              "    </tr>\n",
              "    <tr>\n",
              "      <th>18</th>\n",
              "      <td>comfort_toyota_camry_2007</td>\n",
              "      <td>...</td>\n",
              "      <td>4</td>\n",
              "    </tr>\n",
              "    <tr>\n",
              "      <th>17</th>\n",
              "      <td>gas_mileage_toyota_camry_2007</td>\n",
              "      <td>...</td>\n",
              "      <td>4</td>\n",
              "    </tr>\n",
              "    <tr>\n",
              "      <th>43</th>\n",
              "      <td>interior_honda_accord_2008</td>\n",
              "      <td>...</td>\n",
              "      <td>4</td>\n",
              "    </tr>\n",
              "    <tr>\n",
              "      <th>5</th>\n",
              "      <td>interior_toyota_camry_2007</td>\n",
              "      <td>...</td>\n",
              "      <td>4</td>\n",
              "    </tr>\n",
              "    <tr>\n",
              "      <th>7</th>\n",
              "      <td>mileage_honda_accord_2008</td>\n",
              "      <td>...</td>\n",
              "      <td>4</td>\n",
              "    </tr>\n",
              "    <tr>\n",
              "      <th>32</th>\n",
              "      <td>performance_honda_accord_2008</td>\n",
              "      <td>...</td>\n",
              "      <td>4</td>\n",
              "    </tr>\n",
              "    <tr>\n",
              "      <th>9</th>\n",
              "      <td>quality_toyota_camry_2007</td>\n",
              "      <td>...</td>\n",
              "      <td>4</td>\n",
              "    </tr>\n",
              "    <tr>\n",
              "      <th>40</th>\n",
              "      <td>seats_honda_accord_2008</td>\n",
              "      <td>...</td>\n",
              "      <td>4</td>\n",
              "    </tr>\n",
              "    <tr>\n",
              "      <th>3</th>\n",
              "      <td>transmission_toyota_camry_2007</td>\n",
              "      <td>...</td>\n",
              "      <td>4</td>\n",
              "    </tr>\n",
              "  </tbody>\n",
              "</table>\n",
              "</div>\n",
              "      <button class=\"colab-df-convert\" onclick=\"convertToInteractive('df-668b2d53-0adf-4612-b430-794cc2c6a368')\"\n",
              "              title=\"Convert this dataframe to an interactive table.\"\n",
              "              style=\"display:none;\">\n",
              "        \n",
              "  <svg xmlns=\"http://www.w3.org/2000/svg\" height=\"24px\"viewBox=\"0 0 24 24\"\n",
              "       width=\"24px\">\n",
              "    <path d=\"M0 0h24v24H0V0z\" fill=\"none\"/>\n",
              "    <path d=\"M18.56 5.44l.94 2.06.94-2.06 2.06-.94-2.06-.94-.94-2.06-.94 2.06-2.06.94zm-11 1L8.5 8.5l.94-2.06 2.06-.94-2.06-.94L8.5 2.5l-.94 2.06-2.06.94zm10 10l.94 2.06.94-2.06 2.06-.94-2.06-.94-.94-2.06-.94 2.06-2.06.94z\"/><path d=\"M17.41 7.96l-1.37-1.37c-.4-.4-.92-.59-1.43-.59-.52 0-1.04.2-1.43.59L10.3 9.45l-7.72 7.72c-.78.78-.78 2.05 0 2.83L4 21.41c.39.39.9.59 1.41.59.51 0 1.02-.2 1.41-.59l7.78-7.78 2.81-2.81c.8-.78.8-2.07 0-2.86zM5.41 20L4 18.59l7.72-7.72 1.47 1.35L5.41 20z\"/>\n",
              "  </svg>\n",
              "      </button>\n",
              "      \n",
              "  <style>\n",
              "    .colab-df-container {\n",
              "      display:flex;\n",
              "      flex-wrap:wrap;\n",
              "      gap: 12px;\n",
              "    }\n",
              "\n",
              "    .colab-df-convert {\n",
              "      background-color: #E8F0FE;\n",
              "      border: none;\n",
              "      border-radius: 50%;\n",
              "      cursor: pointer;\n",
              "      display: none;\n",
              "      fill: #1967D2;\n",
              "      height: 32px;\n",
              "      padding: 0 0 0 0;\n",
              "      width: 32px;\n",
              "    }\n",
              "\n",
              "    .colab-df-convert:hover {\n",
              "      background-color: #E2EBFA;\n",
              "      box-shadow: 0px 1px 2px rgba(60, 64, 67, 0.3), 0px 1px 3px 1px rgba(60, 64, 67, 0.15);\n",
              "      fill: #174EA6;\n",
              "    }\n",
              "\n",
              "    [theme=dark] .colab-df-convert {\n",
              "      background-color: #3B4455;\n",
              "      fill: #D2E3FC;\n",
              "    }\n",
              "\n",
              "    [theme=dark] .colab-df-convert:hover {\n",
              "      background-color: #434B5C;\n",
              "      box-shadow: 0px 1px 3px 1px rgba(0, 0, 0, 0.15);\n",
              "      filter: drop-shadow(0px 1px 2px rgba(0, 0, 0, 0.3));\n",
              "      fill: #FFFFFF;\n",
              "    }\n",
              "  </style>\n",
              "\n",
              "      <script>\n",
              "        const buttonEl =\n",
              "          document.querySelector('#df-668b2d53-0adf-4612-b430-794cc2c6a368 button.colab-df-convert');\n",
              "        buttonEl.style.display =\n",
              "          google.colab.kernel.accessAllowed ? 'block' : 'none';\n",
              "\n",
              "        async function convertToInteractive(key) {\n",
              "          const element = document.querySelector('#df-668b2d53-0adf-4612-b430-794cc2c6a368');\n",
              "          const dataTable =\n",
              "            await google.colab.kernel.invokeFunction('convertToInteractive',\n",
              "                                                     [key], {});\n",
              "          if (!dataTable) return;\n",
              "\n",
              "          const docLinkHtml = 'Like what you see? Visit the ' +\n",
              "            '<a target=\"_blank\" href=https://colab.research.google.com/notebooks/data_table.ipynb>data table notebook</a>'\n",
              "            + ' to learn more about interactive tables.';\n",
              "          element.innerHTML = '';\n",
              "          dataTable['output_type'] = 'display_data';\n",
              "          await google.colab.output.renderOutput(dataTable, element);\n",
              "          const docLink = document.createElement('div');\n",
              "          docLink.innerHTML = docLinkHtml;\n",
              "          element.appendChild(docLink);\n",
              "        }\n",
              "      </script>\n",
              "    </div>\n",
              "  </div>\n",
              "  "
            ]
          },
          "metadata": {},
          "execution_count": 21
        }
      ]
    },
    {
      "cell_type": "markdown",
      "source": [
        "- 3개의 그룹으로 군집화"
      ],
      "metadata": {
        "id": "vc49CktYBcaL"
      }
    },
    {
      "cell_type": "code",
      "source": [
        "km_cluster=KMeans(n_clusters=3, max_iter=100000, random_state=0)\n",
        "km_cluster.fit(feature_vect)\n",
        "cluster_label=km_cluster.labels_\n",
        "cluster_centers=km_cluster.cluster_centers_"
      ],
      "metadata": {
        "colab": {
          "base_uri": "https://localhost:8080/"
        },
        "id": "9AewJvcJz6TJ",
        "outputId": "53a79c4e-04e1-4536-a02e-78f4ca8b20ef"
      },
      "execution_count": 23,
      "outputs": [
        {
          "output_type": "stream",
          "name": "stderr",
          "text": [
            "/usr/local/lib/python3.9/dist-packages/sklearn/cluster/_kmeans.py:870: FutureWarning: The default value of `n_init` will change from 10 to 'auto' in 1.4. Set the value of `n_init` explicitly to suppress the warning\n",
            "  warnings.warn(\n"
          ]
        }
      ]
    },
    {
      "cell_type": "code",
      "source": [
        "document_df['cluster_label']=cluster_label\n",
        "document_df.sort_values(by='cluster_label')"
      ],
      "metadata": {
        "colab": {
          "base_uri": "https://localhost:8080/",
          "height": 1000
        },
        "id": "3Fe4vWa9z6AF",
        "outputId": "4e1e5312-cdbc-47ad-e211-03d6b4601aca"
      },
      "execution_count": 24,
      "outputs": [
        {
          "output_type": "execute_result",
          "data": {
            "text/plain": [
              "                           filename  \\\n",
              "0     accuracy_garmin_nuvi_255W_gps   \n",
              "49   satellite_garmin_nuvi_255W_gps   \n",
              "30  directions_garmin_nuvi_255W_gps   \n",
              "31      screen_garmin_nuvi_255W_gps   \n",
              "33              sound_ipod_nano_8gb   \n",
              "34              price_amazon_kindle   \n",
              "36       battery-life_amazon_kindle   \n",
              "37            buttons_amazon_kindle   \n",
              "22         size_asus_netbook_1005ha   \n",
              "38         navigation_amazon_kindle   \n",
              "41      battery-life_netbook_1005ha   \n",
              "42    eyesight-issues_amazon_kindle   \n",
              "44       voice_garmin_nuvi_255W_gps   \n",
              "45                features_windows7   \n",
              "46                   speed_windows7   \n",
              "47          keyboard_netbook_1005ha   \n",
              "48       battery-life_ipod_nano_8gb   \n",
              "39              video_ipod_nano_8gb   \n",
              "21       performance_netbook_1005ha   \n",
              "50             screen_ipod_nano_8gb   \n",
              "4      display_garmin_nuvi_255W_gps   \n",
              "6             screen_netbook_1005ha   \n",
              "10              fonts_amazon_kindle   \n",
              "15       speed_garmin_nuvi_255W_gps   \n",
              "13     updates_garmin_nuvi_255W_gps   \n",
              "20          rooms_swissotel_chicago   \n",
              "1           room_holiday_inn_london   \n",
              "2        service_holiday_inn_london   \n",
              "8    location_bestwestern_hotel_sfo   \n",
              "11          staff_swissotel_chicago   \n",
              "19      location_holiday_inn_london   \n",
              "12         price_holiday_inn_london   \n",
              "25   bathroom_bestwestern_hotel_sfo   \n",
              "14      rooms_bestwestern_hotel_sfo   \n",
              "29    service_bestwestern_hotel_sfo   \n",
              "28      staff_bestwestern_hotel_sfo   \n",
              "27    parking_bestwestern_hotel_sfo   \n",
              "26          food_holiday_inn_london   \n",
              "16           food_swissotel_chicago   \n",
              "24  service_swissotel_hotel_chicago   \n",
              "23       free_bestwestern_hotel_sfo   \n",
              "18        comfort_toyota_camry_2007   \n",
              "17    gas_mileage_toyota_camry_2007   \n",
              "3    transmission_toyota_camry_2007   \n",
              "7         mileage_honda_accord_2008   \n",
              "43       interior_honda_accord_2008   \n",
              "32    performance_honda_accord_2008   \n",
              "40          seats_honda_accord_2008   \n",
              "9         quality_toyota_camry_2007   \n",
              "5        interior_toyota_camry_2007   \n",
              "35        comfort_honda_accord_2008   \n",
              "\n",
              "                                         opinion_text  cluster_label  \n",
              "0                                                 ...              0  \n",
              "49                                                ...              0  \n",
              "30                                                ...              0  \n",
              "31                                                ...              0  \n",
              "33      headphone jack i got a clear case for it a...              0  \n",
              "34                                                ...              0  \n",
              "36                                                ...              0  \n",
              "37                                                ...              0  \n",
              "22                                                ...              0  \n",
              "38                                                ...              0  \n",
              "41                                                ...              0  \n",
              "42                                                ...              0  \n",
              "44                                                ...              0  \n",
              "45                                                ...              0  \n",
              "46                                                ...              0  \n",
              "47                                                ...              0  \n",
              "48                                                ...              0  \n",
              "39                                                ...              0  \n",
              "21                                                ...              0  \n",
              "50                                                ...              0  \n",
              "4                                                 ...              0  \n",
              "6                                                 ...              0  \n",
              "10                                                ...              0  \n",
              "15                                                ...              0  \n",
              "13                                                ...              0  \n",
              "20                                                ...              1  \n",
              "1                                                 ...              1  \n",
              "2                                                 ...              1  \n",
              "8                                                 ...              1  \n",
              "11                                                ...              1  \n",
              "19                                                ...              1  \n",
              "12                                                ...              1  \n",
              "25                                                ...              1  \n",
              "14                                                ...              1  \n",
              "29                                                ...              1  \n",
              "28                                                ...              1  \n",
              "27                                                ...              1  \n",
              "26                                                ...              1  \n",
              "16                                                ...              1  \n",
              "24                                                ...              1  \n",
              "23                                                ...              1  \n",
              "18                                                ...              2  \n",
              "17                                                ...              2  \n",
              "3                                                 ...              2  \n",
              "7                                                 ...              2  \n",
              "43                                                ...              2  \n",
              "32                                                ...              2  \n",
              "40                                                ...              2  \n",
              "9                                                 ...              2  \n",
              "5                                                 ...              2  \n",
              "35                                                ...              2  "
            ],
            "text/html": [
              "\n",
              "  <div id=\"df-baaae44b-0c27-47cb-b262-9202f21e3ee6\">\n",
              "    <div class=\"colab-df-container\">\n",
              "      <div>\n",
              "<style scoped>\n",
              "    .dataframe tbody tr th:only-of-type {\n",
              "        vertical-align: middle;\n",
              "    }\n",
              "\n",
              "    .dataframe tbody tr th {\n",
              "        vertical-align: top;\n",
              "    }\n",
              "\n",
              "    .dataframe thead th {\n",
              "        text-align: right;\n",
              "    }\n",
              "</style>\n",
              "<table border=\"1\" class=\"dataframe\">\n",
              "  <thead>\n",
              "    <tr style=\"text-align: right;\">\n",
              "      <th></th>\n",
              "      <th>filename</th>\n",
              "      <th>opinion_text</th>\n",
              "      <th>cluster_label</th>\n",
              "    </tr>\n",
              "  </thead>\n",
              "  <tbody>\n",
              "    <tr>\n",
              "      <th>0</th>\n",
              "      <td>accuracy_garmin_nuvi_255W_gps</td>\n",
              "      <td>...</td>\n",
              "      <td>0</td>\n",
              "    </tr>\n",
              "    <tr>\n",
              "      <th>49</th>\n",
              "      <td>satellite_garmin_nuvi_255W_gps</td>\n",
              "      <td>...</td>\n",
              "      <td>0</td>\n",
              "    </tr>\n",
              "    <tr>\n",
              "      <th>30</th>\n",
              "      <td>directions_garmin_nuvi_255W_gps</td>\n",
              "      <td>...</td>\n",
              "      <td>0</td>\n",
              "    </tr>\n",
              "    <tr>\n",
              "      <th>31</th>\n",
              "      <td>screen_garmin_nuvi_255W_gps</td>\n",
              "      <td>...</td>\n",
              "      <td>0</td>\n",
              "    </tr>\n",
              "    <tr>\n",
              "      <th>33</th>\n",
              "      <td>sound_ipod_nano_8gb</td>\n",
              "      <td>headphone jack i got a clear case for it a...</td>\n",
              "      <td>0</td>\n",
              "    </tr>\n",
              "    <tr>\n",
              "      <th>34</th>\n",
              "      <td>price_amazon_kindle</td>\n",
              "      <td>...</td>\n",
              "      <td>0</td>\n",
              "    </tr>\n",
              "    <tr>\n",
              "      <th>36</th>\n",
              "      <td>battery-life_amazon_kindle</td>\n",
              "      <td>...</td>\n",
              "      <td>0</td>\n",
              "    </tr>\n",
              "    <tr>\n",
              "      <th>37</th>\n",
              "      <td>buttons_amazon_kindle</td>\n",
              "      <td>...</td>\n",
              "      <td>0</td>\n",
              "    </tr>\n",
              "    <tr>\n",
              "      <th>22</th>\n",
              "      <td>size_asus_netbook_1005ha</td>\n",
              "      <td>...</td>\n",
              "      <td>0</td>\n",
              "    </tr>\n",
              "    <tr>\n",
              "      <th>38</th>\n",
              "      <td>navigation_amazon_kindle</td>\n",
              "      <td>...</td>\n",
              "      <td>0</td>\n",
              "    </tr>\n",
              "    <tr>\n",
              "      <th>41</th>\n",
              "      <td>battery-life_netbook_1005ha</td>\n",
              "      <td>...</td>\n",
              "      <td>0</td>\n",
              "    </tr>\n",
              "    <tr>\n",
              "      <th>42</th>\n",
              "      <td>eyesight-issues_amazon_kindle</td>\n",
              "      <td>...</td>\n",
              "      <td>0</td>\n",
              "    </tr>\n",
              "    <tr>\n",
              "      <th>44</th>\n",
              "      <td>voice_garmin_nuvi_255W_gps</td>\n",
              "      <td>...</td>\n",
              "      <td>0</td>\n",
              "    </tr>\n",
              "    <tr>\n",
              "      <th>45</th>\n",
              "      <td>features_windows7</td>\n",
              "      <td>...</td>\n",
              "      <td>0</td>\n",
              "    </tr>\n",
              "    <tr>\n",
              "      <th>46</th>\n",
              "      <td>speed_windows7</td>\n",
              "      <td>...</td>\n",
              "      <td>0</td>\n",
              "    </tr>\n",
              "    <tr>\n",
              "      <th>47</th>\n",
              "      <td>keyboard_netbook_1005ha</td>\n",
              "      <td>...</td>\n",
              "      <td>0</td>\n",
              "    </tr>\n",
              "    <tr>\n",
              "      <th>48</th>\n",
              "      <td>battery-life_ipod_nano_8gb</td>\n",
              "      <td>...</td>\n",
              "      <td>0</td>\n",
              "    </tr>\n",
              "    <tr>\n",
              "      <th>39</th>\n",
              "      <td>video_ipod_nano_8gb</td>\n",
              "      <td>...</td>\n",
              "      <td>0</td>\n",
              "    </tr>\n",
              "    <tr>\n",
              "      <th>21</th>\n",
              "      <td>performance_netbook_1005ha</td>\n",
              "      <td>...</td>\n",
              "      <td>0</td>\n",
              "    </tr>\n",
              "    <tr>\n",
              "      <th>50</th>\n",
              "      <td>screen_ipod_nano_8gb</td>\n",
              "      <td>...</td>\n",
              "      <td>0</td>\n",
              "    </tr>\n",
              "    <tr>\n",
              "      <th>4</th>\n",
              "      <td>display_garmin_nuvi_255W_gps</td>\n",
              "      <td>...</td>\n",
              "      <td>0</td>\n",
              "    </tr>\n",
              "    <tr>\n",
              "      <th>6</th>\n",
              "      <td>screen_netbook_1005ha</td>\n",
              "      <td>...</td>\n",
              "      <td>0</td>\n",
              "    </tr>\n",
              "    <tr>\n",
              "      <th>10</th>\n",
              "      <td>fonts_amazon_kindle</td>\n",
              "      <td>...</td>\n",
              "      <td>0</td>\n",
              "    </tr>\n",
              "    <tr>\n",
              "      <th>15</th>\n",
              "      <td>speed_garmin_nuvi_255W_gps</td>\n",
              "      <td>...</td>\n",
              "      <td>0</td>\n",
              "    </tr>\n",
              "    <tr>\n",
              "      <th>13</th>\n",
              "      <td>updates_garmin_nuvi_255W_gps</td>\n",
              "      <td>...</td>\n",
              "      <td>0</td>\n",
              "    </tr>\n",
              "    <tr>\n",
              "      <th>20</th>\n",
              "      <td>rooms_swissotel_chicago</td>\n",
              "      <td>...</td>\n",
              "      <td>1</td>\n",
              "    </tr>\n",
              "    <tr>\n",
              "      <th>1</th>\n",
              "      <td>room_holiday_inn_london</td>\n",
              "      <td>...</td>\n",
              "      <td>1</td>\n",
              "    </tr>\n",
              "    <tr>\n",
              "      <th>2</th>\n",
              "      <td>service_holiday_inn_london</td>\n",
              "      <td>...</td>\n",
              "      <td>1</td>\n",
              "    </tr>\n",
              "    <tr>\n",
              "      <th>8</th>\n",
              "      <td>location_bestwestern_hotel_sfo</td>\n",
              "      <td>...</td>\n",
              "      <td>1</td>\n",
              "    </tr>\n",
              "    <tr>\n",
              "      <th>11</th>\n",
              "      <td>staff_swissotel_chicago</td>\n",
              "      <td>...</td>\n",
              "      <td>1</td>\n",
              "    </tr>\n",
              "    <tr>\n",
              "      <th>19</th>\n",
              "      <td>location_holiday_inn_london</td>\n",
              "      <td>...</td>\n",
              "      <td>1</td>\n",
              "    </tr>\n",
              "    <tr>\n",
              "      <th>12</th>\n",
              "      <td>price_holiday_inn_london</td>\n",
              "      <td>...</td>\n",
              "      <td>1</td>\n",
              "    </tr>\n",
              "    <tr>\n",
              "      <th>25</th>\n",
              "      <td>bathroom_bestwestern_hotel_sfo</td>\n",
              "      <td>...</td>\n",
              "      <td>1</td>\n",
              "    </tr>\n",
              "    <tr>\n",
              "      <th>14</th>\n",
              "      <td>rooms_bestwestern_hotel_sfo</td>\n",
              "      <td>...</td>\n",
              "      <td>1</td>\n",
              "    </tr>\n",
              "    <tr>\n",
              "      <th>29</th>\n",
              "      <td>service_bestwestern_hotel_sfo</td>\n",
              "      <td>...</td>\n",
              "      <td>1</td>\n",
              "    </tr>\n",
              "    <tr>\n",
              "      <th>28</th>\n",
              "      <td>staff_bestwestern_hotel_sfo</td>\n",
              "      <td>...</td>\n",
              "      <td>1</td>\n",
              "    </tr>\n",
              "    <tr>\n",
              "      <th>27</th>\n",
              "      <td>parking_bestwestern_hotel_sfo</td>\n",
              "      <td>...</td>\n",
              "      <td>1</td>\n",
              "    </tr>\n",
              "    <tr>\n",
              "      <th>26</th>\n",
              "      <td>food_holiday_inn_london</td>\n",
              "      <td>...</td>\n",
              "      <td>1</td>\n",
              "    </tr>\n",
              "    <tr>\n",
              "      <th>16</th>\n",
              "      <td>food_swissotel_chicago</td>\n",
              "      <td>...</td>\n",
              "      <td>1</td>\n",
              "    </tr>\n",
              "    <tr>\n",
              "      <th>24</th>\n",
              "      <td>service_swissotel_hotel_chicago</td>\n",
              "      <td>...</td>\n",
              "      <td>1</td>\n",
              "    </tr>\n",
              "    <tr>\n",
              "      <th>23</th>\n",
              "      <td>free_bestwestern_hotel_sfo</td>\n",
              "      <td>...</td>\n",
              "      <td>1</td>\n",
              "    </tr>\n",
              "    <tr>\n",
              "      <th>18</th>\n",
              "      <td>comfort_toyota_camry_2007</td>\n",
              "      <td>...</td>\n",
              "      <td>2</td>\n",
              "    </tr>\n",
              "    <tr>\n",
              "      <th>17</th>\n",
              "      <td>gas_mileage_toyota_camry_2007</td>\n",
              "      <td>...</td>\n",
              "      <td>2</td>\n",
              "    </tr>\n",
              "    <tr>\n",
              "      <th>3</th>\n",
              "      <td>transmission_toyota_camry_2007</td>\n",
              "      <td>...</td>\n",
              "      <td>2</td>\n",
              "    </tr>\n",
              "    <tr>\n",
              "      <th>7</th>\n",
              "      <td>mileage_honda_accord_2008</td>\n",
              "      <td>...</td>\n",
              "      <td>2</td>\n",
              "    </tr>\n",
              "    <tr>\n",
              "      <th>43</th>\n",
              "      <td>interior_honda_accord_2008</td>\n",
              "      <td>...</td>\n",
              "      <td>2</td>\n",
              "    </tr>\n",
              "    <tr>\n",
              "      <th>32</th>\n",
              "      <td>performance_honda_accord_2008</td>\n",
              "      <td>...</td>\n",
              "      <td>2</td>\n",
              "    </tr>\n",
              "    <tr>\n",
              "      <th>40</th>\n",
              "      <td>seats_honda_accord_2008</td>\n",
              "      <td>...</td>\n",
              "      <td>2</td>\n",
              "    </tr>\n",
              "    <tr>\n",
              "      <th>9</th>\n",
              "      <td>quality_toyota_camry_2007</td>\n",
              "      <td>...</td>\n",
              "      <td>2</td>\n",
              "    </tr>\n",
              "    <tr>\n",
              "      <th>5</th>\n",
              "      <td>interior_toyota_camry_2007</td>\n",
              "      <td>...</td>\n",
              "      <td>2</td>\n",
              "    </tr>\n",
              "    <tr>\n",
              "      <th>35</th>\n",
              "      <td>comfort_honda_accord_2008</td>\n",
              "      <td>...</td>\n",
              "      <td>2</td>\n",
              "    </tr>\n",
              "  </tbody>\n",
              "</table>\n",
              "</div>\n",
              "      <button class=\"colab-df-convert\" onclick=\"convertToInteractive('df-baaae44b-0c27-47cb-b262-9202f21e3ee6')\"\n",
              "              title=\"Convert this dataframe to an interactive table.\"\n",
              "              style=\"display:none;\">\n",
              "        \n",
              "  <svg xmlns=\"http://www.w3.org/2000/svg\" height=\"24px\"viewBox=\"0 0 24 24\"\n",
              "       width=\"24px\">\n",
              "    <path d=\"M0 0h24v24H0V0z\" fill=\"none\"/>\n",
              "    <path d=\"M18.56 5.44l.94 2.06.94-2.06 2.06-.94-2.06-.94-.94-2.06-.94 2.06-2.06.94zm-11 1L8.5 8.5l.94-2.06 2.06-.94-2.06-.94L8.5 2.5l-.94 2.06-2.06.94zm10 10l.94 2.06.94-2.06 2.06-.94-2.06-.94-.94-2.06-.94 2.06-2.06.94z\"/><path d=\"M17.41 7.96l-1.37-1.37c-.4-.4-.92-.59-1.43-.59-.52 0-1.04.2-1.43.59L10.3 9.45l-7.72 7.72c-.78.78-.78 2.05 0 2.83L4 21.41c.39.39.9.59 1.41.59.51 0 1.02-.2 1.41-.59l7.78-7.78 2.81-2.81c.8-.78.8-2.07 0-2.86zM5.41 20L4 18.59l7.72-7.72 1.47 1.35L5.41 20z\"/>\n",
              "  </svg>\n",
              "      </button>\n",
              "      \n",
              "  <style>\n",
              "    .colab-df-container {\n",
              "      display:flex;\n",
              "      flex-wrap:wrap;\n",
              "      gap: 12px;\n",
              "    }\n",
              "\n",
              "    .colab-df-convert {\n",
              "      background-color: #E8F0FE;\n",
              "      border: none;\n",
              "      border-radius: 50%;\n",
              "      cursor: pointer;\n",
              "      display: none;\n",
              "      fill: #1967D2;\n",
              "      height: 32px;\n",
              "      padding: 0 0 0 0;\n",
              "      width: 32px;\n",
              "    }\n",
              "\n",
              "    .colab-df-convert:hover {\n",
              "      background-color: #E2EBFA;\n",
              "      box-shadow: 0px 1px 2px rgba(60, 64, 67, 0.3), 0px 1px 3px 1px rgba(60, 64, 67, 0.15);\n",
              "      fill: #174EA6;\n",
              "    }\n",
              "\n",
              "    [theme=dark] .colab-df-convert {\n",
              "      background-color: #3B4455;\n",
              "      fill: #D2E3FC;\n",
              "    }\n",
              "\n",
              "    [theme=dark] .colab-df-convert:hover {\n",
              "      background-color: #434B5C;\n",
              "      box-shadow: 0px 1px 3px 1px rgba(0, 0, 0, 0.15);\n",
              "      filter: drop-shadow(0px 1px 2px rgba(0, 0, 0, 0.3));\n",
              "      fill: #FFFFFF;\n",
              "    }\n",
              "  </style>\n",
              "\n",
              "      <script>\n",
              "        const buttonEl =\n",
              "          document.querySelector('#df-baaae44b-0c27-47cb-b262-9202f21e3ee6 button.colab-df-convert');\n",
              "        buttonEl.style.display =\n",
              "          google.colab.kernel.accessAllowed ? 'block' : 'none';\n",
              "\n",
              "        async function convertToInteractive(key) {\n",
              "          const element = document.querySelector('#df-baaae44b-0c27-47cb-b262-9202f21e3ee6');\n",
              "          const dataTable =\n",
              "            await google.colab.kernel.invokeFunction('convertToInteractive',\n",
              "                                                     [key], {});\n",
              "          if (!dataTable) return;\n",
              "\n",
              "          const docLinkHtml = 'Like what you see? Visit the ' +\n",
              "            '<a target=\"_blank\" href=https://colab.research.google.com/notebooks/data_table.ipynb>data table notebook</a>'\n",
              "            + ' to learn more about interactive tables.';\n",
              "          element.innerHTML = '';\n",
              "          dataTable['output_type'] = 'display_data';\n",
              "          await google.colab.output.renderOutput(dataTable, element);\n",
              "          const docLink = document.createElement('div');\n",
              "          docLink.innerHTML = docLinkHtml;\n",
              "          element.appendChild(docLink);\n",
              "        }\n",
              "      </script>\n",
              "    </div>\n",
              "  </div>\n",
              "  "
            ]
          },
          "metadata": {},
          "execution_count": 24
        }
      ]
    },
    {
      "cell_type": "markdown",
      "source": [
        "###**군집별 핵심 단어 추출하기**\n",
        "\n",
        "- 각 군집을 구성하는 핵심 단어 확인\n",
        "- KMeans 객체의 clusters_centers_: 각 군집을 구성하는 단어 피처가 군집의 중심을 기준으로 얼마나 가깝게 위치해 있는지 \n",
        "  - 행은 개별 군집\n",
        "  - 열을 개별 피처\n",
        "  - 값은 개별 군집 내의 상대 위치를 숫자 값으로 나타낸 일종의 좌표"
      ],
      "metadata": {
        "id": "eFUFjVWIB7lA"
      }
    },
    {
      "cell_type": "code",
      "source": [
        "cluster_centers=km_cluster.cluster_centers_\n",
        "print('cluster centers shape: ', cluster_centers.shape)\n",
        "print(cluster_centers)"
      ],
      "metadata": {
        "colab": {
          "base_uri": "https://localhost:8080/"
        },
        "id": "HI1rIubYz5vy",
        "outputId": "71c09ab2-0b30-435c-d190-87b9a38df352"
      },
      "execution_count": 25,
      "outputs": [
        {
          "output_type": "stream",
          "name": "stdout",
          "text": [
            "cluster centers shape:  (3, 4611)\n",
            "[[0.01005322 0.         0.         ... 0.00706287 0.         0.        ]\n",
            " [0.         0.00099499 0.00174637 ... 0.         0.00183397 0.00144581]\n",
            " [0.         0.00092551 0.         ... 0.         0.         0.        ]]\n"
          ]
        }
      ]
    },
    {
      "cell_type": "markdown",
      "source": [
        "군집이 3개 word 피처가 4611개\n",
        "- 1에 가까울수록 중심과 가까운 값"
      ],
      "metadata": {
        "id": "gYpAmAIWLVMZ"
      }
    },
    {
      "cell_type": "code",
      "source": [
        "# 군집별 top n 핵심단어, 그 단어의 중심 위치 상대값, 대상 파일명들을 반환함. \n",
        "def get_cluster_details(cluster_model, cluster_data, feature_names, clusters_num, top_n_features=10):\n",
        "    cluster_details = {}\n",
        "    \n",
        "    # cluster_centers array 의 값이 큰 순으로 정렬된 index 값을 반환\n",
        "    # 군집 중심점(centroid)별 할당된 word 피처들의 거리값이 큰 순으로 값을 구하기 위함.  \n",
        "    centroid_feature_ordered_ind = cluster_model.cluster_centers_.argsort()[:,::-1]\n",
        "    \n",
        "    #개별 군집별로 iteration하면서 핵심단어, 그 단어의 중심 위치 상대값, 대상 파일명 입력\n",
        "    for cluster_num in range(clusters_num):\n",
        "        # 개별 군집별 정보를 담을 데이터 초기화. \n",
        "        cluster_details[cluster_num] = {}\n",
        "        cluster_details[cluster_num]['cluster'] = cluster_num\n",
        "        \n",
        "        # cluster_centers_.argsort()[:,::-1] 로 구한 index 를 이용하여 top n 피처 단어를 구함. \n",
        "        top_feature_indexes = centroid_feature_ordered_ind[cluster_num, :top_n_features]\n",
        "        top_features = [ feature_names[ind] for ind in top_feature_indexes ]\n",
        "        \n",
        "        # top_feature_indexes를 이용해 해당 피처 단어의 중심 위치 상댓값 구함 \n",
        "        top_feature_values = cluster_model.cluster_centers_[cluster_num, top_feature_indexes].tolist()\n",
        "        \n",
        "        # cluster_details 딕셔너리 객체에 개별 군집별 핵심 단어와 중심위치 상대값, 그리고 해당 파일명 입력\n",
        "        cluster_details[cluster_num]['top_features'] = top_features\n",
        "        cluster_details[cluster_num]['top_features_value'] = top_feature_values\n",
        "        filenames = cluster_data[cluster_data['cluster_label'] == cluster_num]['filename']\n",
        "        filenames = filenames.values.tolist()\n",
        "        cluster_details[cluster_num]['filenames'] = filenames\n",
        "        \n",
        "    return cluster_details"
      ],
      "metadata": {
        "id": "RMMSioszz5pn"
      },
      "execution_count": 26,
      "outputs": []
    },
    {
      "cell_type": "markdown",
      "source": [
        "get_cluster_details()를 호출하면 dictionary를 원소로 가지는 리스트인 cluster_details를 반환"
      ],
      "metadata": {
        "id": "s2tPQv3EL6aI"
      }
    },
    {
      "cell_type": "code",
      "source": [
        "def print_cluster_details(cluster_details):\n",
        "    for cluster_num, cluster_detail in cluster_details.items():\n",
        "        print('####### Cluster {0}'.format(cluster_num))\n",
        "        print('Top features:', cluster_detail['top_features'])\n",
        "        print('Reviews 파일명 :',cluster_detail['filenames'][:7])\n",
        "        print('==================================================')"
      ],
      "metadata": {
        "id": "UWEFxNR7z5V5"
      },
      "execution_count": 27,
      "outputs": []
    },
    {
      "cell_type": "code",
      "source": [
        "feature_names=tfidf_vect.get_feature_names_out()\n",
        "\n",
        "cluster_details=get_cluster_details(cluster_model=km_cluster, cluster_data=document_df,\n",
        "                                    feature_names=feature_names, clusters_num=3, top_n_features=10)\n",
        "print_cluster_details(cluster_details)"
      ],
      "metadata": {
        "colab": {
          "base_uri": "https://localhost:8080/"
        },
        "id": "RFZeNIIpz5Fu",
        "outputId": "754998bb-9b76-4915-9582-feafdbed53be"
      },
      "execution_count": 29,
      "outputs": [
        {
          "output_type": "stream",
          "name": "stdout",
          "text": [
            "####### Cluster 0\n",
            "Top features: ['screen', 'battery', 'keyboard', 'battery life', 'life', 'kindle', 'direction', 'video', 'size', 'voice']\n",
            "Reviews 파일명 : ['accuracy_garmin_nuvi_255W_gps', 'display_garmin_nuvi_255W_gps', 'screen_netbook_1005ha', 'fonts_amazon_kindle', 'updates_garmin_nuvi_255W_gps', 'speed_garmin_nuvi_255W_gps', 'performance_netbook_1005ha']\n",
            "==================================================\n",
            "####### Cluster 1\n",
            "Top features: ['room', 'hotel', 'service', 'staff', 'food', 'location', 'bathroom', 'clean', 'price', 'parking']\n",
            "Reviews 파일명 : ['room_holiday_inn_london', 'service_holiday_inn_london', 'location_bestwestern_hotel_sfo', 'staff_swissotel_chicago', 'price_holiday_inn_london', 'rooms_bestwestern_hotel_sfo', 'food_swissotel_chicago']\n",
            "==================================================\n",
            "####### Cluster 2\n",
            "Top features: ['interior', 'seat', 'mileage', 'comfortable', 'gas', 'gas mileage', 'transmission', 'car', 'performance', 'quality']\n",
            "Reviews 파일명 : ['transmission_toyota_camry_2007', 'interior_toyota_camry_2007', 'mileage_honda_accord_2008', 'quality_toyota_camry_2007', 'gas_mileage_toyota_camry_2007', 'comfort_toyota_camry_2007', 'performance_honda_accord_2008']\n",
            "==================================================\n"
          ]
        }
      ]
    },
    {
      "cell_type": "markdown",
      "source": [
        "\n",
        "\n",
        "> p.544~561\n",
        "\n",
        "## **10 텍스트 분석 실습 - 캐글 Mercari Price Suggestion Challenge**\n",
        "\n",
        "- train_id: 데이터 id\n",
        "- name: 제품명\n",
        "- item_condition_id: 판매자가 제공하는 제품 상태\n",
        "- category_name: 카테고리 명\n",
        "- brand_name: 브랜드 이름\n",
        "- price: 제품 가격, 예측을 위한 타깃 속성\n",
        "- shipping: 배송지 무료 여부, 1이면 무료, 0이면 유료\n",
        "- item_description: 제품에 대한 설명\n",
        "\n",
        "<br>\n",
        "\n",
        "회귀로 피처를 학습한 뒤 price를 예측하는 문제\n",
        "\n",
        "<br>\n",
        "\n",
        "###**데이터 전처리**\n"
      ],
      "metadata": {
        "id": "zGAmmqamMf3b"
      }
    },
    {
      "cell_type": "code",
      "execution_count": 1,
      "metadata": {
        "id": "F1sXvrEtdZWe",
        "colab": {
          "base_uri": "https://localhost:8080/",
          "height": 309
        },
        "outputId": "4f181fe2-629e-4bfb-9ac8-63f6d84dbfa1"
      },
      "outputs": [
        {
          "output_type": "stream",
          "name": "stdout",
          "text": [
            "(1482535, 8)\n"
          ]
        },
        {
          "output_type": "execute_result",
          "data": {
            "text/plain": [
              "   train_id                                 name  item_condition_id  \\\n",
              "0         0  MLB Cincinnati Reds T Shirt Size XL                  3   \n",
              "1         1     Razer BlackWidow Chroma Keyboard                  3   \n",
              "2         2                       AVA-VIV Blouse                  1   \n",
              "\n",
              "                                       category_name brand_name  price  \\\n",
              "0                                  Men/Tops/T-shirts        NaN   10.0   \n",
              "1  Electronics/Computers & Tablets/Components & P...      Razer   52.0   \n",
              "2                        Women/Tops & Blouses/Blouse     Target   10.0   \n",
              "\n",
              "   shipping                                   item_description  \n",
              "0         1                                 No description yet  \n",
              "1         0  This keyboard is in great condition and works ...  \n",
              "2         1  Adorable top with a hint of lace and a key hol...  "
            ],
            "text/html": [
              "\n",
              "  <div id=\"df-560022f4-4e49-4180-b28e-e942a3bcd474\">\n",
              "    <div class=\"colab-df-container\">\n",
              "      <div>\n",
              "<style scoped>\n",
              "    .dataframe tbody tr th:only-of-type {\n",
              "        vertical-align: middle;\n",
              "    }\n",
              "\n",
              "    .dataframe tbody tr th {\n",
              "        vertical-align: top;\n",
              "    }\n",
              "\n",
              "    .dataframe thead th {\n",
              "        text-align: right;\n",
              "    }\n",
              "</style>\n",
              "<table border=\"1\" class=\"dataframe\">\n",
              "  <thead>\n",
              "    <tr style=\"text-align: right;\">\n",
              "      <th></th>\n",
              "      <th>train_id</th>\n",
              "      <th>name</th>\n",
              "      <th>item_condition_id</th>\n",
              "      <th>category_name</th>\n",
              "      <th>brand_name</th>\n",
              "      <th>price</th>\n",
              "      <th>shipping</th>\n",
              "      <th>item_description</th>\n",
              "    </tr>\n",
              "  </thead>\n",
              "  <tbody>\n",
              "    <tr>\n",
              "      <th>0</th>\n",
              "      <td>0</td>\n",
              "      <td>MLB Cincinnati Reds T Shirt Size XL</td>\n",
              "      <td>3</td>\n",
              "      <td>Men/Tops/T-shirts</td>\n",
              "      <td>NaN</td>\n",
              "      <td>10.0</td>\n",
              "      <td>1</td>\n",
              "      <td>No description yet</td>\n",
              "    </tr>\n",
              "    <tr>\n",
              "      <th>1</th>\n",
              "      <td>1</td>\n",
              "      <td>Razer BlackWidow Chroma Keyboard</td>\n",
              "      <td>3</td>\n",
              "      <td>Electronics/Computers &amp; Tablets/Components &amp; P...</td>\n",
              "      <td>Razer</td>\n",
              "      <td>52.0</td>\n",
              "      <td>0</td>\n",
              "      <td>This keyboard is in great condition and works ...</td>\n",
              "    </tr>\n",
              "    <tr>\n",
              "      <th>2</th>\n",
              "      <td>2</td>\n",
              "      <td>AVA-VIV Blouse</td>\n",
              "      <td>1</td>\n",
              "      <td>Women/Tops &amp; Blouses/Blouse</td>\n",
              "      <td>Target</td>\n",
              "      <td>10.0</td>\n",
              "      <td>1</td>\n",
              "      <td>Adorable top with a hint of lace and a key hol...</td>\n",
              "    </tr>\n",
              "  </tbody>\n",
              "</table>\n",
              "</div>\n",
              "      <button class=\"colab-df-convert\" onclick=\"convertToInteractive('df-560022f4-4e49-4180-b28e-e942a3bcd474')\"\n",
              "              title=\"Convert this dataframe to an interactive table.\"\n",
              "              style=\"display:none;\">\n",
              "        \n",
              "  <svg xmlns=\"http://www.w3.org/2000/svg\" height=\"24px\"viewBox=\"0 0 24 24\"\n",
              "       width=\"24px\">\n",
              "    <path d=\"M0 0h24v24H0V0z\" fill=\"none\"/>\n",
              "    <path d=\"M18.56 5.44l.94 2.06.94-2.06 2.06-.94-2.06-.94-.94-2.06-.94 2.06-2.06.94zm-11 1L8.5 8.5l.94-2.06 2.06-.94-2.06-.94L8.5 2.5l-.94 2.06-2.06.94zm10 10l.94 2.06.94-2.06 2.06-.94-2.06-.94-.94-2.06-.94 2.06-2.06.94z\"/><path d=\"M17.41 7.96l-1.37-1.37c-.4-.4-.92-.59-1.43-.59-.52 0-1.04.2-1.43.59L10.3 9.45l-7.72 7.72c-.78.78-.78 2.05 0 2.83L4 21.41c.39.39.9.59 1.41.59.51 0 1.02-.2 1.41-.59l7.78-7.78 2.81-2.81c.8-.78.8-2.07 0-2.86zM5.41 20L4 18.59l7.72-7.72 1.47 1.35L5.41 20z\"/>\n",
              "  </svg>\n",
              "      </button>\n",
              "      \n",
              "  <style>\n",
              "    .colab-df-container {\n",
              "      display:flex;\n",
              "      flex-wrap:wrap;\n",
              "      gap: 12px;\n",
              "    }\n",
              "\n",
              "    .colab-df-convert {\n",
              "      background-color: #E8F0FE;\n",
              "      border: none;\n",
              "      border-radius: 50%;\n",
              "      cursor: pointer;\n",
              "      display: none;\n",
              "      fill: #1967D2;\n",
              "      height: 32px;\n",
              "      padding: 0 0 0 0;\n",
              "      width: 32px;\n",
              "    }\n",
              "\n",
              "    .colab-df-convert:hover {\n",
              "      background-color: #E2EBFA;\n",
              "      box-shadow: 0px 1px 2px rgba(60, 64, 67, 0.3), 0px 1px 3px 1px rgba(60, 64, 67, 0.15);\n",
              "      fill: #174EA6;\n",
              "    }\n",
              "\n",
              "    [theme=dark] .colab-df-convert {\n",
              "      background-color: #3B4455;\n",
              "      fill: #D2E3FC;\n",
              "    }\n",
              "\n",
              "    [theme=dark] .colab-df-convert:hover {\n",
              "      background-color: #434B5C;\n",
              "      box-shadow: 0px 1px 3px 1px rgba(0, 0, 0, 0.15);\n",
              "      filter: drop-shadow(0px 1px 2px rgba(0, 0, 0, 0.3));\n",
              "      fill: #FFFFFF;\n",
              "    }\n",
              "  </style>\n",
              "\n",
              "      <script>\n",
              "        const buttonEl =\n",
              "          document.querySelector('#df-560022f4-4e49-4180-b28e-e942a3bcd474 button.colab-df-convert');\n",
              "        buttonEl.style.display =\n",
              "          google.colab.kernel.accessAllowed ? 'block' : 'none';\n",
              "\n",
              "        async function convertToInteractive(key) {\n",
              "          const element = document.querySelector('#df-560022f4-4e49-4180-b28e-e942a3bcd474');\n",
              "          const dataTable =\n",
              "            await google.colab.kernel.invokeFunction('convertToInteractive',\n",
              "                                                     [key], {});\n",
              "          if (!dataTable) return;\n",
              "\n",
              "          const docLinkHtml = 'Like what you see? Visit the ' +\n",
              "            '<a target=\"_blank\" href=https://colab.research.google.com/notebooks/data_table.ipynb>data table notebook</a>'\n",
              "            + ' to learn more about interactive tables.';\n",
              "          element.innerHTML = '';\n",
              "          dataTable['output_type'] = 'display_data';\n",
              "          await google.colab.output.renderOutput(dataTable, element);\n",
              "          const docLink = document.createElement('div');\n",
              "          docLink.innerHTML = docLinkHtml;\n",
              "          element.appendChild(docLink);\n",
              "        }\n",
              "      </script>\n",
              "    </div>\n",
              "  </div>\n",
              "  "
            ]
          },
          "metadata": {},
          "execution_count": 1
        }
      ],
      "source": [
        "from sklearn.linear_model import Ridge, LogisticRegression\n",
        "from sklearn.model_selection import train_test_split, cross_val_score\n",
        "from sklearn.feature_extraction.text import CountVectorizer, TfidfVectorizer\n",
        "import pandas as pd\n",
        "\n",
        "mercari_df=pd.read_csv('/train.tsv', sep='\\t')\n",
        "print(mercari_df.shape)\n",
        "mercari_df.head(3)"
      ]
    },
    {
      "cell_type": "code",
      "source": [
        "print(mercari_df.info())"
      ],
      "metadata": {
        "colab": {
          "base_uri": "https://localhost:8080/"
        },
        "id": "gD_XaXk8Qxgx",
        "outputId": "0a36edc2-e871-44b2-d137-7a4da55919e8"
      },
      "execution_count": 2,
      "outputs": [
        {
          "output_type": "stream",
          "name": "stdout",
          "text": [
            "<class 'pandas.core.frame.DataFrame'>\n",
            "RangeIndex: 1482535 entries, 0 to 1482534\n",
            "Data columns (total 8 columns):\n",
            " #   Column             Non-Null Count    Dtype  \n",
            "---  ------             --------------    -----  \n",
            " 0   train_id           1482535 non-null  int64  \n",
            " 1   name               1482535 non-null  object \n",
            " 2   item_condition_id  1482535 non-null  int64  \n",
            " 3   category_name      1476208 non-null  object \n",
            " 4   brand_name         849853 non-null   object \n",
            " 5   price              1482535 non-null  float64\n",
            " 6   shipping           1482535 non-null  int64  \n",
            " 7   item_description   1482531 non-null  object \n",
            "dtypes: float64(1), int64(3), object(4)\n",
            "memory usage: 90.5+ MB\n",
            "None\n"
          ]
        }
      ]
    },
    {
      "cell_type": "markdown",
      "source": [
        "- brand_name 칼럼은 매우 많은 Null 값을 가짐\n",
        "- category_name은 6300건의 null 데이터\n",
        "\n",
        "<br>\n",
        "\n",
        "- price 칼럼의 데이터 분포도 살펴보기"
      ],
      "metadata": {
        "id": "616B21WjQ1o8"
      }
    },
    {
      "cell_type": "code",
      "source": [
        "import matplotlib.pyplot as plt\n",
        "import seaborn as sns\n",
        "%matplotlib inline\n",
        "\n",
        "y_train_df=mercari_df['price']\n",
        "plt.figure(figsize=(6,4))\n",
        "sns.distplot(y_train_df, kde=False)"
      ],
      "metadata": {
        "colab": {
          "base_uri": "https://localhost:8080/",
          "height": 611
        },
        "id": "AvyrQ3SJQxeS",
        "outputId": "2d7fe5b5-7f41-4971-8205-9b705c7bd289"
      },
      "execution_count": 3,
      "outputs": [
        {
          "output_type": "stream",
          "name": "stderr",
          "text": [
            "<ipython-input-3-72074963b582>:7: UserWarning: \n",
            "\n",
            "`distplot` is a deprecated function and will be removed in seaborn v0.14.0.\n",
            "\n",
            "Please adapt your code to use either `displot` (a figure-level function with\n",
            "similar flexibility) or `histplot` (an axes-level function for histograms).\n",
            "\n",
            "For a guide to updating your code to use the new functions, please see\n",
            "https://gist.github.com/mwaskom/de44147ed2974457ad6372750bbe5751\n",
            "\n",
            "  sns.distplot(y_train_df, kde=False)\n"
          ]
        },
        {
          "output_type": "execute_result",
          "data": {
            "text/plain": [
              "<Axes: xlabel='price'>"
            ]
          },
          "metadata": {},
          "execution_count": 3
        },
        {
          "output_type": "display_data",
          "data": {
            "text/plain": [
              "<Figure size 600x400 with 1 Axes>"
            ],
            "image/png": "[encoded data removed]"
          },
          "metadata": {}
        }
      ]
    },
    {
      "cell_type": "markdown",
      "source": [
        "- price 값이 비교적 적은 가격을 가진 데이터 값에 왜곡돼 분포\n",
        "- 로그 값으로 변환한 뒤 분포도를 살펴보기"
      ],
      "metadata": {
        "id": "SuFZdKMeRlp4"
      }
    },
    {
      "cell_type": "code",
      "source": [
        "import numpy as np\n",
        "\n",
        "y_train_df=np.log1p(y_train_df)\n",
        "sns.distplot(y_train_df, kde=False)"
      ],
      "metadata": {
        "colab": {
          "base_uri": "https://localhost:8080/",
          "height": 657
        },
        "id": "JRnKvfilQxbi",
        "outputId": "bad8dcde-9bdb-4892-f545-6afca9da107c"
      },
      "execution_count": 4,
      "outputs": [
        {
          "output_type": "stream",
          "name": "stderr",
          "text": [
            "<ipython-input-4-b9b62dbb1352>:4: UserWarning: \n",
            "\n",
            "`distplot` is a deprecated function and will be removed in seaborn v0.14.0.\n",
            "\n",
            "Please adapt your code to use either `displot` (a figure-level function with\n",
            "similar flexibility) or `histplot` (an axes-level function for histograms).\n",
            "\n",
            "For a guide to updating your code to use the new functions, please see\n",
            "https://gist.github.com/mwaskom/de44147ed2974457ad6372750bbe5751\n",
            "\n",
            "  sns.distplot(y_train_df, kde=False)\n"
          ]
        },
        {
          "output_type": "execute_result",
          "data": {
            "text/plain": [
              "<Axes: xlabel='price'>"
            ]
          },
          "metadata": {},
          "execution_count": 4
        },
        {
          "output_type": "display_data",
          "data": {
            "text/plain": [
              "<Figure size 640x480 with 1 Axes>"
            ],
            "image/png": "[encoded data removed]"
          },
          "metadata": {}
        }
      ]
    },
    {
      "cell_type": "markdown",
      "source": [
        "- 로그 값으로 변환하면 price 값이 비교적 정규 분포에 가까움"
      ],
      "metadata": {
        "id": "DgDooH5fR6R2"
      }
    },
    {
      "cell_type": "code",
      "source": [
        "mercari_df['price']=np.log1p(mercari_df['price'])\n",
        "mercari_df['price'].head(3)"
      ],
      "metadata": {
        "colab": {
          "base_uri": "https://localhost:8080/"
        },
        "id": "gq5PFrkHQxZ0",
        "outputId": "21b26fab-3bf8-41a8-f19e-17c9a5854c97"
      },
      "execution_count": 5,
      "outputs": [
        {
          "output_type": "execute_result",
          "data": {
            "text/plain": [
              "0    2.397895\n",
              "1    3.970292\n",
              "2    2.397895\n",
              "Name: price, dtype: float64"
            ]
          },
          "metadata": {},
          "execution_count": 5
        }
      ]
    },
    {
      "cell_type": "code",
      "source": [
        "print('Shipping 값 유형:\\n', mercari_df['shipping'].value_counts())\n",
        "print('item_condition_id 값 유형:\\n', mercari_df['item_condition_id'].value_counts())"
      ],
      "metadata": {
        "colab": {
          "base_uri": "https://localhost:8080/"
        },
        "id": "VCPPHZN2QxZA",
        "outputId": "386e2410-a617-4760-eed9-4897c964298e"
      },
      "execution_count": 6,
      "outputs": [
        {
          "output_type": "stream",
          "name": "stdout",
          "text": [
            "Shipping 값 유형:\n",
            " 0    819435\n",
            "1    663100\n",
            "Name: shipping, dtype: int64\n",
            "item_condition_id 값 유형:\n",
            " 1    640549\n",
            "3    432161\n",
            "2    375479\n",
            "4     31962\n",
            "5      2384\n",
            "Name: item_condition_id, dtype: int64\n"
          ]
        }
      ]
    },
    {
      "cell_type": "markdown",
      "source": [
        "- Shipping 칼럼은 배송비 유무이며, 값이 비교적 균일\n",
        "\n",
        "<br>\n",
        "\n",
        "- item_description 칼럼은 Null 값은 별로 없지만, description에 대한 별도 설명이 없는 경우 Mo description yet' 값으로 되어 있음"
      ],
      "metadata": {
        "id": "XV42q4IsSvl1"
      }
    },
    {
      "cell_type": "code",
      "source": [
        "boolean_cond=mercari_df['item_description']=='No description yet'\n",
        "mercari_df[boolean_cond]['item_description'].count()"
      ],
      "metadata": {
        "colab": {
          "base_uri": "https://localhost:8080/"
        },
        "id": "jbTBU-llQxQ1",
        "outputId": "fed8b790-1979-4fd4-97f8-c256e8088dab"
      },
      "execution_count": 7,
      "outputs": [
        {
          "output_type": "execute_result",
          "data": {
            "text/plain": [
              "82489"
            ]
          },
          "metadata": {},
          "execution_count": 7
        }
      ]
    },
    {
      "cell_type": "markdown",
      "source": [
        "- item_description의 Null 값이 매우 많으므로 적절한 값으로 변경 \n",
        "\n",
        "<br>\n",
        "\n",
        "- category_name은 '/'로 분리된 카테고리를 하나의 문자열로 나타냄\n",
        "  - / 를 기준으로 단어를 토큰화해 각각 별도의 피처로 저장\n",
        "  - Null일 경우는 모두 'Other Null'"
      ],
      "metadata": {
        "id": "nag-wcWmT78k"
      }
    },
    {
      "cell_type": "markdown",
      "source": [
        "- brand_name, category_name, item_description 칼럼의 Null 값은 일괄적으로 'Other Null'로 변경"
      ],
      "metadata": {
        "id": "YHvm4QU6VhdP"
      }
    },
    {
      "cell_type": "code",
      "source": [
        "def split_cat(category_name):\n",
        "    try:\n",
        "        return category_name.split('/')\n",
        "    except:\n",
        "        return ['Other_Null' , 'Other_Null' , 'Other_Null']\n",
        "\n",
        "# 위의 split_cat( )을 apply lambda에서 호출하여 대,중,소 컬럼을 mercari_df에 생성. \n",
        "mercari_df['cat_dae'], mercari_df['cat_jung'], mercari_df['cat_so'] = \\\n",
        "                        zip(*mercari_df['category_name'].apply(lambda x : split_cat(x)))\n",
        "\n",
        "# 대분류만 값의 유형과 건수를 살펴보고, 중분류, 소분류는 값의 유형이 많으므로 분류 갯수만 추출\n",
        "print('대분류 유형 :\\n', mercari_df['cat_dae'].value_counts())\n",
        "print('중분류 갯수 :', mercari_df['cat_jung'].nunique())\n",
        "print('소분류 갯수 :', mercari_df['cat_so'].nunique())"
      ],
      "metadata": {
        "colab": {
          "base_uri": "https://localhost:8080/"
        },
        "id": "-awN6uvp0fWY",
        "outputId": "5578c104-2bee-49f8-81d9-ba2f5eaa9c58"
      },
      "execution_count": 8,
      "outputs": [
        {
          "output_type": "stream",
          "name": "stdout",
          "text": [
            "대분류 유형 :\n",
            " Women                     664385\n",
            "Beauty                    207828\n",
            "Kids                      171689\n",
            "Electronics               122690\n",
            "Men                        93680\n",
            "Home                       67871\n",
            "Vintage & Collectibles     46530\n",
            "Other                      45351\n",
            "Handmade                   30842\n",
            "Sports & Outdoors          25342\n",
            "Other_Null                  6327\n",
            "Name: cat_dae, dtype: int64\n",
            "중분류 갯수 : 114\n",
            "소분류 갯수 : 871\n"
          ]
        }
      ]
    },
    {
      "cell_type": "code",
      "source": [
        "mercari_df['brand_name']=mercari_df['brand_name'].fillna(value='Other_Null')\n",
        "mercari_df['category_name']=mercari_df['category_name'].fillna(value='Other_Null')\n",
        "mercari_df['item_description']=mercari_df['item_description'].fillna(value='Other_Null')"
      ],
      "metadata": {
        "id": "l5TsL01UUZww"
      },
      "execution_count": 9,
      "outputs": []
    },
    {
      "cell_type": "code",
      "source": [
        "mercari_df.isnull().sum()"
      ],
      "metadata": {
        "colab": {
          "base_uri": "https://localhost:8080/"
        },
        "id": "PKcnAulnye3W",
        "outputId": "39068d4a-4d67-4921-d293-81d8361a3d25"
      },
      "execution_count": 10,
      "outputs": [
        {
          "output_type": "execute_result",
          "data": {
            "text/plain": [
              "train_id             0\n",
              "name                 0\n",
              "item_condition_id    0\n",
              "category_name        0\n",
              "brand_name           0\n",
              "price                0\n",
              "shipping             0\n",
              "item_description     0\n",
              "cat_dae              0\n",
              "cat_jung             0\n",
              "cat_so               0\n",
              "dtype: int64"
            ]
          },
          "metadata": {},
          "execution_count": 10
        }
      ]
    },
    {
      "cell_type": "markdown",
      "source": [
        "###**피처 인코딩과 피처 벡터화**\n",
        "\n",
        "- Mercari Price Suggestion에 이용되는 데이터 세트는 문자열 칼럼이 많음\n",
        "- 상품 가격을 예측해야 하므로 회귀 모델을 기반으로 해야 함\n",
        "  - 선형 회귀의 경우 원-핫 인코딩 적용이 훨씬 선호 됨\n",
        "- 피처 백터화의 경우는 비교적 짧은 텍스트의 경우는 Count 기반, 긴 텍스트는 TD-IDF 기반의 벡터화 적용\n",
        "\n",
        "<br>\n",
        "\n",
        "- **brand_name**: 상품의 브랜드명"
      ],
      "metadata": {
        "id": "42kyxCAYWGpa"
      }
    },
    {
      "cell_type": "code",
      "source": [
        "print('brand name의 유형 건수 :', mercari_df['brand_name'].unique())\n",
        "print('brand name sample 5건 : \\n', mercari_df['brand_name'].value_counts()[:5])"
      ],
      "metadata": {
        "colab": {
          "base_uri": "https://localhost:8080/"
        },
        "id": "26AvTNIKUZvI",
        "outputId": "b1fca59d-6ed0-4da8-9fb9-9774b02cedc3"
      },
      "execution_count": 11,
      "outputs": [
        {
          "output_type": "stream",
          "name": "stdout",
          "text": [
            "brand name의 유형 건수 : ['Other_Null' 'Razer' 'Target' ... 'Astroglide' 'Cumberland Bay'\n",
            " 'Kids Only']\n",
            "brand name sample 5건 : \n",
            " Other_Null           632682\n",
            "PINK                  54088\n",
            "Nike                  54043\n",
            "Victoria's Secret     48036\n",
            "LuLaRoe               31024\n",
            "Name: brand_name, dtype: int64\n"
          ]
        }
      ]
    },
    {
      "cell_type": "markdown",
      "source": [
        "- brand_name의 경우 대부분 명료한 문자열로 되어 있으므로 원-핫 인코딩으로 변환\n",
        "\n",
        "<br>\n",
        "\n",
        "- **name**: 상품명"
      ],
      "metadata": {
        "id": "Nc6FSxgsXbSl"
      }
    },
    {
      "cell_type": "code",
      "source": [
        "print('name의 유형 건수 :', mercari_df['name'].unique())\n",
        "print('name sample 10건 : \\n', mercari_df['name'].value_counts()[:10])"
      ],
      "metadata": {
        "colab": {
          "base_uri": "https://localhost:8080/"
        },
        "id": "YjkTp8UNUZuS",
        "outputId": "13e1857b-47c0-4438-ffdc-16ac8a361108"
      },
      "execution_count": 12,
      "outputs": [
        {
          "output_type": "stream",
          "name": "stdout",
          "text": [
            "name의 유형 건수 : ['MLB Cincinnati Reds T Shirt Size XL' 'Razer BlackWidow Chroma Keyboard'\n",
            " 'AVA-VIV Blouse' ... '21 day fix containers and eating plan'\n",
            " 'World markets lanterns' 'Brand new lux de ville wallet']\n",
            "name sample 10건 : \n",
            " Bundle                 2232\n",
            "Reserved                453\n",
            "Converse                445\n",
            "BUNDLE                  418\n",
            "Dress                   410\n",
            "Coach purse             404\n",
            "Lularoe TC leggings     396\n",
            "Romper                  353\n",
            "Nike                    340\n",
            "Vans                    334\n",
            "Name: name, dtype: int64\n"
          ]
        }
      ]
    },
    {
      "cell_type": "markdown",
      "source": [
        "name 속성의 경우 종류가 매우 많으며 고유한 상품명을 가지고 있으므로 Count 기반으로 피처 벡터화 변환\n",
        "\n",
        "<br>\n",
        "\n",
        "- category_name: 세 개의 칼럼으로 분리한 후 원-핫 인코딩\n",
        "- shipping 칼럼은 배송비 무료 여부, item_condition_id는 상품 상태로서 다섯 가지 유형의 값: 모두 원-핫 인코딩\n",
        "- item_description: 가장 긴 텍스트"
      ],
      "metadata": {
        "id": "nGYOmNUzZWpl"
      }
    },
    {
      "cell_type": "code",
      "source": [
        "pd.set_option('max_colwidth', 200)\n",
        "\n",
        "# item_description의 평균 문자열 개수\n",
        "print('item_description 평균 문자열 개수:',mercari_df['item_description'].str.len().mean())\n",
        "\n",
        "mercari_df['item_description'][:2]"
      ],
      "metadata": {
        "colab": {
          "base_uri": "https://localhost:8080/"
        },
        "id": "Y4FivR8rUZrh",
        "outputId": "32676f6c-192a-4b20-b377-38e17c07e0c8"
      },
      "execution_count": 13,
      "outputs": [
        {
          "output_type": "stream",
          "name": "stdout",
          "text": [
            "item_description 평균 문자열 개수: 145.7113889385411\n"
          ]
        },
        {
          "output_type": "execute_result",
          "data": {
            "text/plain": [
              "0                                                                                                                                                                              No description yet\n",
              "1    This keyboard is in great condition and works like it came out of the box. All of the ports are tested and work perfectly. The lights are customizable via the Razer Synapse app on your PC.\n",
              "Name: item_description, dtype: object"
            ]
          },
          "metadata": {},
          "execution_count": 13
        }
      ]
    },
    {
      "cell_type": "markdown",
      "source": [
        "평균 문자열이 145자로 비교적 크므로 해당 칼럼은 TF-IDF로 변환\n",
        "- name과 item_description 칼럼을 피처 벡터화\n",
        "- name: CountVectorizer\n",
        "- item_description: TfidfVectorizer로 변환\n"
      ],
      "metadata": {
        "id": "XzXTJgL8aKZv"
      }
    },
    {
      "cell_type": "code",
      "source": [
        "cnt_vec=CountVectorizer()\n",
        "X_name=cnt_vec.fit_transform(mercari_df.name)\n",
        "\n",
        "tfidf_descp=TfidfVectorizer(max_features=50000, ngram_range=(1,3), stop_words='english')\n",
        "X_descp=tfidf_descp.fit_transform(mercari_df['item_description'])\n",
        "\n",
        "print('name vectorization shape:', X_name.shape)\n",
        "print('item_description vectorization shape:', X_descp.shape)"
      ],
      "metadata": {
        "colab": {
          "base_uri": "https://localhost:8080/"
        },
        "id": "tq2wEq5BaK64",
        "outputId": "6ab5ebaa-77e9-4703-8c77-678d4e61e80a"
      },
      "execution_count": 14,
      "outputs": [
        {
          "output_type": "stream",
          "name": "stdout",
          "text": [
            "name vectorization shape: (1482535, 105757)\n",
            "item_description vectorization shape: (1482535, 50000)\n"
          ]
        }
      ]
    },
    {
      "cell_type": "markdown",
      "source": [
        "CountVectorizer, TfidfVectorizer가 fit_transform으로 반환하는 데이터는 희소 행렬 형태\n",
        "- 희소 행렬 객체 변수인 X_name, X_descp를 결합해 새로운 데이터 세트로 구성하고 다른 변수들도 ML 모델을 실행하는 기반 데이터 세트로 재구성 되어야 함\n"
      ],
      "metadata": {
        "id": "ssjRm-0de82P"
      }
    },
    {
      "cell_type": "markdown",
      "source": [
        "![image.png](data:image/png;base64,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)"
      ],
      "metadata": {
        "id": "pgGJsjcHfZ5T"
      }
    },
    {
      "cell_type": "markdown",
      "source": [
        "- 모든 인코딩 대상 칼럼은 LabelBinarizer를 이용해 희소 행렬 형태의 원-핫 인코딩\n",
        "- 개별 칼럼으로 만들어진 희소 행렬은 사이파이 패키지 sparse 모듈의 hstack( ) 함수를 이용해 결합"
      ],
      "metadata": {
        "id": "_KAXnpiifZ4G"
      }
    },
    {
      "cell_type": "code",
      "source": [
        "from sklearn.preprocessing import LabelBinarizer\n",
        "\n",
        "# brand_name, item_condition_id, shipping 각 피처들을 희소 행렬 원-핫 인코딩 변환\n",
        "lb_brand_name= LabelBinarizer(sparse_output=True)\n",
        "X_brand = lb_brand_name.fit_transform(mercari_df['brand_name'])\n",
        "\n",
        "lb_item_cond_id = LabelBinarizer(sparse_output=True)\n",
        "X_item_cond_id = lb_item_cond_id.fit_transform(mercari_df['item_condition_id'])\n",
        "\n",
        "lb_shipping= LabelBinarizer(sparse_output=True)\n",
        "X_shipping = lb_shipping.fit_transform(mercari_df['shipping'])\n",
        "\n",
        "# cat_dae, cat_jung, cat_so 각 피처들을 희소 행렬 원-핫 인코딩 변환\n",
        "lb_cat_dae = LabelBinarizer(sparse_output=True)\n",
        "X_cat_dae= lb_cat_dae.fit_transform(mercari_df['cat_dae'])\n",
        "\n",
        "lb_cat_jung = LabelBinarizer(sparse_output=True)\n",
        "X_cat_jung = lb_cat_jung.fit_transform(mercari_df['cat_jung'])\n",
        "\n",
        "lb_cat_so = LabelBinarizer(sparse_output=True)\n",
        "X_cat_so = lb_cat_so.fit_transform(mercari_df['cat_so'])\n",
        "     "
      ],
      "metadata": {
        "id": "Cwb8eAs6aK5M"
      },
      "execution_count": 15,
      "outputs": []
    },
    {
      "cell_type": "code",
      "source": [
        "print(type(X_brand), type(X_item_cond_id), type(X_shipping))\n",
        "print('X_brand_shape:{0}, X_item_cond_id shape:{1}'.format(X_brand.shape, X_item_cond_id.shape))\n",
        "print('X_shipping shape:{0}, X_cat_dae shape:{1}'.format(X_shipping.shape, X_cat_dae.shape))\n",
        "print('X_cat_jung shape:{0}, X_cat_so shape:{1}'.format(X_cat_jung.shape, X_cat_so.shape))"
      ],
      "metadata": {
        "colab": {
          "base_uri": "https://localhost:8080/"
        },
        "id": "tK4OJkRyaK4P",
        "outputId": "801e0144-5d6e-4af8-a935-11271ae5a910"
      },
      "execution_count": 16,
      "outputs": [
        {
          "output_type": "stream",
          "name": "stdout",
          "text": [
            "<class 'scipy.sparse._csr.csr_matrix'> <class 'scipy.sparse._csr.csr_matrix'> <class 'scipy.sparse._csr.csr_matrix'>\n",
            "X_brand_shape:(1482535, 4810), X_item_cond_id shape:(1482535, 5)\n",
            "X_shipping shape:(1482535, 1), X_cat_dae shape:(1482535, 11)\n",
            "X_cat_jung shape:(1482535, 114), X_cat_so shape:(1482535, 871)\n"
          ]
        }
      ]
    },
    {
      "cell_type": "markdown",
      "source": [
        "- 인코딩 변환된 데이터 세트가 CSR 형태로 변환된 csr_matrix 타입\n",
        "\n",
        "<br>\n",
        "\n",
        "- hstack()을 이용해 모두 결합"
      ],
      "metadata": {
        "id": "l46pGFZFgshQ"
      }
    },
    {
      "cell_type": "code",
      "source": [
        "from scipy.sparse import hstack\n",
        "import gc\n",
        "\n",
        "sparse_matrix_list=(X_name, X_descp, X_brand, X_item_cond_id,\n",
        "                    X_shipping, X_cat_dae, X_cat_jung, X_cat_so)\n",
        "\n",
        "X_features_sparse=hstack(sparse_matrix_list).tocsr()\n",
        "print(type(X_features_sparse), X_features_sparse.shape)\n",
        "\n",
        "del X_features_sparse\n",
        "gc.collect()"
      ],
      "metadata": {
        "colab": {
          "base_uri": "https://localhost:8080/"
        },
        "id": "YIE3d4tOaK16",
        "outputId": "a15efa61-5a2b-407e-89b7-c6e35794b217"
      },
      "execution_count": 17,
      "outputs": [
        {
          "output_type": "stream",
          "name": "stdout",
          "text": [
            "<class 'scipy.sparse._csr.csr_matrix'> (1482535, 161569)\n"
          ]
        },
        {
          "output_type": "execute_result",
          "data": {
            "text/plain": [
              "0"
            ]
          },
          "metadata": {},
          "execution_count": 17
        }
      ]
    },
    {
      "cell_type": "markdown",
      "source": [
        "###**릿지 회귀 모델 구축 및 평가**\n",
        "\n",
        "- 어려 알고리즘 모델과 희소 행렬을 변환하고 예측 성능을 비교하면서 테스트를 수행할 것이므로 수행에 필요한 로직을 함수화\n",
        "- 평가 지표: RMSLE"
      ],
      "metadata": {
        "id": "6edWugQEhs3d"
      }
    },
    {
      "cell_type": "code",
      "source": [
        "def rmsle(y , y_pred):\n",
        "    # underflow, overflow를 막기 위해 log가 아닌 log1p로 rmsle 계산 \n",
        "    return np.sqrt(np.mean(np.power(np.log1p(y) - np.log1p(y_pred), 2)))\n",
        "\n",
        "def evaluate_org_price(y_test , preds): \n",
        "    \n",
        "    # 원본 데이터는 log1p로 변환되었으므로 exmpm1으로 원복 필요. \n",
        "    preds_exmpm = np.expm1(preds)\n",
        "    y_test_exmpm = np.expm1(y_test)\n",
        "    \n",
        "    # rmsle로 RMSLE 값 추출\n",
        "    rmsle_result = rmsle(y_test_exmpm, preds_exmpm)\n",
        "    return rmsle_result"
      ],
      "metadata": {
        "id": "Kxg3lHz0aKwc"
      },
      "execution_count": 18,
      "outputs": []
    },
    {
      "cell_type": "markdown",
      "source": [
        "평가 데이터 세트는 train_test_split()을 이용해 전체 데이터의 20%"
      ],
      "metadata": {
        "id": "Rm4fzcWDi0ac"
      }
    },
    {
      "cell_type": "code",
      "source": [
        "import gc \n",
        "from  scipy.sparse import hstack\n",
        "\n",
        "def model_train_predict(model,matrix_list):\n",
        "    # scipy.sparse 모듈의 hstack 을 이용하여 sparse matrix 결합\n",
        "    X= hstack(matrix_list).tocsr()     \n",
        "    \n",
        "    X_train, X_test, y_train, y_test=train_test_split(X, mercari_df['price'], \n",
        "                                                      test_size=0.2, random_state=156)\n",
        "    \n",
        "    # 모델 학습 및 예측\n",
        "    model.fit(X_train , y_train)\n",
        "    preds = model.predict(X_test)\n",
        "    \n",
        "    del X , X_train , X_test , y_train \n",
        "    gc.collect()\n",
        "    \n",
        "    return preds , y_test"
      ],
      "metadata": {
        "id": "kcw0rEsSaKvr"
      },
      "execution_count": 19,
      "outputs": []
    },
    {
      "cell_type": "markdown",
      "source": [
        "- Ridge를 이용해 회귀 예측 수행"
      ],
      "metadata": {
        "id": "PfZX-MKrjzS6"
      }
    },
    {
      "cell_type": "code",
      "source": [
        "linear_model = Ridge(solver = \"lsqr\", fit_intercept=False)\n",
        "\n",
        "sparse_matrix_list = (X_name, X_brand, X_item_cond_id,\n",
        "                      X_shipping, X_cat_dae, X_cat_jung, X_cat_so)\n",
        "linear_preds , y_test = model_train_predict(model=linear_model ,matrix_list=sparse_matrix_list)\n",
        "print('Item Description을 제외했을 때 rmsle 값:', evaluate_org_price(y_test , linear_preds))\n",
        "\n",
        "sparse_matrix_list = (X_descp, X_name, X_brand, X_item_cond_id,\n",
        "                      X_shipping, X_cat_dae, X_cat_jung, X_cat_so)\n",
        "linear_preds , y_test = model_train_predict(model=linear_model , matrix_list=sparse_matrix_list)\n",
        "print('Item Description을 포함한 rmsle 값:',  evaluate_org_price(y_test ,linear_preds))"
      ],
      "metadata": {
        "colab": {
          "base_uri": "https://localhost:8080/"
        },
        "id": "A_9heTSwaKls",
        "outputId": "548efbe2-8111-438b-fce7-777941ea5261"
      },
      "execution_count": 20,
      "outputs": [
        {
          "output_type": "stream",
          "name": "stdout",
          "text": [
            "Item Description을 제외했을 때 rmsle 값: 0.4983990938999374\n",
            "Item Description을 포함한 rmsle 값: 0.4680329023962086\n"
          ]
        }
      ]
    },
    {
      "cell_type": "markdown",
      "source": [
        "Item Description 영향이 중요함\n",
        "\n",
        "<br>\n",
        "\n",
        "###**LightGBM 회귀 모델 구축과 앙상블을 이용한 최종 예측 평가**\n"
      ],
      "metadata": {
        "id": "ElysbA_VkO4Z"
      }
    },
    {
      "cell_type": "code",
      "source": [
        "from lightgbm import LGBMRegressor\n",
        "\n",
        "sparse_matrix_list = (X_descp, X_name, X_brand, X_item_cond_id,\n",
        "                      X_shipping, X_cat_dae, X_cat_jung, X_cat_so)\n",
        "\n",
        "lgbm_model = LGBMRegressor(n_estimators=200, learning_rate=0.5, num_leaves=125, random_state=156)\n",
        "lgbm_preds , y_test = model_train_predict(model = lgbm_model , matrix_list=sparse_matrix_list)\n",
        "print('LightGBM rmsle 값:',  evaluate_org_price(y_test , lgbm_preds))"
      ],
      "metadata": {
        "id": "YbBRVQrgUZp8"
      },
      "execution_count": null,
      "outputs": []
    },
    {
      "cell_type": "code",
      "source": [
        "preds = lgbm_preds * 0.45 + linear_preds * 0.55\n",
        "print('LightGBM과 Ridge를 ensemble한 최종 rmsle 값:',  evaluate_org_price(y_test , preds))"
      ],
      "metadata": {
        "id": "3_X7Up3mUZpF"
      },
      "execution_count": null,
      "outputs": []
    },
    {
      "cell_type": "markdown",
      "source": [
        "##**11 정리**\n",
        "\n",
        "- 텍스트 분석을 위한 기반 프로세스를 알아보고 이를 통해 텍스트 분류, 감정 분석, 토픽 모델링, 텍스트 군집화 및 유사도 측정 등을 직접 파이썬 코드를 이용해 구현\n",
        "\n",
        "**머신러닝 기반의 텍스트 분석 프로세스**\n",
        "1. 텍스트 사전 정제 작업 등의 텍스트 정규화\n",
        "2. 단어들을 피처 벡터화로 변환\n",
        "3. 피처 벡터 데이터 세트에 머신러닝 모델 학습 및 예측, 평가\n",
        "\n",
        "<br>\n",
        "\n",
        "감성 분석\n",
        "- 긍정/부정 이진 분류 적용\n",
        "- 감성 사전 Lexicon 이용\n",
        "\n",
        "<br>\n",
        "\n",
        "- K-평균 군집화\n",
        "- 코사인 유사도를 이용해 텍스트 유사도 측정\n",
        "- KoNLPy 패키지: 한글 형태소 분석기"
      ],
      "metadata": {
        "id": "eS3zQDnrnS0Y"
      }
    }
  ]
}